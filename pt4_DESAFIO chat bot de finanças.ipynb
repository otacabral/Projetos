{
 "cells": [
  {
   "cell_type": "markdown",
   "id": "0902f699",
   "metadata": {},
   "source": [
    "### 1.0) Iniciando o desafio"
   ]
  },
  {
   "cell_type": "markdown",
   "id": "84c290fd",
   "metadata": {},
   "source": [
    "Para esse desafio, queremos criar um chatBOT que nos fornece informações em tempo real do mercado financeiro. Para tal, vamos utilizar uma biblioteca do yahoo finance que é outra API para obter esses dados."
   ]
  },
  {
   "cell_type": "markdown",
   "id": "02e5aeae",
   "metadata": {},
   "source": [
    "##### 1º) importando as bibliotecas"
   ]
  },
  {
   "cell_type": "code",
   "execution_count": 1,
   "id": "46879a6c",
   "metadata": {},
   "outputs": [],
   "source": [
    "import json\n",
    "import yfinance as yf\n",
    "import openai\n",
    "from dotenv import load_dotenv, find_dotenv\n",
    "\n",
    "_ = load_dotenv(find_dotenv())\n",
    "client = openai.Client()"
   ]
  },
  {
   "cell_type": "markdown",
   "id": "d3136981",
   "metadata": {},
   "source": [
    "##### 2º) Criando a função"
   ]
  },
  {
   "cell_type": "code",
   "execution_count": 2,
   "id": "5f5f8f0d",
   "metadata": {},
   "outputs": [],
   "source": [
    "def retorna_cotacao_historica(ticker, periodo): # ticker é o nome da ação, e periodo é a data\n",
    "    ticker_obj = yf.Ticker(ticker) # é o objeto da ação listada\n",
    "    hist = ticker_obj.history(period = periodo, auto_adjust=False) # isso gera uma tabela com as datas da ação, mostrando o preço minimo, max, etc...\n",
    "    if len(hist) > 30: # caso eu tenha mais que 30 entradas\n",
    "        slice_size = int(len(hist)/30) # suponha 60 entradas, eu divido em pedaços de 2\n",
    "        hist = hist.iloc[::-slice_size][::-1] ## é um comando para encurtar as entradas dividindo pelo tamanho desejado. Basicamente faz ele pular os dados de acordo com o slice_size\n",
    "    hist.index = hist.index.strftime('%m-%d-%Y') # converte a data para esse formato\n",
    "    return hist['Close'].to_json() #retorna a data de fechamento\n"
   ]
  },
  {
   "cell_type": "markdown",
   "id": "3044a857",
   "metadata": {},
   "source": [
    "##### 3º) Criando o Tools\n"
   ]
  },
  {
   "cell_type": "code",
   "execution_count": 3,
   "id": "5485bd71",
   "metadata": {},
   "outputs": [],
   "source": [
    "tools = [\n",
    "    {\n",
    "        'type':'function',\n",
    "        'function':{\n",
    "            'name':'retorna_cotacao_historica',\n",
    "            'description': 'Retorna a cotação de uma determinada ação em um período definido',\n",
    "            'parameters':{\n",
    "                'type':'object',\n",
    "                'properties':{\n",
    "                    'ticker':{\n",
    "                        'type':'string',\n",
    "                        'description':'É a ação que queremos obter informações'\n",
    "                    },\n",
    "                    'periodo':{\n",
    "                        'type':'string',\n",
    "                        'description':'O período desejado',\n",
    "                        'enum':['1d', '5d', '1mo', '3mo', '6mo', '1y', '2y', '5y', '10y', 'ytd', 'max']\n",
    "                    },\n",
    "                },\n",
    "\n",
    "            },\n",
    "        },\n",
    "    }\n",
    "]"
   ]
  },
  {
   "cell_type": "markdown",
   "id": "62ad6713",
   "metadata": {},
   "source": [
    "##### 4º) Criando o script da pergunta\n"
   ]
  },
  {
   "cell_type": "code",
   "execution_count": 4,
   "id": "064d492b",
   "metadata": {},
   "outputs": [],
   "source": [
    "\n",
    "funcoes_disponiveis = {\n",
    "    'retorna_cotacao_historica': retorna_cotacao_historica\n",
    "}\n",
    "\n",
    "\n",
    "mensagens = [\n",
    "    {'role':'user', 'content':'Qual é a cotação da ambev atual e qual é sua variação de preço em 1 ano?'}\n",
    "]\n",
    "\n",
    "\n",
    "resposta = client.chat.completions.create(\n",
    "    model = 'gpt-3.5-turbo-0125',\n",
    "    messages = mensagens,\n",
    "    tools = tools,\n",
    "    tool_choice = 'auto')"
   ]
  },
  {
   "cell_type": "code",
   "execution_count": 5,
   "id": "ee4f286c",
   "metadata": {},
   "outputs": [
    {
     "data": {
      "text/plain": [
       "ChatCompletion(id='chatcmpl-AuNmad2XWcSp3ZERuKErZZmdnH1Bt', choices=[Choice(finish_reason='tool_calls', index=0, logprobs=None, message=ChatCompletionMessage(content=None, refusal=None, role='assistant', audio=None, function_call=None, tool_calls=[ChatCompletionMessageToolCall(id='call_P9oZt26IwxMx6QMVgw5NsSLe', function=Function(arguments='{\"ticker\": \"ABEV3.SA\", \"periodo\": \"1d\"}', name='retorna_cotacao_historica'), type='function'), ChatCompletionMessageToolCall(id='call_BpNGG0EzJ9YiS6wnJtINHz6R', function=Function(arguments='{\"ticker\": \"ABEV3.SA\", \"periodo\": \"1y\"}', name='retorna_cotacao_historica'), type='function')]))], created=1738001152, model='gpt-3.5-turbo-0125', object='chat.completion', service_tier='default', system_fingerprint=None, usage=CompletionUsage(completion_tokens=76, prompt_tokens=160, total_tokens=236, completion_tokens_details=CompletionTokensDetails(accepted_prediction_tokens=0, audio_tokens=0, reasoning_tokens=0, rejected_prediction_tokens=0), prompt_tokens_details=PromptTokensDetails(audio_tokens=0, cached_tokens=0)))"
      ]
     },
     "execution_count": 5,
     "metadata": {},
     "output_type": "execute_result"
    }
   ],
   "source": [
    "resposta"
   ]
  },
  {
   "cell_type": "code",
   "execution_count": 6,
   "id": "83781a1c",
   "metadata": {},
   "outputs": [],
   "source": [
    "#ChatCompletionMessageToolCall(id='call_yVCl0MV3LB3GV7WdcG9n7HFw', function=Function(arguments='{\"ticker\": \"ABEV3.SA\", \"periodo\": \"1d\"}', name='retorna_cotacao_historica'), type='function')\n",
    "\n",
    "mensagem_resp = resposta.choices[0].message # isso representa a mensagem que o chat deu, leia em resposta\n",
    "tool_calls = mensagem_resp.tool_calls\n",
    "\n",
    "if tool_calls:\n",
    "    mensagens.append(mensagem_resp)\n",
    "    for tool_call in tool_calls:\n",
    "        function_name = tool_call.function.name\n",
    "        function_to_call = funcoes_disponiveis[function_name]\n",
    "        function_arguments = json.loads(tool_call.function.arguments)\n",
    "        function_output = function_to_call(ticker =function_arguments['ticker'], periodo = function_arguments['periodo'])\n",
    "        mensagens.append(\n",
    "            {\n",
    "                'tool_call_id': tool_call.id,\n",
    "                \"role\": \"tool\",\n",
    "                \"name\": function_name,\n",
    "                \"content\": function_output\n",
    "            }\n",
    "        )"
   ]
  },
  {
   "cell_type": "code",
   "execution_count": 7,
   "id": "d6c8e445",
   "metadata": {},
   "outputs": [
    {
     "data": {
      "text/plain": [
       "[{'role': 'user',\n",
       "  'content': 'Qual é a cotação da ambev atual e qual é sua variação de preço em 1 ano?'},\n",
       " ChatCompletionMessage(content=None, refusal=None, role='assistant', audio=None, function_call=None, tool_calls=[ChatCompletionMessageToolCall(id='call_P9oZt26IwxMx6QMVgw5NsSLe', function=Function(arguments='{\"ticker\": \"ABEV3.SA\", \"periodo\": \"1d\"}', name='retorna_cotacao_historica'), type='function'), ChatCompletionMessageToolCall(id='call_BpNGG0EzJ9YiS6wnJtINHz6R', function=Function(arguments='{\"ticker\": \"ABEV3.SA\", \"periodo\": \"1y\"}', name='retorna_cotacao_historica'), type='function')]),\n",
       " {'tool_call_id': 'call_P9oZt26IwxMx6QMVgw5NsSLe',\n",
       "  'role': 'tool',\n",
       "  'name': 'retorna_cotacao_historica',\n",
       "  'content': '{\"01-27-2025\":11.0100002289}'},\n",
       " {'tool_call_id': 'call_BpNGG0EzJ9YiS6wnJtINHz6R',\n",
       "  'role': 'tool',\n",
       "  'name': 'retorna_cotacao_historica',\n",
       "  'content': '{\"01-30-2024\":13.0399999619,\"02-09-2024\":12.9499998093,\"02-23-2024\":12.8900003433,\"03-06-2024\":12.6899995804,\"03-18-2024\":12.6300001144,\"03-28-2024\":12.4899997711,\"04-10-2024\":12.1000003815,\"04-22-2024\":11.9499998093,\"05-03-2024\":12.3699998856,\"05-15-2024\":12.3100004196,\"05-27-2024\":11.8100004196,\"06-07-2024\":11.5600004196,\"06-19-2024\":11.1999998093,\"07-01-2024\":11.4499998093,\"07-11-2024\":11.529999733,\"07-23-2024\":11.779999733,\"08-02-2024\":11.8699998856,\"08-14-2024\":12.5600004196,\"08-26-2024\":13.0799999237,\"09-05-2024\":12.970000267,\"09-17-2024\":12.9600000381,\"09-27-2024\":12.9200000763,\"10-09-2024\":13.0799999237,\"10-21-2024\":12.8299999237,\"10-31-2024\":12.6400003433,\"11-12-2024\":12.5799999237,\"11-26-2024\":12.6099996567,\"12-06-2024\":14.220000267,\"12-18-2024\":12.7600002289,\"01-03-2025\":11.3299999237,\"01-15-2025\":11.3900003433,\"01-27-2025\":11.0100002289}'}]"
      ]
     },
     "execution_count": 7,
     "metadata": {},
     "output_type": "execute_result"
    }
   ],
   "source": [
    "mensagens"
   ]
  },
  {
   "cell_type": "markdown",
   "id": "31347d00",
   "metadata": {},
   "source": [
    "##### 5º) Fazendo a pergunta final\n"
   ]
  },
  {
   "cell_type": "code",
   "execution_count": 8,
   "id": "9a254b36",
   "metadata": {},
   "outputs": [],
   "source": [
    "resp_final = client.chat.completions.create(\n",
    "    model='gpt-3.5-turbo',\n",
    "    messages=mensagens\n",
    ")"
   ]
  },
  {
   "cell_type": "code",
   "execution_count": 10,
   "id": "6399795c",
   "metadata": {},
   "outputs": [
    {
     "data": {
      "text/plain": [
       "'A cotação atual da Ambev é de R$ 11,01. \\n\\nEm um período de 1 ano, a cotação da Ambev variou de R$ 13,04 para R$ 11,01, o que representa uma queda de aproximadamente 15,58%.'"
      ]
     },
     "execution_count": 10,
     "metadata": {},
     "output_type": "execute_result"
    }
   ],
   "source": [
    "resp_final.choices[0].message.content"
   ]
  },
  {
   "cell_type": "markdown",
   "id": "f05890f6",
   "metadata": {},
   "source": [
    "##### 6º) Criando um chatBOT de finanças\n"
   ]
  },
  {
   "cell_type": "code",
   "execution_count": 12,
   "id": "9585fd43",
   "metadata": {},
   "outputs": [],
   "source": [
    "def chat(modelo = 'gpt-3.5-turbo-0125', maximo_tokens = 4000, temperatura = 0):\n",
    "\n",
    "    print('Bem vindo ao chatbot financeiro Otaviofinance')\n",
    "    \n",
    "    \n",
    "\n",
    "\n",
    "    \n",
    "    registro_conversa = []\n",
    "    continua = True\n",
    "    \n",
    "    while continua:\n",
    "        entrada = input('User: ')\n",
    "        print('\\n\\nUser: ' + entrada)\n",
    "        entrada_adaptada = {'role':'user', 'content': entrada}\n",
    "        registro_conversa.append(entrada_adaptada)\n",
    "        \n",
    "\n",
    "        resposta = client.chat.completions.create(\n",
    "        model = 'gpt-3.5-turbo-0125',\n",
    "        messages = registro_conversa,\n",
    "        tools = tools,\n",
    "        tool_choice = 'auto')\n",
    "\n",
    "        mensagem_resp = resposta.choices[0].message # isso representa a mensagem que o chat deu, leia em resposta\n",
    "        tool_calls = mensagem_resp.tool_calls\n",
    "\n",
    "        if tool_calls:\n",
    "            registro_conversa.append(mensagem_resp)\n",
    "            for tool_call in tool_calls:\n",
    "                function_name = tool_call.function.name\n",
    "                function_to_call = funcoes_disponiveis[function_name]\n",
    "                function_arguments = json.loads(tool_call.function.arguments)\n",
    "                function_output = function_to_call(ticker =function_arguments['ticker'], periodo = function_arguments['periodo'])\n",
    "                registro_conversa.append(\n",
    "                    {\n",
    "                        'tool_call_id': tool_call.id,\n",
    "                        \"role\": \"tool\",\n",
    "                        \"name\": function_name,\n",
    "                        \"content\": function_output\n",
    "                    }\n",
    "                )\n",
    "            \n",
    "            \n",
    "            Rfinal = ''\n",
    "            resposta = client.chat.completions.create(\n",
    "            messages = registro_conversa,\n",
    "            model=modelo,\n",
    "            max_tokens=maximo_tokens,\n",
    "            temperature=temperatura,\n",
    "            stream = True\n",
    "            )\n",
    "            \n",
    "            print('\\nAssistant: ', end='')\n",
    "            for chunks in resposta:\n",
    "                pedaco_de_texto = chunks.choices[0].delta.content\n",
    "                if pedaco_de_texto != None: ## o último content tem esse \"none\" não sei porque\n",
    "                    Rfinal += pedaco_de_texto\n",
    "                    print(pedaco_de_texto, end = '')\n",
    "            registro_conversa.append({'role':'assistant', 'content': Rfinal})\n",
    "            continua = input('Deseja Continuar? (sim ou não)')\n",
    "            if continua == 'sim':\n",
    "                continua = True\n",
    "            else:\n",
    "                continua = False\n",
    "\n",
    "        else:\n",
    "            Rfinal = ''\n",
    "            resposta = client.chat.completions.create(\n",
    "            messages = registro_conversa,\n",
    "            model=modelo,\n",
    "            max_tokens=maximo_tokens,\n",
    "            temperature=temperatura,\n",
    "            stream = True\n",
    "            )\n",
    "            \n",
    "            print('\\nAssistant: ', end='')\n",
    "            for chunks in resposta:\n",
    "                pedaco_de_texto = chunks.choices[0].delta.content\n",
    "                if pedaco_de_texto != None: ## o último content tem esse \"none\" não sei porque\n",
    "                    Rfinal += pedaco_de_texto\n",
    "                    print(pedaco_de_texto, end = '')\n",
    "            registro_conversa.append({'role':'assistant', 'content': Rfinal})\n",
    "            continua = input('Deseja Continuar? (sim ou não)')\n",
    "            if continua == 'sim':\n",
    "                continua = True\n",
    "            else:\n",
    "                continua = False\n",
    "    return registro_conversa"
   ]
  },
  {
   "cell_type": "code",
   "execution_count": 13,
   "id": "3d8c2dc1",
   "metadata": {},
   "outputs": [
    {
     "name": "stdout",
     "output_type": "stream",
     "text": [
      "Bem vindo ao chatbot financeiro Otaviofinance\n",
      "\n",
      "\n",
      "User: Qual é a cotação da ambev atual e qual é sua variação de preço em 1 ano?\n",
      "\n",
      "Assistant: A cotação atual da Ambev (ABEV3.SA) é de R$ 11,00. \n",
      "\n",
      "Em um período de 1 ano, a variação de preço da Ambev foi a seguinte:\n",
      "- Há 1 ano: R$ 13,04\n",
      "- Hoje: R$ 11,00\n",
      "\n",
      "Portanto, a variação de preço em 1 ano foi de -15,61%.\n",
      "\n",
      "User: agora me diga o mesmo para a ação da apple\n",
      "\n",
      "Assistant: A cotação atual da Apple (AAPL) é de $231,60.\n",
      "\n",
      "Em um período de 1 ano, a variação de preço da Apple foi a seguinte:\n",
      "- Há 1 ano: $188,04\n",
      "- Hoje: $231,60\n",
      "\n",
      "Portanto, a variação de preço em 1 ano foi de 23,17%."
     ]
    }
   ],
   "source": [
    "chat1 = chat()"
   ]
  }
 ],
 "metadata": {
  "kernelspec": {
   "display_name": "Python 3",
   "language": "python",
   "name": "python3"
  },
  "language_info": {
   "codemirror_mode": {
    "name": "ipython",
    "version": 3
   },
   "file_extension": ".py",
   "mimetype": "text/x-python",
   "name": "python",
   "nbconvert_exporter": "python",
   "pygments_lexer": "ipython3",
   "version": "3.10.11"
  }
 },
 "nbformat": 4,
 "nbformat_minor": 5
}
