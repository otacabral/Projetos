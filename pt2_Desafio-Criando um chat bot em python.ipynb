{
 "cells": [
  {
   "cell_type": "markdown",
   "id": "847241b6",
   "metadata": {},
   "source": [
    "### 1.0) Criando um chatbot através do API da OpenAI"
   ]
  },
  {
   "cell_type": "markdown",
   "id": "d5727eb6",
   "metadata": {},
   "source": [
    "Primeiro, iremos importar as bibliotecas necessárias."
   ]
  },
  {
   "cell_type": "markdown",
   "id": "f607ed3a",
   "metadata": {},
   "source": [
    "OBS: A chave para o uso da api foi salva em um arquivo .env"
   ]
  },
  {
   "cell_type": "code",
   "execution_count": 1,
   "id": "a1d51ccb",
   "metadata": {},
   "outputs": [],
   "source": [
    "import openai\n",
    "from dotenv import load_dotenv, find_dotenv\n",
    "\n",
    "_ = load_dotenv(find_dotenv())\n",
    "client = openai.Client()"
   ]
  },
  {
   "cell_type": "code",
   "execution_count": 2,
   "id": "421ef7d9",
   "metadata": {},
   "outputs": [],
   "source": [
    "\n",
    "\n",
    "def chat(modelo = 'gpt-3.5-turbo-0125', maximo_tokens = 4000, temperatura = 0):\n",
    "\n",
    "    print('Bem vindo ao chatbot OtavioChat')\n",
    "    \n",
    "    \n",
    "    registro_conversa = []\n",
    "    continua = True\n",
    "    \n",
    "    while continua:\n",
    "        entrada = input('User: ')\n",
    "        print('\\n\\nUser: ' + entrada)\n",
    "        entrada_adaptada = {'role':'user', 'content': entrada}\n",
    "        registro_conversa.append(entrada_adaptada)\n",
    "        \n",
    "        Rfinal = ''\n",
    "        resposta = client.chat.completions.create(\n",
    "        messages = registro_conversa,\n",
    "        model=modelo,\n",
    "        max_tokens=maximo_tokens,\n",
    "        temperature=temperatura,\n",
    "        stream = True\n",
    "        )\n",
    "        \n",
    "        print('\\nAssistant: ', end='')\n",
    "        for chunks in resposta:\n",
    "            pedaco_de_texto = chunks.choices[0].delta.content\n",
    "            if pedaco_de_texto != None: ## o último content tem esse \"none\" não sei porque\n",
    "                Rfinal += pedaco_de_texto\n",
    "                print(pedaco_de_texto, end = '')\n",
    "        registro_conversa.append({'role':'assistant', 'content': Rfinal})\n",
    "        continua = input('Deseja Continuar? (sim ou não)')\n",
    "        if continua == 'sim':\n",
    "            continua = True\n",
    "        else:\n",
    "            continua = False\n",
    "    return registro_conversa\n"
   ]
  },
  {
   "cell_type": "markdown",
   "id": "4e38c420",
   "metadata": {},
   "source": [
    "### O que foi feito:\n",
    "\n",
    "criamos uma função que chama o chatbot. Quando acionamos ela, ele já cria um registro da conversa em uma lista. Depois disso, entra em um loop no qual o usuário da uma entrada do que deseja. Essa entrada é salva no registro da conversa.\n",
    "Com isso, acionamos a resposta do chat por chunks em função desse registro de conversa. No final, registramos a resposta do chat no registro e perguntamos se deseja continuar. Caso continue, o while se mantém ativo. O input de entrada é resetado\n",
    "e com isso, adicionamos a nova pergunta no registro da conversa novamente\n",
    "\n",
    "#### MUITO IMPORTANTE\n",
    "\n",
    "Nós devemos sempre colocar o **REGISTRO DO CHAT** no gerador de resposta. Pois assim, ele consegue gerar respostas RELACIONADAS com tudo que já foi falado. Para você entender o quão importante é isso, primeiramente eu fiz o programa em que eu não passei o registro da conversa,\n",
    "mas sim inputs distintos. Quando perguntei para ele se existiu outros cientistas que refutaram a teoria, ele achou que estava falando de cientistas que refutaram a teoria de darwin. "
   ]
  },
  {
   "cell_type": "code",
   "execution_count": 3,
   "id": "4d6be5c3",
   "metadata": {},
   "outputs": [
    {
     "name": "stdout",
     "output_type": "stream",
     "text": [
      "Bem vindo ao chatbot OtavioChat\n",
      "User: Me fale sobre a teoria da relatividade\n",
      "\n",
      "\n",
      "User: Me fale sobre a teoria da relatividade\n",
      "\n",
      "Assistant: A teoria da relatividade é uma das teorias mais importantes da física moderna, proposta por Albert Einstein no início do século XX. Ela é composta por duas partes: a teoria da relatividade restrita e a teoria da relatividade geral.\n",
      "\n",
      "A teoria da relatividade restrita, proposta por Einstein em 1905, postula que as leis da física são as mesmas para todos os observadores que se movem em velocidades constantes em relação uns aos outros. Isso significa que não existe um referencial absoluto no universo e que o tempo, o espaço e a massa são relativos, dependendo da velocidade do observador.\n",
      "\n",
      "Já a teoria da relatividade geral, proposta por Einstein em 1915, descreve a gravidade como a curvatura do espaço-tempo causada pela presença de massa e energia. Segundo essa teoria, corpos massivos como planetas e estrelas curvam o espaço ao seu redor, o que faz com que outros corpos se movam ao longo dessa curvatura, seguindo trajetórias curvas.\n",
      "\n",
      "A teoria da relatividade revolucionou a física ao propor uma nova maneira de entender o universo, levando a descobertas como a dilatação do tempo, a contração do espaço e a equivalência entre massa e energia (E=mc²). Ela também teve importantes aplicações práticas, como na previsão da existência de buracos negros e na explicação da expansão do universo.Deseja Continuar? (sim ou não)sim\n",
      "User: o que motivou einstein à estuda-la?\n",
      "\n",
      "\n",
      "User: o que motivou einstein à estuda-la?\n",
      "\n",
      "Assistant: Albert Einstein foi motivado a estudar a teoria da relatividade devido a algumas questões e contradições que surgiram na física da época. Uma das principais motivações foi a incompatibilidade entre a mecânica newtoniana e o eletromagnetismo, que eram os pilares da física clássica até então.\n",
      "\n",
      "Einstein percebeu que as equações de Maxwell, que descrevem o comportamento dos campos elétricos e magnéticos, não eram consistentes com a teoria newtoniana do movimento. Além disso, ele se interessava por problemas relacionados à luz e ao espaço-tempo, o que o levou a questionar a natureza da gravidade e da própria realidade física.\n",
      "\n",
      "Essas contradições e questões levaram Einstein a desenvolver a teoria da relatividade, que propôs uma nova maneira de entender o universo, unificando o espaço e o tempo em uma única entidade chamada espaço-tempo e reformulando as leis da física de uma maneira mais abrangente e coerente.Deseja Continuar? (sim ou não)não\n"
     ]
    }
   ],
   "source": [
    "chat = chat()"
   ]
  },
  {
   "cell_type": "code",
   "execution_count": 5,
   "id": "26400116",
   "metadata": {},
   "outputs": [
    {
     "data": {
      "text/plain": [
       "[{'role': 'user', 'content': 'Me fale sobre a teoria da relatividade'},\n",
       " {'role': 'assistant',\n",
       "  'content': 'A teoria da relatividade é uma das teorias mais importantes da física moderna, proposta por Albert Einstein no início do século XX. Ela é composta por duas partes: a teoria da relatividade restrita e a teoria da relatividade geral.\\n\\nA teoria da relatividade restrita, proposta por Einstein em 1905, postula que as leis da física são as mesmas para todos os observadores que se movem em velocidades constantes em relação uns aos outros. Isso significa que não existe um referencial absoluto no universo e que o tempo, o espaço e a massa são relativos, dependendo da velocidade do observador.\\n\\nJá a teoria da relatividade geral, proposta por Einstein em 1915, descreve a gravidade como a curvatura do espaço-tempo causada pela presença de massa e energia. Segundo essa teoria, corpos massivos como planetas e estrelas curvam o espaço ao seu redor, o que faz com que outros corpos se movam ao longo dessa curvatura, seguindo trajetórias curvas.\\n\\nA teoria da relatividade revolucionou a física ao propor uma nova maneira de entender o universo, levando a descobertas como a dilatação do tempo, a contração do espaço e a equivalência entre massa e energia (E=mc²). Ela também teve importantes aplicações práticas, como na previsão da existência de buracos negros e na explicação da expansão do universo.'},\n",
       " {'role': 'user', 'content': 'o que motivou einstein à estuda-la?'},\n",
       " {'role': 'assistant',\n",
       "  'content': 'Albert Einstein foi motivado a estudar a teoria da relatividade devido a algumas questões e contradições que surgiram na física da época. Uma das principais motivações foi a incompatibilidade entre a mecânica newtoniana e o eletromagnetismo, que eram os pilares da física clássica até então.\\n\\nEinstein percebeu que as equações de Maxwell, que descrevem o comportamento dos campos elétricos e magnéticos, não eram consistentes com a teoria newtoniana do movimento. Além disso, ele se interessava por problemas relacionados à luz e ao espaço-tempo, o que o levou a questionar a natureza da gravidade e da própria realidade física.\\n\\nEssas contradições e questões levaram Einstein a desenvolver a teoria da relatividade, que propôs uma nova maneira de entender o universo, unificando o espaço e o tempo em uma única entidade chamada espaço-tempo e reformulando as leis da física de uma maneira mais abrangente e coerente.'}]"
      ]
     },
     "execution_count": 5,
     "metadata": {},
     "output_type": "execute_result"
    }
   ],
   "source": [
    "chat ## Resumo da conversa"
   ]
  }
 ],
 "metadata": {
  "kernelspec": {
   "display_name": "Python 3 (ipykernel)",
   "language": "python",
   "name": "python3"
  },
  "language_info": {
   "codemirror_mode": {
    "name": "ipython",
    "version": 3
   },
   "file_extension": ".py",
   "mimetype": "text/x-python",
   "name": "python",
   "nbconvert_exporter": "python",
   "pygments_lexer": "ipython3",
   "version": "3.9.13"
  }
 },
 "nbformat": 4,
 "nbformat_minor": 5
}
