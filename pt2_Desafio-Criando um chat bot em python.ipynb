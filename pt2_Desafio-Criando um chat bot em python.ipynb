{
 "cells": [
  {
   "cell_type": "markdown",
   "id": "847241b6",
   "metadata": {},
   "source": [
    "### 1.0) Criando um chatbot através do API da OpenAI"
   ]
  },
  {
   "cell_type": "markdown",
   "id": "d5727eb6",
   "metadata": {},
   "source": [
    "Primeiro, iremos importar as bibliotecas necessárias."
   ]
  },
  {
   "cell_type": "markdown",
   "id": "a84ec7c9",
   "metadata": {},
   "source": [
    "OBS: A chave para o uso da api foi salva em um arquivo .env"
   ]
  },
  {
   "cell_type": "code",
   "execution_count": 1,
   "id": "a1d51ccb",
   "metadata": {},
   "outputs": [],
   "source": [
    "import openai\n",
    "from dotenv import load_dotenv, find_dotenv\n",
    "\n",
    "_ = load_dotenv(find_dotenv())\n",
    "client = openai.Client()"
   ]
  },
  {
   "cell_type": "code",
   "execution_count": 2,
   "id": "421ef7d9",
   "metadata": {},
   "outputs": [],
   "source": [
    "\n",
    "\n",
    "def chat(modelo = 'gpt-3.5-turbo-0125', maximo_tokens = 4000, temperatura = 0):\n",
    "\n",
    "    print('Bem vindo ao chatbot OtavioChat')\n",
    "    \n",
    "    \n",
    "    registro_conversa = []\n",
    "    continua = True\n",
    "    \n",
    "    while continua:\n",
    "        entrada = input('User: ')\n",
    "        print('\\n\\nUser: ' + entrada)\n",
    "        entrada_adaptada = {'role':'user', 'content': entrada}\n",
    "        registro_conversa.append(entrada_adaptada)\n",
    "        \n",
    "        Rfinal = ''\n",
    "        resposta = client.chat.completions.create(\n",
    "        messages = registro_conversa,\n",
    "        model=modelo,\n",
    "        max_tokens=maximo_tokens,\n",
    "        temperature=temperatura,\n",
    "        stream = True\n",
    "        )\n",
    "        \n",
    "        print('\\nAssistant: ', end='')\n",
    "        for chunks in resposta:\n",
    "            pedaco_de_texto = chunks.choices[0].delta.content\n",
    "            if pedaco_de_texto != None: ## o último content tem esse \"none\" não sei porque\n",
    "                Rfinal += pedaco_de_texto\n",
    "                print(pedaco_de_texto, end = '')\n",
    "        registro_conversa.append({'role':'assistant', 'content': Rfinal})\n",
    "        continua = input('Deseja Continuar? (sim ou não)')\n",
    "        if continua == 'sim':\n",
    "            continua = True\n",
    "        else:\n",
    "            continua = False\n",
    "    return registro_conversa\n"
   ]
  },
  {
   "cell_type": "code",
   "execution_count": 4,
   "id": "9194299b",
   "metadata": {},
   "outputs": [
    {
     "name": "stdout",
     "output_type": "stream",
     "text": [
      "Bem vindo ao chatbot OtavioChat\n",
      "\n",
      "\n",
      "User: me fale sobre a teoria da relatividade\n",
      "\n",
      "Assistant: A teoria da relatividade é uma das teorias mais importantes da física moderna, proposta por Albert Einstein no início do século XX. Ela é composta por duas partes: a teoria da relatividade restrita e a teoria da relatividade geral.\n",
      "\n",
      "A teoria da relatividade restrita, proposta por Einstein em 1905, estabelece que as leis da física são as mesmas para todos os observadores que se movem em velocidades constantes e uniformes em relação uns aos outros. Isso significa que não existe um referencial absoluto no universo e que o tempo, o espaço e a massa são relativos, dependendo do movimento do observador.\n",
      "\n",
      "Já a teoria da relatividade geral, proposta por Einstein em 1915, descreve a gravidade como a curvatura do espaço-tempo causada pela presença de massa e energia. Segundo essa teoria, corpos massivos como planetas e estrelas curvam o espaço ao seu redor, criando o que chamamos de campo gravitacional.\n",
      "\n",
      "A teoria da relatividade revolucionou a forma como entendemos o universo e teve importantes consequências práticas, como a previsão da existência de buracos negros, a explicação da curvatura da luz em torno de objetos massivos e a compreensão da expansão do universo. Ela também é a base para muitas tecnologias modernas, como o GPS.\n",
      "\n",
      "Em resumo, a teoria da relatividade de Einstein mudou nossa compreensão do espaço, do tempo e da gravidade, e continua sendo uma das teorias mais fundamentais e influentes da física.\n",
      "\n",
      "User: teve algum outro cientista que tentou refuta-la?\n",
      "\n",
      "Assistant: Sim, ao longo dos anos, houve várias tentativas de refutar a teoria da relatividade de Einstein. Um dos críticos mais famosos da teoria da relatividade foi o físico alemão Philipp Lenard, que ganhou o Prêmio Nobel de Física em 1905. Lenard era um crítico ferrenho das ideias de Einstein e tentou refutar a teoria da relatividade restrita, argumentando que ela era inconsistente e contraditória.\n",
      "\n",
      "Outro crítico notável foi o físico austríaco Ernst Mach, que questionou a validade da teoria da relatividade geral de Einstein. Mach acreditava que a teoria da relatividade geral não era fundamentada em observações empíricas e que era baseada em suposições filosóficas questionáveis.\n",
      "\n",
      "No entanto, apesar das críticas e tentativas de refutação, a teoria da relatividade de Einstein resistiu ao teste do tempo e continua sendo uma das teorias mais bem-sucedidas e amplamente aceitas na física moderna. Ela foi confirmada por inúmeras observações experimentais e é consistentemente utilizada para explicar uma ampla gama de fenômenos físicos no universo.\n",
      "\n",
      "User: muito interessante!\n",
      "\n",
      "Assistant: Fico feliz que tenha achado interessante! A teoria da relatividade é realmente fascinante e tem tido um impacto significativo na nossa compreensão do universo. Se tiver mais perguntas ou quiser saber mais sobre algum outro assunto, estou à disposição para ajudar. É sempre um prazer conversar sobre ciência e descobertas científicas."
     ]
    }
   ],
   "source": [
    "chat1 = chat()"
   ]
  },
  {
   "cell_type": "code",
   "execution_count": 5,
   "id": "96ff862f",
   "metadata": {},
   "outputs": [
    {
     "data": {
      "text/plain": [
       "[{'role': 'user', 'content': 'me fale sobre a teoria da relatividade'},\n",
       " {'role': 'assistant',\n",
       "  'content': 'A teoria da relatividade é uma das teorias mais importantes da física moderna, proposta por Albert Einstein no início do século XX. Ela é composta por duas partes: a teoria da relatividade restrita e a teoria da relatividade geral.\\n\\nA teoria da relatividade restrita, proposta por Einstein em 1905, estabelece que as leis da física são as mesmas para todos os observadores que se movem em velocidades constantes e uniformes em relação uns aos outros. Isso significa que não existe um referencial absoluto no universo e que o tempo, o espaço e a massa são relativos, dependendo do movimento do observador.\\n\\nJá a teoria da relatividade geral, proposta por Einstein em 1915, descreve a gravidade como a curvatura do espaço-tempo causada pela presença de massa e energia. Segundo essa teoria, corpos massivos como planetas e estrelas curvam o espaço ao seu redor, criando o que chamamos de campo gravitacional.\\n\\nA teoria da relatividade revolucionou a forma como entendemos o universo e teve importantes consequências práticas, como a previsão da existência de buracos negros, a explicação da curvatura da luz em torno de objetos massivos e a compreensão da expansão do universo. Ela também é a base para muitas tecnologias modernas, como o GPS.\\n\\nEm resumo, a teoria da relatividade de Einstein mudou nossa compreensão do espaço, do tempo e da gravidade, e continua sendo uma das teorias mais fundamentais e influentes da física.'},\n",
       " {'role': 'user',\n",
       "  'content': 'teve algum outro cientista que tentou refuta-la?'},\n",
       " {'role': 'assistant',\n",
       "  'content': 'Sim, ao longo dos anos, houve várias tentativas de refutar a teoria da relatividade de Einstein. Um dos críticos mais famosos da teoria da relatividade foi o físico alemão Philipp Lenard, que ganhou o Prêmio Nobel de Física em 1905. Lenard era um crítico ferrenho das ideias de Einstein e tentou refutar a teoria da relatividade restrita, argumentando que ela era inconsistente e contraditória.\\n\\nOutro crítico notável foi o físico austríaco Ernst Mach, que questionou a validade da teoria da relatividade geral de Einstein. Mach acreditava que a teoria da relatividade geral não era fundamentada em observações empíricas e que era baseada em suposições filosóficas questionáveis.\\n\\nNo entanto, apesar das críticas e tentativas de refutação, a teoria da relatividade de Einstein resistiu ao teste do tempo e continua sendo uma das teorias mais bem-sucedidas e amplamente aceitas na física moderna. Ela foi confirmada por inúmeras observações experimentais e é consistentemente utilizada para explicar uma ampla gama de fenômenos físicos no universo.'},\n",
       " {'role': 'user', 'content': 'muito interessante!'},\n",
       " {'role': 'assistant',\n",
       "  'content': 'Fico feliz que tenha achado interessante! A teoria da relatividade é realmente fascinante e tem tido um impacto significativo na nossa compreensão do universo. Se tiver mais perguntas ou quiser saber mais sobre algum outro assunto, estou à disposição para ajudar. É sempre um prazer conversar sobre ciência e descobertas científicas.'}]"
      ]
     },
     "execution_count": 5,
     "metadata": {},
     "output_type": "execute_result"
    }
   ],
   "source": [
    "chat1"
   ]
  },
  {
   "cell_type": "code",
   "execution_count": 6,
   "id": "8cf47188",
   "metadata": {},
   "outputs": [
    {
     "name": "stdout",
     "output_type": "stream",
     "text": [
      "Bem vindo ao chatbot OtavioChat\n",
      "\n",
      "\n",
      "User: quando foi descoberto a terra como uma esfera e não plana?\n",
      "\n",
      "Assistant: A ideia de que a Terra é uma esfera e não plana remonta à antiguidade, com evidências de que os antigos gregos já tinham essa compreensão por volta do século VI a.C. No entanto, a confirmação definitiva de que a Terra é uma esfera veio com as observações de astrônomos e cientistas ao longo dos séculos.\n",
      "\n",
      "Uma das primeiras evidências concretas da forma esférica da Terra veio com as observações de Eratóstenes, um matemático grego que viveu no século III a.C. Ele calculou a circunferência da Terra com base na diferença de ângulos de sombras em diferentes locais durante o solstício de verão, chegando a um valor muito próximo do correto.\n",
      "\n",
      "No entanto, a ideia de que a Terra era plana persistiu por muito tempo, especialmente na Idade Média, devido a interpretações errôneas de textos religiosos e filosóficos. Foi somente com as viagens de exploração marítima nos séculos XV e XVI, como as de Cristóvão Colombo e Fernão de Magalhães, que a ideia de uma Terra esférica se tornou amplamente aceita.\n",
      "\n",
      "User: em que época foi isso?\n",
      "\n",
      "Assistant: A ideia de que a Terra é uma esfera e não plana remonta à antiguidade, com os antigos gregos já tendo essa compreensão por volta do século VI a.C. No entanto, a confirmação definitiva veio com as observações e cálculos de Eratóstenes no século III a.C.\n",
      "\n",
      "Durante a Idade Média, a ideia de uma Terra plana persistiu devido a interpretações errôneas de textos religiosos e filosóficos, mas as viagens de exploração marítima nos séculos XV e XVI, como as de Cristóvão Colombo e Fernão de Magalhães, contribuíram para a aceitação generalizada da Terra como uma esfera."
     ]
    }
   ],
   "source": [
    "chat2 = chat()"
   ]
  },
  {
   "cell_type": "code",
   "execution_count": 7,
   "id": "c15b2a71",
   "metadata": {},
   "outputs": [
    {
     "data": {
      "text/plain": [
       "[{'role': 'user',\n",
       "  'content': 'quando foi descoberto a terra como uma esfera e não plana?'},\n",
       " {'role': 'assistant',\n",
       "  'content': 'A ideia de que a Terra é uma esfera e não plana remonta à antiguidade, com evidências de que os antigos gregos já tinham essa compreensão por volta do século VI a.C. No entanto, a confirmação definitiva de que a Terra é uma esfera veio com as observações de astrônomos e cientistas ao longo dos séculos.\\n\\nUma das primeiras evidências concretas da forma esférica da Terra veio com as observações de Eratóstenes, um matemático grego que viveu no século III a.C. Ele calculou a circunferência da Terra com base na diferença de ângulos de sombras em diferentes locais durante o solstício de verão, chegando a um valor muito próximo do correto.\\n\\nNo entanto, a ideia de que a Terra era plana persistiu por muito tempo, especialmente na Idade Média, devido a interpretações errôneas de textos religiosos e filosóficos. Foi somente com as viagens de exploração marítima nos séculos XV e XVI, como as de Cristóvão Colombo e Fernão de Magalhães, que a ideia de uma Terra esférica se tornou amplamente aceita.'},\n",
       " {'role': 'user', 'content': 'em que época foi isso?'},\n",
       " {'role': 'assistant',\n",
       "  'content': 'A ideia de que a Terra é uma esfera e não plana remonta à antiguidade, com os antigos gregos já tendo essa compreensão por volta do século VI a.C. No entanto, a confirmação definitiva veio com as observações e cálculos de Eratóstenes no século III a.C.\\n\\nDurante a Idade Média, a ideia de uma Terra plana persistiu devido a interpretações errôneas de textos religiosos e filosóficos, mas as viagens de exploração marítima nos séculos XV e XVI, como as de Cristóvão Colombo e Fernão de Magalhães, contribuíram para a aceitação generalizada da Terra como uma esfera.'}]"
      ]
     },
     "execution_count": 7,
     "metadata": {},
     "output_type": "execute_result"
    }
   ],
   "source": [
    "chat2"
   ]
  },
  {
   "cell_type": "markdown",
   "id": "4e38c420",
   "metadata": {},
   "source": [
    "### O que foi feito:\n",
    "\n",
    "criamos uma função que chama o chatbot. Quando acionamos ela, ele já cria um registro da conversa em uma lista. Depois disso, entra em um loop no qual o usuário da uma entrada do que deseja. Essa entrada é salva no registro da conversa.\n",
    "Com isso, acionamos a resposta do chat por chunks em função desse registro de conversa. No final, registramos a resposta do chat no registro e perguntamos se deseja continuar. Caso continue, o while se mantém ativo. O input de entrada é resetado\n",
    "e com isso, adicionamos a nova pergunta no registro da conversa novamente\n",
    "\n",
    "#### MUITO IMPORTANTE\n",
    "\n",
    "Nós devemos sempre colocar o **REGISTRO DO CHAT** no gerador de resposta. Pois assim, ele consegue gerar respostas RELACIONADAS com tudo que já foi falado. Para você entender o quão importante é isso, primeiramente eu fiz o programa em que eu não passei o registro da conversa,\n",
    "mas sim inputs distintos. Quando perguntei para ele se existiu outros cientistas que refutaram a teoria, ele achou que estava falando de cientistas que refutaram a teoria de darwin. "
   ]
  }
 ],
 "metadata": {
  "kernelspec": {
   "display_name": "Python 3 (ipykernel)",
   "language": "python",
   "name": "python3"
  },
  "language_info": {
   "codemirror_mode": {
    "name": "ipython",
    "version": 3
   },
   "file_extension": ".py",
   "mimetype": "text/x-python",
   "name": "python",
   "nbconvert_exporter": "python",
   "pygments_lexer": "ipython3",
   "version": "3.9.13"
  }
 },
 "nbformat": 4,
 "nbformat_minor": 5
}
