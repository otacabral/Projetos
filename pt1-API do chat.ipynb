{
 "cells": [
  {
   "cell_type": "markdown",
   "id": "26bca20c",
   "metadata": {},
   "source": [
    "### 1.0) API?"
   ]
  },
  {
   "cell_type": "markdown",
   "id": "a9fc6a37",
   "metadata": {},
   "source": [
    "API é a ponte entre softwares. Consiste em um fornecimento de capacidades para outros aplicativos ou softwares."
   ]
  },
  {
   "cell_type": "markdown",
   "id": "031b65dd",
   "metadata": {},
   "source": [
    "A interface, que seria o próprio site do chat GPT, exige uma interação manual e um pouco limitada para resolução. Já a API com a conexão a outros softwares de programação, consegue extrair mais profundamente suas especificidades."
   ]
  },
  {
   "cell_type": "markdown",
   "id": "fba01d33",
   "metadata": {},
   "source": [
    "### 1.1) Aprendendo a fazer perguntas e receber respostas do chat em python"
   ]
  },
  {
   "cell_type": "code",
   "execution_count": 2,
   "id": "d32f454b",
   "metadata": {},
   "outputs": [],
   "source": [
    "### importando a api do chat\n",
    "import openai"
   ]
  },
  {
   "cell_type": "markdown",
   "id": "a8978f1b",
   "metadata": {},
   "source": [
    "Caso não tenha essa biblioteca instalada, utilize o comando !pip install openai"
   ]
  },
  {
   "cell_type": "markdown",
   "id": "6d856107",
   "metadata": {},
   "source": [
    "Agora, devemos conectar nossa chave ao client da openAI. No site da API da openAI você consegue criar uma chave de uso com facilidade."
   ]
  },
  {
   "cell_type": "markdown",
   "id": "b806f9f8",
   "metadata": {},
   "source": [
    "Como a chave é uma particularidade do usuário, vamos salva-la em um arquivo chamado de arquivo .ENV"
   ]
  },
  {
   "cell_type": "markdown",
   "id": "71729fab",
   "metadata": {},
   "source": [
    "Para fazer isso, basta criar um novo arquivo do seu diretório chamado .env\n",
    "\n",
    "Após isso, escreva exatamente dessa forma:\n",
    "\n",
    "OPENAI_API_KEY = (sua chave da OpenAI)"
   ]
  },
  {
   "cell_type": "markdown",
   "id": "dc0edddf",
   "metadata": {},
   "source": [
    "Esse arquivo é como um lugar secreto disponivel apenas para o usuário, sem dar permissão de outras pessoas terem acesso"
   ]
  },
  {
   "cell_type": "markdown",
   "id": "b716a4c1",
   "metadata": {},
   "source": [
    "Para acessa-lo, vamos fazer o seguinte:"
   ]
  },
  {
   "cell_type": "code",
   "execution_count": 4,
   "id": "43e7f11c",
   "metadata": {},
   "outputs": [],
   "source": [
    "## !pip install dotenv (caso não tenha instalado)\n",
    "\n",
    "from dotenv import load_dotenv, find_dotenv\n",
    "\n",
    "_ = load_dotenv(find_dotenv())"
   ]
  },
  {
   "cell_type": "code",
   "execution_count": 4,
   "id": "602680bd",
   "metadata": {},
   "outputs": [],
   "source": [
    "client = openai.Client()"
   ]
  },
  {
   "cell_type": "markdown",
   "id": "88f24339",
   "metadata": {},
   "source": [
    "Explicando os dois códigos acima. O load_dotenv carrega a chave que colocamos lá no arquivo .env\n",
    "quando rodamos o código openai.Client ele consegue acessar porque a chave já tinha sido carregada.\n",
    "\n",
    "Caso não fizessemos isso, teríamos que colocar a chave dentro do comando Client()"
   ]
  },
  {
   "cell_type": "markdown",
   "id": "b538f1f7",
   "metadata": {},
   "source": [
    "#### Como enviar perguntas e recebe-las?"
   ]
  },
  {
   "cell_type": "markdown",
   "id": "6bf25df7",
   "metadata": {},
   "source": [
    "Agora vamos para a parte que interessa"
   ]
  },
  {
   "cell_type": "code",
   "execution_count": 5,
   "id": "24fc31d9",
   "metadata": {},
   "outputs": [
    {
     "data": {
      "text/plain": [
       "ChatCompletion(id='chatcmpl-Avrm3iPrdTk3dRuG37J7jBA7RnZWD', choices=[Choice(finish_reason='stop', index=0, logprobs=None, message=ChatCompletionMessage(content='Fruta redonda e saborosa.', refusal=None, role='assistant', audio=None, function_call=None, tool_calls=None))], created=1738354767, model='gpt-3.5-turbo-0125', object='chat.completion', service_tier='default', system_fingerprint=None, usage=CompletionUsage(completion_tokens=10, prompt_tokens=20, total_tokens=30, completion_tokens_details=CompletionTokensDetails(accepted_prediction_tokens=0, audio_tokens=0, reasoning_tokens=0, rejected_prediction_tokens=0), prompt_tokens_details=PromptTokensDetails(audio_tokens=0, cached_tokens=0)))"
      ]
     },
     "execution_count": 5,
     "metadata": {},
     "output_type": "execute_result"
    }
   ],
   "source": [
    "#criando a pergunta\n",
    "\n",
    "mensagem = [{'role':'user', 'content': 'o que é uma maçã em 5 palavras?'}]\n",
    "\n",
    "resposta = client.chat.completions.create(\n",
    "    messages=mensagem,\n",
    "    model = 'gpt-3.5-turbo-0125',\n",
    "    max_tokens=1000,\n",
    "    temperature=0\n",
    ")\n",
    "\n",
    "resposta"
   ]
  },
  {
   "cell_type": "markdown",
   "id": "3a93f6cb",
   "metadata": {},
   "source": [
    "Explicando brevemente, Primeiro, a mensagem que criamos fizemos uma lista de um dicionário. Isso porque, se você analisar uma conversa com o chat, sempres temos uma pergunta (dicionário com o \"role\"(cargo) sendo user) e a resposta do chat, que seria outro dicionário com o \"role\" sendo assistant. A lista nada mais é do que o conjunto de dicionários sendo este as perguntas e as respostas.\n",
    "\n",
    "se você reparar, o comando \"resposta\" que criamos, contém como parametrôs a mensagem, o modelo que queremos que gere a resposta, o número de tokens para a resposta e a temperatura que seria o quão \"viajado\" é a resposta\n",
    "\n",
    "além disso, quando rodamos \"resposta\", obtemos um objeto com várias atribuições e métodos. Para obter a resposta em si, temos que ir \"\"\"cavando\"\"\" os atributos até chegar nela"
   ]
  },
  {
   "cell_type": "code",
   "execution_count": 9,
   "id": "76d6e0e7",
   "metadata": {},
   "outputs": [
    {
     "data": {
      "text/plain": [
       "'Fruta redonda e saborosa.'"
      ]
     },
     "execution_count": 9,
     "metadata": {},
     "output_type": "execute_result"
    }
   ],
   "source": [
    "resposta.choices[0].message.content"
   ]
  },
  {
   "cell_type": "markdown",
   "id": "0b6e7414",
   "metadata": {},
   "source": [
    "Agora, lembra que comentamos sobre o comando mensagem ser uma lista de perguntas e respostas? Logo, como obtivemos a resposta do chat, podemos adiciona-la em nosso comando:\n"
   ]
  },
  {
   "cell_type": "code",
   "execution_count": 10,
   "id": "ce5ac00d",
   "metadata": {},
   "outputs": [],
   "source": [
    "mensagem.append({'role':'assistant', 'content': resposta.choices[0].message.content})"
   ]
  },
  {
   "cell_type": "code",
   "execution_count": 11,
   "id": "33d73105",
   "metadata": {},
   "outputs": [
    {
     "data": {
      "text/plain": [
       "[{'role': 'user', 'content': 'o que é uma maçã em 5 palavras?'},\n",
       " {'role': 'assistant', 'content': 'Fruta redonda e saborosa.'}]"
      ]
     },
     "execution_count": 11,
     "metadata": {},
     "output_type": "execute_result"
    }
   ],
   "source": [
    "mensagem"
   ]
  },
  {
   "cell_type": "markdown",
   "id": "f7dc0614",
   "metadata": {},
   "source": [
    "Podemos adicionar outras perguntas e completar com outras respostas. Basta continuar com esse mesmo raciocínio. E se fizermos uma função que execute isso automaticamente?\n",
    "Então, bora lá"
   ]
  },
  {
   "cell_type": "markdown",
   "id": "c9547848",
   "metadata": {},
   "source": [
    "#### Função que printa a resposta e faz o append automaticamente"
   ]
  },
  {
   "cell_type": "code",
   "execution_count": 13,
   "id": "18acfcc3",
   "metadata": {},
   "outputs": [],
   "source": [
    "### Criando a função\n",
    "\n",
    "def gerador_texto(mensagens, model = 'gpt-3.5-turbo-0125', max_tokens =1000, temperature=0):\n",
    "    \n",
    "    resposta = client.chat.completions.create(\n",
    "        messages = mensagens,\n",
    "        model=model,\n",
    "        max_tokens=max_tokens,\n",
    "        temperature=temperature,\n",
    "    )\n",
    "    print(resposta.choices[0].message.content)\n",
    "    mensagens.append({'role':'assistant', 'content':resposta.choices[0].message.content})\n",
    "    \n",
    "    return mensagens"
   ]
  },
  {
   "cell_type": "code",
   "execution_count": 14,
   "id": "82b04d4a",
   "metadata": {},
   "outputs": [
    {
     "name": "stdout",
     "output_type": "stream",
     "text": [
      "A teoria da relatividade é uma das teorias mais importantes da física moderna, proposta por Albert Einstein no início do século XX. Ela consiste em duas partes principais: a relatividade restrita e a relatividade geral.\n",
      "\n",
      "A relatividade restrita afirma que as leis da física são as mesmas para todos os observadores que se movem em velocidades constantes em relação uns aos outros. Isso significa que não existe um referencial absoluto no universo, e que o tempo, o espaço e a massa são relativos à velocidade do observador.\n",
      "\n",
      "Já a relatividade geral afirma que a gravidade não é uma força como as outras, mas sim uma curvatura do espaço-tempo causada pela presença de massa e energia. Isso significa que objetos em movimento seguem trajetórias curvas no espaço-tempo, devido à influência da gravidade.\n",
      "\n",
      "Em resumo, a teoria da relatividade de Einstein revolucionou nossa compreensão do universo, mostrando que o tempo, o espaço e a gravidade são interligados de maneiras complexas e surpreendentes. Ela tem sido confirmada por inúmeras experiências e observações, e continua a ser uma das teorias mais bem-sucedidas da física moderna.\n"
     ]
    },
    {
     "data": {
      "text/plain": [
       "[{'role': 'user', 'content': 'me explique a lei da relatividade'},\n",
       " {'role': 'assistant',\n",
       "  'content': 'A teoria da relatividade é uma das teorias mais importantes da física moderna, proposta por Albert Einstein no início do século XX. Ela consiste em duas partes principais: a relatividade restrita e a relatividade geral.\\n\\nA relatividade restrita afirma que as leis da física são as mesmas para todos os observadores que se movem em velocidades constantes em relação uns aos outros. Isso significa que não existe um referencial absoluto no universo, e que o tempo, o espaço e a massa são relativos à velocidade do observador.\\n\\nJá a relatividade geral afirma que a gravidade não é uma força como as outras, mas sim uma curvatura do espaço-tempo causada pela presença de massa e energia. Isso significa que objetos em movimento seguem trajetórias curvas no espaço-tempo, devido à influência da gravidade.\\n\\nEm resumo, a teoria da relatividade de Einstein revolucionou nossa compreensão do universo, mostrando que o tempo, o espaço e a gravidade são interligados de maneiras complexas e surpreendentes. Ela tem sido confirmada por inúmeras experiências e observações, e continua a ser uma das teorias mais bem-sucedidas da física moderna.'}]"
      ]
     },
     "execution_count": 14,
     "metadata": {},
     "output_type": "execute_result"
    }
   ],
   "source": [
    "teste = [{'role':'user', 'content':'me explique a lei da relatividade'}]\n",
    "\n",
    "gerador_texto(teste, max_tokens= 500)\n"
   ]
  },
  {
   "cell_type": "markdown",
   "id": "8af6b120",
   "metadata": {},
   "source": [
    "### 1.2 Explorando o objeto resposta."
   ]
  },
  {
   "cell_type": "markdown",
   "id": "12f8bae1",
   "metadata": {},
   "source": [
    "Nós utilizamos apenas o conteúdo da resposta como \"significante\". Mas podemos obter outros outputs desse objeto como\n",
    "\n",
    "1. Uso de tokens"
   ]
  },
  {
   "cell_type": "code",
   "execution_count": 15,
   "id": "98e4100e",
   "metadata": {},
   "outputs": [
    {
     "data": {
      "text/plain": [
       "CompletionUsage(completion_tokens=10, prompt_tokens=20, total_tokens=30, completion_tokens_details=CompletionTokensDetails(accepted_prediction_tokens=0, audio_tokens=0, reasoning_tokens=0, rejected_prediction_tokens=0), prompt_tokens_details=PromptTokensDetails(audio_tokens=0, cached_tokens=0))"
      ]
     },
     "execution_count": 15,
     "metadata": {},
     "output_type": "execute_result"
    }
   ],
   "source": [
    "mensagem = [{'role':'user', 'content': 'o que é uma maçã em 5 palavras?'}]\n",
    "\n",
    "resposta = client.chat.completions.create(\n",
    "    messages=mensagem,\n",
    "    model = 'gpt-3.5-turbo-0125',\n",
    "    max_tokens=1000,\n",
    "    temperature=0\n",
    ")\n",
    "\n",
    "#### USO DE TOKENS\n",
    "resposta.usage"
   ]
  },
  {
   "cell_type": "markdown",
   "id": "55f22444",
   "metadata": {},
   "source": [
    "2. Comando **\"model_dump\"**\n",
    "\n",
    "Esse comando nos oferece a resposta naquele formato de dicionário com o role : content etc.."
   ]
  },
  {
   "cell_type": "code",
   "execution_count": 16,
   "id": "2d24007a",
   "metadata": {},
   "outputs": [
    {
     "data": {
      "text/plain": [
       "{'content': 'Fruta redonda e saborosa.',\n",
       " 'refusal': None,\n",
       " 'role': 'assistant',\n",
       " 'audio': None,\n",
       " 'function_call': None,\n",
       " 'tool_calls': None}"
      ]
     },
     "execution_count": 16,
     "metadata": {},
     "output_type": "execute_result"
    }
   ],
   "source": [
    "resposta.choices[0].message.model_dump()"
   ]
  },
  {
   "cell_type": "markdown",
   "id": "3151629a",
   "metadata": {},
   "source": [
    "Repare que tem outros elementos nesse dicionário que veremos mais a frente, mas que estão classificados como None.\n",
    "\n",
    "Se quisermos tirar o none, podemos usar:"
   ]
  },
  {
   "cell_type": "code",
   "execution_count": 17,
   "id": "857a1461",
   "metadata": {},
   "outputs": [
    {
     "data": {
      "text/plain": [
       "{'content': 'Fruta redonda e saborosa.', 'role': 'assistant'}"
      ]
     },
     "execution_count": 17,
     "metadata": {},
     "output_type": "execute_result"
    }
   ],
   "source": [
    "resposta.choices[0].message.model_dump(exclude_none=True)"
   ]
  },
  {
   "cell_type": "markdown",
   "id": "4f3c3ac6",
   "metadata": {},
   "source": [
    "### 1.3) Recebendo resposta em tempo real "
   ]
  },
  {
   "cell_type": "markdown",
   "id": "bbe7bfa8",
   "metadata": {},
   "source": [
    "Bem, se você analisar, quando fizermos uma pergunta e rodar a resposta, pode ser que dependendo da complexidade da resposta ele demore a responder. Por isso, podemos configurar para que ele gere as respostas em tempo real."
   ]
  },
  {
   "cell_type": "markdown",
   "id": "d259902d",
   "metadata": {},
   "source": [
    "Com o argumento **STREAM** = **true**, transformamos a nossa resposta de objeto à um iterador de chunks"
   ]
  },
  {
   "cell_type": "markdown",
   "id": "53e754b1",
   "metadata": {},
   "source": [
    "O que são chunks? Basicamente são pedaços de texto.\n",
    "\n",
    "Observe então:"
   ]
  },
  {
   "cell_type": "code",
   "execution_count": 25,
   "id": "ef1072b4",
   "metadata": {},
   "outputs": [],
   "source": [
    "mensagem = [{'role':'user', 'content': 'me fale sobre a teoria da relatividade'}]\n",
    "\n",
    "resposta = client.chat.completions.create(\n",
    "    messages=mensagem,\n",
    "    model = 'gpt-3.5-turbo-0125',\n",
    "    max_tokens=1000,\n",
    "    temperature=0,\n",
    "    stream = True\n",
    ")"
   ]
  },
  {
   "cell_type": "code",
   "execution_count": 20,
   "id": "c959debd",
   "metadata": {},
   "outputs": [
    {
     "data": {
      "text/plain": [
       "<openai.Stream at 0x17ba7f8eb00>"
      ]
     },
     "execution_count": 20,
     "metadata": {},
     "output_type": "execute_result"
    }
   ],
   "source": [
    "## virou um iterador de chunks\n",
    "resposta"
   ]
  },
  {
   "cell_type": "markdown",
   "id": "a1ac70a2",
   "metadata": {},
   "source": [
    "Portanto, devemos printar cada um desses chunks através do seguinte código"
   ]
  },
  {
   "cell_type": "code",
   "execution_count": 28,
   "id": "f1763937",
   "metadata": {},
   "outputs": [
    {
     "name": "stdout",
     "output_type": "stream",
     "text": [
      "A teoria da relatividade é uma das teorias mais importantes da física moderna, proposta por Albert Einstein no início do século XX. Ela é composta por duas partes: a teoria da relatividade restrita e a teoria da relatividade geral.\n",
      "\n",
      "A teoria da relatividade restrita, proposta por Einstein em 1905, postula que as leis da física são as mesmas para todos os observadores que se movem em velocidades constantes em relação uns aos outros. Isso significa que não existe um referencial absoluto no universo e que o tempo, o espaço e a massa são relativos, dependendo da velocidade do observador.\n",
      "\n",
      "Já a teoria da relatividade geral, proposta por Einstein em 1915, descreve a gravidade como a curvatura do espaço-tempo causada pela presença de massa e energia. Segundo essa teoria, corpos massivos como planetas e estrelas curvam o espaço ao seu redor, criando o que chamamos de campo gravitacional.\n",
      "\n",
      "A teoria da relatividade revolucionou a forma como entendemos o universo e teve importantes consequências práticas, como a previsão da existência de buracos negros, a explicação da dilatação do tempo e a confirmação da existência de ondas gravitacionais. Ela também é a base da física moderna e influenciou diversas áreas do conhecimento, como a cosmologia e a astrofísica."
     ]
    }
   ],
   "source": [
    "mensagem = [{'role':'user', 'content': 'me fale sobre a teoria da relatividade'}]\n",
    "\n",
    "resposta = client.chat.completions.create(\n",
    "    messages=mensagem,\n",
    "    model = 'gpt-3.5-turbo-0125',\n",
    "    max_tokens=1000,\n",
    "    temperature=0,\n",
    "    stream = True\n",
    ")\n",
    "\n",
    "\n",
    "#### obtendo o texto em si\n",
    "for chunks in resposta:\n",
    "    pedaco_de_texto = chunks.choices[0].delta.content\n",
    "    if pedaco_de_texto != None: ## o último content tem esse \"none\" não sei porque\n",
    "        print(pedaco_de_texto, end = '')\n"
   ]
  },
  {
   "cell_type": "markdown",
   "id": "6cc5bef1",
   "metadata": {},
   "source": [
    "Beleza, e agora, se eu quiser salvar esse texto em uma variável? Vamos lá!"
   ]
  },
  {
   "cell_type": "code",
   "execution_count": 32,
   "id": "e6e2229a",
   "metadata": {},
   "outputs": [
    {
     "name": "stdout",
     "output_type": "stream",
     "text": [
      "A teoria da relatividade é uma das teorias mais importantes da física moderna, proposta por Albert Einstein no início do século XX. Ela é composta por duas partes: a teoria da relatividade restrita e a teoria da relatividade geral.\n",
      "\n",
      "A teoria da relatividade restrita, proposta por Einstein em 1905, estabelece que as leis da física são as mesmas para todos os observadores que se movem a uma velocidade constante em relação uns aos outros. Isso significa que não existe um referencial absoluto no universo e que o tempo, o espaço e a massa são relativos, dependendo da velocidade do observador.\n",
      "\n",
      "Já a teoria da relatividade geral, proposta por Einstein em 1915, descreve a gravidade como a curvatura do espaço-tempo causada pela presença de massa e energia. Segundo essa teoria, corpos massivos como planetas e estrelas curvam o espaço ao seu redor, o que faz com que outros corpos se movam ao longo dessa curvatura, seguindo trajetórias curvas.\n",
      "\n",
      "A teoria da relatividade revolucionou a física ao propor uma nova maneira de entender o universo, levando a descobertas como a dilatação do tempo, a contração do espaço e a equivalência entre massa e energia (E=mc²). Ela também teve importantes aplicações práticas, como na previsão da existência de buracos negros e na explicação da expansão do universo."
     ]
    }
   ],
   "source": [
    "mensagem = [{'role':'user', 'content': 'me fale sobre a teoria da relatividade'}]\n",
    "\n",
    "resposta = client.chat.completions.create(\n",
    "    messages=mensagem,\n",
    "    model = 'gpt-3.5-turbo-0125',\n",
    "    max_tokens=4000,\n",
    "    temperature=0,\n",
    "    stream = True\n",
    ")\n",
    "\n",
    "\n",
    "#### obtendo o texto em si\n",
    "Rfinal = ''\n",
    "for chunks in resposta:\n",
    "    pedaco_de_texto = chunks.choices[0].delta.content\n",
    "    if pedaco_de_texto != None: ## o último content tem esse \"none\" não sei porque\n",
    "        Rfinal += pedaco_de_texto\n",
    "        print(pedaco_de_texto, end = '')\n"
   ]
  },
  {
   "cell_type": "code",
   "execution_count": 30,
   "id": "1ffc32be",
   "metadata": {},
   "outputs": [
    {
     "data": {
      "text/plain": [
       "'A teoria da relatividade é uma das teorias mais importantes da física moderna, proposta por Albert Einstein no início do século XX. Ela é composta por duas partes: a teoria da relatividade restrita e a teoria da relatividade geral.\\n\\nA teoria da relatividade restrita, proposta por Einstein em 1905, revolucionou a forma como entendemos o espaço e o tempo. Ela postula que as leis da física são as mesmas para todos os observadores em movimento uniforme, independentemente da velocidade relativa entre eles. Isso significa que não existe um \"tempo absoluto\" ou um \"espaço absoluto\", mas sim que o tempo e o espaço são relativos e dependem do observador.\\n\\nJá a teoria da relatividade geral, proposta por Einstein em 1915, descreve a gravidade como a curvatura do espaço-tempo causada pela presença de massa e energia. Segundo essa teoria, corpos massivos como planetas e estrelas curvam o espaço ao seu redor, o que faz com que outros corpos se movam ao longo de trajetórias curvas.\\n\\nA teoria da relatividade tem sido confirmada por inúmeras experiências e observações ao longo dos anos, e é fundamental para a compreensão de fenômenos como a dilatação do tempo, a contração do espaço, a equivalência entre massa e energia (E=mc²) e a formação de buracos negros.\\n\\nEm resumo, a teoria da relatividade de Einstein mudou para sempre a forma como entendemos o universo e continua sendo uma das teorias mais bem-sucedidas e influentes da física moderna.'"
      ]
     },
     "execution_count": 30,
     "metadata": {},
     "output_type": "execute_result"
    }
   ],
   "source": [
    "Rfinal"
   ]
  }
 ],
 "metadata": {
  "kernelspec": {
   "display_name": "Python 3 (ipykernel)",
   "language": "python",
   "name": "python3"
  },
  "language_info": {
   "codemirror_mode": {
    "name": "ipython",
    "version": 3
   },
   "file_extension": ".py",
   "mimetype": "text/x-python",
   "name": "python",
   "nbconvert_exporter": "python",
   "pygments_lexer": "ipython3",
   "version": "3.9.13"
  }
 },
 "nbformat": 4,
 "nbformat_minor": 5
}
