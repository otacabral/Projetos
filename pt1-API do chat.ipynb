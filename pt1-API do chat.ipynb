{
 "cells": [
  {
   "cell_type": "markdown",
   "id": "26bca20c",
   "metadata": {},
   "source": [
    "### 1.0) API?"
   ]
  },
  {
   "cell_type": "markdown",
   "id": "a9fc6a37",
   "metadata": {},
   "source": [
    "API é a ponte entre softwares. Consiste em um fornecimento de capacidades para outros aplicativos ou softwares."
   ]
  },
  {
   "cell_type": "markdown",
   "id": "031b65dd",
   "metadata": {},
   "source": [
    "A interface, que seria o próprio site do chat GPT, exige uma interação manual e um pouco limitada para resolução. Já a API com a conexão a outros softwares de programação, consegue extrair mais profundamente suas especificidades."
   ]
  },
  {
   "cell_type": "markdown",
   "id": "fba01d33",
   "metadata": {},
   "source": [
    "### 1.1) Aprendendo a fazer perguntas e receber respostas do chat em python"
   ]
  },
  {
   "cell_type": "code",
   "execution_count": 1,
   "id": "d32f454b",
   "metadata": {},
   "outputs": [],
   "source": [
    "### importando a api do chat\n",
    "import openai"
   ]
  },
  {
   "cell_type": "markdown",
   "id": "b806f9f8",
   "metadata": {},
   "source": [
    "Agora, precisamos conectar a nossa chave de acesso no própio site da openAI. Como a chave é uma particularidade do usuário, vamos salva-la em um arquivo chamado de arquivo .ENV"
   ]
  },
  {
   "cell_type": "markdown",
   "id": "dc0edddf",
   "metadata": {},
   "source": [
    "Esse arquivo é como um lugar secreto disponivel apenas para o usuário, sem dar permissão de outras pessoas terem acesso"
   ]
  },
  {
   "cell_type": "markdown",
   "id": "b716a4c1",
   "metadata": {},
   "source": [
    "Para acessa-lo, vamos fazer o seguinte:"
   ]
  },
  {
   "cell_type": "code",
   "execution_count": 2,
   "id": "43e7f11c",
   "metadata": {},
   "outputs": [],
   "source": [
    "from dotenv import load_dotenv, find_dotenv\n",
    "\n",
    "_ = load_dotenv(find_dotenv())"
   ]
  },
  {
   "cell_type": "code",
   "execution_count": 3,
   "id": "602680bd",
   "metadata": {},
   "outputs": [],
   "source": [
    "client = openai.Client()"
   ]
  },
  {
   "cell_type": "markdown",
   "id": "88f24339",
   "metadata": {},
   "source": [
    "Explicando os dois códigos acima. O load_dotenv carrega a chave que colocamos lá no arquivo .env\n",
    "quando rodamos o código openai.Client ele consegue acessar porque a chave já tinha sido carregada.\n",
    "\n",
    "Caso não fizessemos isso, teríamos que colocar a chave dentro do comando Client()"
   ]
  },
  {
   "cell_type": "markdown",
   "id": "b538f1f7",
   "metadata": {},
   "source": [
    "#### Como enviar perguntas e recebe-las?"
   ]
  },
  {
   "cell_type": "markdown",
   "id": "6bf25df7",
   "metadata": {},
   "source": [
    "Agora vamos para a parte que interessa"
   ]
  },
  {
   "cell_type": "code",
   "execution_count": 8,
   "id": "24fc31d9",
   "metadata": {},
   "outputs": [
    {
     "data": {
      "text/plain": [
       "ChatCompletion(id='chatcmpl-At1tXRzvlx77smlYDvCBk1rik2QHR', choices=[Choice(finish_reason='stop', index=0, logprobs=None, message=ChatCompletionMessage(content='Fruta redonda e saborosa.', refusal=None, role='assistant', audio=None, function_call=None, tool_calls=None))], created=1737678687, model='gpt-3.5-turbo-0125', object='chat.completion', service_tier='default', system_fingerprint=None, usage=CompletionUsage(completion_tokens=10, prompt_tokens=20, total_tokens=30, completion_tokens_details=CompletionTokensDetails(accepted_prediction_tokens=0, audio_tokens=0, reasoning_tokens=0, rejected_prediction_tokens=0), prompt_tokens_details=PromptTokensDetails(audio_tokens=0, cached_tokens=0)))"
      ]
     },
     "execution_count": 8,
     "metadata": {},
     "output_type": "execute_result"
    }
   ],
   "source": [
    "#criando a pergunta\n",
    "\n",
    "mensagem = [{'role':'user', 'content': 'o que é uma maçã em 5 palavras?'}]\n",
    "\n",
    "resposta = client.chat.completions.create(\n",
    "    messages=mensagem,\n",
    "    model = 'gpt-3.5-turbo-0125',\n",
    "    max_tokens=1000,\n",
    "    temperature=0\n",
    ")\n",
    "\n",
    "resposta"
   ]
  },
  {
   "cell_type": "markdown",
   "id": "3a93f6cb",
   "metadata": {},
   "source": [
    "Explicando brevemente, Primeiro, a mensagem que criamos fizemos uma lista de um dicionário. Isso porque, se você analisar uma conversa com o chat, sempres temos uma pergunta (dicionário com o \"role\"(cargo) sendo user) e a resposta do chat, que seria outro dicionário com o \"role\" sendo assistant. A lista nada mais é do que o conjunto de dicionários sendo este as perguntas e as respostas.\n",
    "\n",
    "se você reparar, o comando \"resposta\" que criamos, contém como parametrôs a mensagem, o modelo que queremos que gere a resposta, o número de tokens para a resposta e a temperatura que seria o quão \"viajado\" é a resposta\n",
    "\n",
    "além disso, quando rodamos \"resposta\", obtemos um objeto com várias atribuições e métodos. Para obter a resposta em si, temos que ir \"\"\"cavando\"\"\" os atributos até chegar nela"
   ]
  },
  {
   "cell_type": "code",
   "execution_count": 9,
   "id": "76d6e0e7",
   "metadata": {},
   "outputs": [
    {
     "data": {
      "text/plain": [
       "'Fruta redonda e saborosa.'"
      ]
     },
     "execution_count": 9,
     "metadata": {},
     "output_type": "execute_result"
    }
   ],
   "source": [
    "resposta.choices[0].message.content"
   ]
  },
  {
   "cell_type": "markdown",
   "id": "0b6e7414",
   "metadata": {},
   "source": [
    "Agora, lembra que comentamos sobre o comando mensagem ser uma lista de perguntas e respostas? Logo, como obtivemos a resposta do chat, podemos adiciona-la em nosso comando:\n"
   ]
  },
  {
   "cell_type": "code",
   "execution_count": 10,
   "id": "ce5ac00d",
   "metadata": {},
   "outputs": [],
   "source": [
    "mensagem.append({'role':'assistant', 'content': resposta.choices[0].message.content})"
   ]
  },
  {
   "cell_type": "code",
   "execution_count": 11,
   "id": "33d73105",
   "metadata": {},
   "outputs": [
    {
     "data": {
      "text/plain": [
       "[{'role': 'user', 'content': 'o que é uma maçã em 5 palavras?'},\n",
       " {'role': 'assistant', 'content': 'Fruta redonda e saborosa.'}]"
      ]
     },
     "execution_count": 11,
     "metadata": {},
     "output_type": "execute_result"
    }
   ],
   "source": [
    "mensagem"
   ]
  },
  {
   "cell_type": "markdown",
   "id": "f7dc0614",
   "metadata": {},
   "source": [
    "Podemos adicionar outras perguntas e completar com outras respostas. Basta continuar com esse mesmo raciocínio. E se fizermos uma função que execute isso automaticamente?\n",
    "Então, bora lá"
   ]
  },
  {
   "cell_type": "markdown",
   "id": "c9547848",
   "metadata": {},
   "source": [
    "#### Função que printa a resposta e faz o append automaticamente"
   ]
  },
  {
   "cell_type": "code",
   "execution_count": 13,
   "id": "18acfcc3",
   "metadata": {},
   "outputs": [],
   "source": [
    "### Criando a função\n",
    "\n",
    "def gerador_texto(mensagens, model = 'gpt-3.5-turbo-0125', max_tokens =1000, temperature=0):\n",
    "    \n",
    "    resposta = client.chat.completions.create(\n",
    "        messages = mensagens,\n",
    "        model=model,\n",
    "        max_tokens=max_tokens,\n",
    "        temperature=temperature,\n",
    "    )\n",
    "    print(resposta.choices[0].message.content)\n",
    "    mensagens.append({'role':'assistant', 'content':resposta.choices[0].message.content})\n",
    "    \n",
    "    return mensagens"
   ]
  },
  {
   "cell_type": "code",
   "execution_count": 14,
   "id": "82b04d4a",
   "metadata": {},
   "outputs": [
    {
     "name": "stdout",
     "output_type": "stream",
     "text": [
      "A teoria da relatividade é uma das teorias mais importantes da física moderna, proposta por Albert Einstein no início do século XX. Ela consiste em duas partes principais: a relatividade restrita e a relatividade geral.\n",
      "\n",
      "A relatividade restrita afirma que as leis da física são as mesmas para todos os observadores que se movem em velocidades constantes em relação uns aos outros. Isso significa que não existe um referencial absoluto no universo, e que o tempo, o espaço e a massa são relativos à velocidade do observador.\n",
      "\n",
      "Já a relatividade geral afirma que a gravidade não é uma força como as outras, mas sim uma curvatura do espaço-tempo causada pela presença de massa e energia. Isso significa que objetos em movimento seguem trajetórias curvas no espaço-tempo, devido à influência da gravidade.\n",
      "\n",
      "Em resumo, a teoria da relatividade de Einstein revolucionou nossa compreensão do universo, mostrando que o tempo, o espaço e a gravidade são interligados de maneiras complexas e surpreendentes. Ela tem sido confirmada por inúmeras experiências e observações, e continua a ser uma das teorias mais bem-sucedidas da física moderna.\n"
     ]
    },
    {
     "data": {
      "text/plain": [
       "[{'role': 'user', 'content': 'me explique a lei da relatividade'},\n",
       " {'role': 'assistant',\n",
       "  'content': 'A teoria da relatividade é uma das teorias mais importantes da física moderna, proposta por Albert Einstein no início do século XX. Ela consiste em duas partes principais: a relatividade restrita e a relatividade geral.\\n\\nA relatividade restrita afirma que as leis da física são as mesmas para todos os observadores que se movem em velocidades constantes em relação uns aos outros. Isso significa que não existe um referencial absoluto no universo, e que o tempo, o espaço e a massa são relativos à velocidade do observador.\\n\\nJá a relatividade geral afirma que a gravidade não é uma força como as outras, mas sim uma curvatura do espaço-tempo causada pela presença de massa e energia. Isso significa que objetos em movimento seguem trajetórias curvas no espaço-tempo, devido à influência da gravidade.\\n\\nEm resumo, a teoria da relatividade de Einstein revolucionou nossa compreensão do universo, mostrando que o tempo, o espaço e a gravidade são interligados de maneiras complexas e surpreendentes. Ela tem sido confirmada por inúmeras experiências e observações, e continua a ser uma das teorias mais bem-sucedidas da física moderna.'}]"
      ]
     },
     "execution_count": 14,
     "metadata": {},
     "output_type": "execute_result"
    }
   ],
   "source": [
    "teste = [{'role':'user', 'content':'me explique a lei da relatividade'}]\n",
    "\n",
    "gerador_texto(teste, max_tokens= 500)\n"
   ]
  },
  {
   "cell_type": "markdown",
   "id": "8af6b120",
   "metadata": {},
   "source": [
    "### 1.2 Explorando o objeto resposta."
   ]
  },
  {
   "cell_type": "markdown",
   "id": "12f8bae1",
   "metadata": {},
   "source": [
    "Nós utilizamos apenas o conteúdo da resposta como \"significante\". Mas podemos obter outros outputs desse objeto como\n",
    "\n",
    "1. Uso de tokens"
   ]
  },
  {
   "cell_type": "code",
   "execution_count": 15,
   "id": "98e4100e",
   "metadata": {},
   "outputs": [
    {
     "data": {
      "text/plain": [
       "CompletionUsage(completion_tokens=10, prompt_tokens=20, total_tokens=30, completion_tokens_details=CompletionTokensDetails(accepted_prediction_tokens=0, audio_tokens=0, reasoning_tokens=0, rejected_prediction_tokens=0), prompt_tokens_details=PromptTokensDetails(audio_tokens=0, cached_tokens=0))"
      ]
     },
     "execution_count": 15,
     "metadata": {},
     "output_type": "execute_result"
    }
   ],
   "source": [
    "mensagem = [{'role':'user', 'content': 'o que é uma maçã em 5 palavras?'}]\n",
    "\n",
    "resposta = client.chat.completions.create(\n",
    "    messages=mensagem,\n",
    "    model = 'gpt-3.5-turbo-0125',\n",
    "    max_tokens=1000,\n",
    "    temperature=0\n",
    ")\n",
    "\n",
    "#### USO DE TOKENS\n",
    "resposta.usage"
   ]
  },
  {
   "cell_type": "markdown",
   "id": "55f22444",
   "metadata": {},
   "source": [
    "2. Comando **\"model_dump\"**\n",
    "\n",
    "Esse comando nos oferece a resposta naquele formato de dicionário com o role : content etc.."
   ]
  },
  {
   "cell_type": "code",
   "execution_count": 16,
   "id": "2d24007a",
   "metadata": {},
   "outputs": [
    {
     "data": {
      "text/plain": [
       "{'content': 'Fruta redonda e saborosa.',\n",
       " 'refusal': None,\n",
       " 'role': 'assistant',\n",
       " 'audio': None,\n",
       " 'function_call': None,\n",
       " 'tool_calls': None}"
      ]
     },
     "execution_count": 16,
     "metadata": {},
     "output_type": "execute_result"
    }
   ],
   "source": [
    "resposta.choices[0].message.model_dump()"
   ]
  },
  {
   "cell_type": "markdown",
   "id": "3151629a",
   "metadata": {},
   "source": [
    "Repare que tem outros elementos nesse dicionário que veremos mais a frente, mas que estão classificados como None.\n",
    "\n",
    "Se quisermos tirar o none, podemos usar:"
   ]
  },
  {
   "cell_type": "code",
   "execution_count": 17,
   "id": "857a1461",
   "metadata": {},
   "outputs": [
    {
     "data": {
      "text/plain": [
       "{'content': 'Fruta redonda e saborosa.', 'role': 'assistant'}"
      ]
     },
     "execution_count": 17,
     "metadata": {},
     "output_type": "execute_result"
    }
   ],
   "source": [
    "resposta.choices[0].message.model_dump(exclude_none=True)"
   ]
  },
  {
   "cell_type": "markdown",
   "id": "4f3c3ac6",
   "metadata": {},
   "source": [
    "### 1.3) Recebendo resposta em tempo real "
   ]
  },
  {
   "cell_type": "markdown",
   "id": "bbe7bfa8",
   "metadata": {},
   "source": [
    "Bem, se você analisar, quando fizermos uma pergunta e rodar a resposta, pode ser que dependendo da complexidade da resposta ele demore a responder. Por isso, podemos configurar para que ele gere as respostas em tempo real."
   ]
  },
  {
   "cell_type": "markdown",
   "id": "d259902d",
   "metadata": {},
   "source": [
    "Com o argumento **STREAM** = **true**, transformamos a nossa resposta de objeto à um iterador de chunks"
   ]
  },
  {
   "cell_type": "markdown",
   "id": "53e754b1",
   "metadata": {},
   "source": [
    "O que são chunks? Basicamente são pedaços de texto.\n",
    "\n",
    "Observe então:"
   ]
  },
  {
   "cell_type": "code",
   "execution_count": 25,
   "id": "ef1072b4",
   "metadata": {},
   "outputs": [],
   "source": [
    "mensagem = [{'role':'user', 'content': 'me fale sobre a teoria da relatividade'}]\n",
    "\n",
    "resposta = client.chat.completions.create(\n",
    "    messages=mensagem,\n",
    "    model = 'gpt-3.5-turbo-0125',\n",
    "    max_tokens=1000,\n",
    "    temperature=0,\n",
    "    stream = True\n",
    ")"
   ]
  },
  {
   "cell_type": "code",
   "execution_count": 20,
   "id": "c959debd",
   "metadata": {},
   "outputs": [
    {
     "data": {
      "text/plain": [
       "<openai.Stream at 0x17ba7f8eb00>"
      ]
     },
     "execution_count": 20,
     "metadata": {},
     "output_type": "execute_result"
    }
   ],
   "source": [
    "## virou um iterador de chunks\n",
    "resposta"
   ]
  },
  {
   "cell_type": "markdown",
   "id": "d4ea9a7f",
   "metadata": {},
   "source": [
    "Agora, como todo iterador, vamos colocar em um for que apenas printa:"
   ]
  },
  {
   "cell_type": "code",
   "execution_count": 21,
   "id": "a1115dcf",
   "metadata": {},
   "outputs": [
    {
     "name": "stdout",
     "output_type": "stream",
     "text": [
      "ChatCompletionChunk(id='chatcmpl-At391Q4BwT1lvHuUw6LblNerEMGkQ', choices=[Choice(delta=ChoiceDelta(content='', function_call=None, refusal=None, role='assistant', tool_calls=None), finish_reason=None, index=0, logprobs=None)], created=1737683491, model='gpt-3.5-turbo-0125', object='chat.completion.chunk', service_tier='default', system_fingerprint=None, usage=None)\n",
      "ChatCompletionChunk(id='chatcmpl-At391Q4BwT1lvHuUw6LblNerEMGkQ', choices=[Choice(delta=ChoiceDelta(content='A', function_call=None, refusal=None, role=None, tool_calls=None), finish_reason=None, index=0, logprobs=None)], created=1737683491, model='gpt-3.5-turbo-0125', object='chat.completion.chunk', service_tier='default', system_fingerprint=None, usage=None)\n",
      "ChatCompletionChunk(id='chatcmpl-At391Q4BwT1lvHuUw6LblNerEMGkQ', choices=[Choice(delta=ChoiceDelta(content=' te', function_call=None, refusal=None, role=None, tool_calls=None), finish_reason=None, index=0, logprobs=None)], created=1737683491, model='gpt-3.5-turbo-0125', object='chat.completion.chunk', service_tier='default', system_fingerprint=None, usage=None)\n",
      "ChatCompletionChunk(id='chatcmpl-At391Q4BwT1lvHuUw6LblNerEMGkQ', choices=[Choice(delta=ChoiceDelta(content='oria', function_call=None, refusal=None, role=None, tool_calls=None), finish_reason=None, index=0, logprobs=None)], created=1737683491, model='gpt-3.5-turbo-0125', object='chat.completion.chunk', service_tier='default', system_fingerprint=None, usage=None)\n",
      "ChatCompletionChunk(id='chatcmpl-At391Q4BwT1lvHuUw6LblNerEMGkQ', choices=[Choice(delta=ChoiceDelta(content=' da', function_call=None, refusal=None, role=None, tool_calls=None), finish_reason=None, index=0, logprobs=None)], created=1737683491, model='gpt-3.5-turbo-0125', object='chat.completion.chunk', service_tier='default', system_fingerprint=None, usage=None)\n",
      "ChatCompletionChunk(id='chatcmpl-At391Q4BwT1lvHuUw6LblNerEMGkQ', choices=[Choice(delta=ChoiceDelta(content=' relativ', function_call=None, refusal=None, role=None, tool_calls=None), finish_reason=None, index=0, logprobs=None)], created=1737683491, model='gpt-3.5-turbo-0125', object='chat.completion.chunk', service_tier='default', system_fingerprint=None, usage=None)\n",
      "ChatCompletionChunk(id='chatcmpl-At391Q4BwT1lvHuUw6LblNerEMGkQ', choices=[Choice(delta=ChoiceDelta(content='idade', function_call=None, refusal=None, role=None, tool_calls=None), finish_reason=None, index=0, logprobs=None)], created=1737683491, model='gpt-3.5-turbo-0125', object='chat.completion.chunk', service_tier='default', system_fingerprint=None, usage=None)\n",
      "ChatCompletionChunk(id='chatcmpl-At391Q4BwT1lvHuUw6LblNerEMGkQ', choices=[Choice(delta=ChoiceDelta(content=' é', function_call=None, refusal=None, role=None, tool_calls=None), finish_reason=None, index=0, logprobs=None)], created=1737683491, model='gpt-3.5-turbo-0125', object='chat.completion.chunk', service_tier='default', system_fingerprint=None, usage=None)\n",
      "ChatCompletionChunk(id='chatcmpl-At391Q4BwT1lvHuUw6LblNerEMGkQ', choices=[Choice(delta=ChoiceDelta(content=' uma', function_call=None, refusal=None, role=None, tool_calls=None), finish_reason=None, index=0, logprobs=None)], created=1737683491, model='gpt-3.5-turbo-0125', object='chat.completion.chunk', service_tier='default', system_fingerprint=None, usage=None)\n",
      "ChatCompletionChunk(id='chatcmpl-At391Q4BwT1lvHuUw6LblNerEMGkQ', choices=[Choice(delta=ChoiceDelta(content=' das', function_call=None, refusal=None, role=None, tool_calls=None), finish_reason=None, index=0, logprobs=None)], created=1737683491, model='gpt-3.5-turbo-0125', object='chat.completion.chunk', service_tier='default', system_fingerprint=None, usage=None)\n",
      "ChatCompletionChunk(id='chatcmpl-At391Q4BwT1lvHuUw6LblNerEMGkQ', choices=[Choice(delta=ChoiceDelta(content=' te', function_call=None, refusal=None, role=None, tool_calls=None), finish_reason=None, index=0, logprobs=None)], created=1737683491, model='gpt-3.5-turbo-0125', object='chat.completion.chunk', service_tier='default', system_fingerprint=None, usage=None)\n",
      "ChatCompletionChunk(id='chatcmpl-At391Q4BwT1lvHuUw6LblNerEMGkQ', choices=[Choice(delta=ChoiceDelta(content='orias', function_call=None, refusal=None, role=None, tool_calls=None), finish_reason=None, index=0, logprobs=None)], created=1737683491, model='gpt-3.5-turbo-0125', object='chat.completion.chunk', service_tier='default', system_fingerprint=None, usage=None)\n",
      "ChatCompletionChunk(id='chatcmpl-At391Q4BwT1lvHuUw6LblNerEMGkQ', choices=[Choice(delta=ChoiceDelta(content=' mais', function_call=None, refusal=None, role=None, tool_calls=None), finish_reason=None, index=0, logprobs=None)], created=1737683491, model='gpt-3.5-turbo-0125', object='chat.completion.chunk', service_tier='default', system_fingerprint=None, usage=None)\n",
      "ChatCompletionChunk(id='chatcmpl-At391Q4BwT1lvHuUw6LblNerEMGkQ', choices=[Choice(delta=ChoiceDelta(content=' importantes', function_call=None, refusal=None, role=None, tool_calls=None), finish_reason=None, index=0, logprobs=None)], created=1737683491, model='gpt-3.5-turbo-0125', object='chat.completion.chunk', service_tier='default', system_fingerprint=None, usage=None)\n",
      "ChatCompletionChunk(id='chatcmpl-At391Q4BwT1lvHuUw6LblNerEMGkQ', choices=[Choice(delta=ChoiceDelta(content=' da', function_call=None, refusal=None, role=None, tool_calls=None), finish_reason=None, index=0, logprobs=None)], created=1737683491, model='gpt-3.5-turbo-0125', object='chat.completion.chunk', service_tier='default', system_fingerprint=None, usage=None)\n",
      "ChatCompletionChunk(id='chatcmpl-At391Q4BwT1lvHuUw6LblNerEMGkQ', choices=[Choice(delta=ChoiceDelta(content=' fís', function_call=None, refusal=None, role=None, tool_calls=None), finish_reason=None, index=0, logprobs=None)], created=1737683491, model='gpt-3.5-turbo-0125', object='chat.completion.chunk', service_tier='default', system_fingerprint=None, usage=None)\n",
      "ChatCompletionChunk(id='chatcmpl-At391Q4BwT1lvHuUw6LblNerEMGkQ', choices=[Choice(delta=ChoiceDelta(content='ica', function_call=None, refusal=None, role=None, tool_calls=None), finish_reason=None, index=0, logprobs=None)], created=1737683491, model='gpt-3.5-turbo-0125', object='chat.completion.chunk', service_tier='default', system_fingerprint=None, usage=None)\n",
      "ChatCompletionChunk(id='chatcmpl-At391Q4BwT1lvHuUw6LblNerEMGkQ', choices=[Choice(delta=ChoiceDelta(content=' modern', function_call=None, refusal=None, role=None, tool_calls=None), finish_reason=None, index=0, logprobs=None)], created=1737683491, model='gpt-3.5-turbo-0125', object='chat.completion.chunk', service_tier='default', system_fingerprint=None, usage=None)\n",
      "ChatCompletionChunk(id='chatcmpl-At391Q4BwT1lvHuUw6LblNerEMGkQ', choices=[Choice(delta=ChoiceDelta(content='a', function_call=None, refusal=None, role=None, tool_calls=None), finish_reason=None, index=0, logprobs=None)], created=1737683491, model='gpt-3.5-turbo-0125', object='chat.completion.chunk', service_tier='default', system_fingerprint=None, usage=None)\n",
      "ChatCompletionChunk(id='chatcmpl-At391Q4BwT1lvHuUw6LblNerEMGkQ', choices=[Choice(delta=ChoiceDelta(content=',', function_call=None, refusal=None, role=None, tool_calls=None), finish_reason=None, index=0, logprobs=None)], created=1737683491, model='gpt-3.5-turbo-0125', object='chat.completion.chunk', service_tier='default', system_fingerprint=None, usage=None)\n",
      "ChatCompletionChunk(id='chatcmpl-At391Q4BwT1lvHuUw6LblNerEMGkQ', choices=[Choice(delta=ChoiceDelta(content=' prop', function_call=None, refusal=None, role=None, tool_calls=None), finish_reason=None, index=0, logprobs=None)], created=1737683491, model='gpt-3.5-turbo-0125', object='chat.completion.chunk', service_tier='default', system_fingerprint=None, usage=None)\n",
      "ChatCompletionChunk(id='chatcmpl-At391Q4BwT1lvHuUw6LblNerEMGkQ', choices=[Choice(delta=ChoiceDelta(content='osta', function_call=None, refusal=None, role=None, tool_calls=None), finish_reason=None, index=0, logprobs=None)], created=1737683491, model='gpt-3.5-turbo-0125', object='chat.completion.chunk', service_tier='default', system_fingerprint=None, usage=None)\n",
      "ChatCompletionChunk(id='chatcmpl-At391Q4BwT1lvHuUw6LblNerEMGkQ', choices=[Choice(delta=ChoiceDelta(content=' por', function_call=None, refusal=None, role=None, tool_calls=None), finish_reason=None, index=0, logprobs=None)], created=1737683491, model='gpt-3.5-turbo-0125', object='chat.completion.chunk', service_tier='default', system_fingerprint=None, usage=None)\n",
      "ChatCompletionChunk(id='chatcmpl-At391Q4BwT1lvHuUw6LblNerEMGkQ', choices=[Choice(delta=ChoiceDelta(content=' Albert', function_call=None, refusal=None, role=None, tool_calls=None), finish_reason=None, index=0, logprobs=None)], created=1737683491, model='gpt-3.5-turbo-0125', object='chat.completion.chunk', service_tier='default', system_fingerprint=None, usage=None)\n",
      "ChatCompletionChunk(id='chatcmpl-At391Q4BwT1lvHuUw6LblNerEMGkQ', choices=[Choice(delta=ChoiceDelta(content=' Einstein', function_call=None, refusal=None, role=None, tool_calls=None), finish_reason=None, index=0, logprobs=None)], created=1737683491, model='gpt-3.5-turbo-0125', object='chat.completion.chunk', service_tier='default', system_fingerprint=None, usage=None)\n",
      "ChatCompletionChunk(id='chatcmpl-At391Q4BwT1lvHuUw6LblNerEMGkQ', choices=[Choice(delta=ChoiceDelta(content=' no', function_call=None, refusal=None, role=None, tool_calls=None), finish_reason=None, index=0, logprobs=None)], created=1737683491, model='gpt-3.5-turbo-0125', object='chat.completion.chunk', service_tier='default', system_fingerprint=None, usage=None)\n",
      "ChatCompletionChunk(id='chatcmpl-At391Q4BwT1lvHuUw6LblNerEMGkQ', choices=[Choice(delta=ChoiceDelta(content=' in', function_call=None, refusal=None, role=None, tool_calls=None), finish_reason=None, index=0, logprobs=None)], created=1737683491, model='gpt-3.5-turbo-0125', object='chat.completion.chunk', service_tier='default', system_fingerprint=None, usage=None)\n",
      "ChatCompletionChunk(id='chatcmpl-At391Q4BwT1lvHuUw6LblNerEMGkQ', choices=[Choice(delta=ChoiceDelta(content='ício', function_call=None, refusal=None, role=None, tool_calls=None), finish_reason=None, index=0, logprobs=None)], created=1737683491, model='gpt-3.5-turbo-0125', object='chat.completion.chunk', service_tier='default', system_fingerprint=None, usage=None)\n",
      "ChatCompletionChunk(id='chatcmpl-At391Q4BwT1lvHuUw6LblNerEMGkQ', choices=[Choice(delta=ChoiceDelta(content=' do', function_call=None, refusal=None, role=None, tool_calls=None), finish_reason=None, index=0, logprobs=None)], created=1737683491, model='gpt-3.5-turbo-0125', object='chat.completion.chunk', service_tier='default', system_fingerprint=None, usage=None)\n",
      "ChatCompletionChunk(id='chatcmpl-At391Q4BwT1lvHuUw6LblNerEMGkQ', choices=[Choice(delta=ChoiceDelta(content=' sé', function_call=None, refusal=None, role=None, tool_calls=None), finish_reason=None, index=0, logprobs=None)], created=1737683491, model='gpt-3.5-turbo-0125', object='chat.completion.chunk', service_tier='default', system_fingerprint=None, usage=None)\n",
      "ChatCompletionChunk(id='chatcmpl-At391Q4BwT1lvHuUw6LblNerEMGkQ', choices=[Choice(delta=ChoiceDelta(content='culo', function_call=None, refusal=None, role=None, tool_calls=None), finish_reason=None, index=0, logprobs=None)], created=1737683491, model='gpt-3.5-turbo-0125', object='chat.completion.chunk', service_tier='default', system_fingerprint=None, usage=None)\n",
      "ChatCompletionChunk(id='chatcmpl-At391Q4BwT1lvHuUw6LblNerEMGkQ', choices=[Choice(delta=ChoiceDelta(content=' XX', function_call=None, refusal=None, role=None, tool_calls=None), finish_reason=None, index=0, logprobs=None)], created=1737683491, model='gpt-3.5-turbo-0125', object='chat.completion.chunk', service_tier='default', system_fingerprint=None, usage=None)\n",
      "ChatCompletionChunk(id='chatcmpl-At391Q4BwT1lvHuUw6LblNerEMGkQ', choices=[Choice(delta=ChoiceDelta(content='.', function_call=None, refusal=None, role=None, tool_calls=None), finish_reason=None, index=0, logprobs=None)], created=1737683491, model='gpt-3.5-turbo-0125', object='chat.completion.chunk', service_tier='default', system_fingerprint=None, usage=None)\n",
      "ChatCompletionChunk(id='chatcmpl-At391Q4BwT1lvHuUw6LblNerEMGkQ', choices=[Choice(delta=ChoiceDelta(content=' El', function_call=None, refusal=None, role=None, tool_calls=None), finish_reason=None, index=0, logprobs=None)], created=1737683491, model='gpt-3.5-turbo-0125', object='chat.completion.chunk', service_tier='default', system_fingerprint=None, usage=None)\n",
      "ChatCompletionChunk(id='chatcmpl-At391Q4BwT1lvHuUw6LblNerEMGkQ', choices=[Choice(delta=ChoiceDelta(content='a', function_call=None, refusal=None, role=None, tool_calls=None), finish_reason=None, index=0, logprobs=None)], created=1737683491, model='gpt-3.5-turbo-0125', object='chat.completion.chunk', service_tier='default', system_fingerprint=None, usage=None)\n",
      "ChatCompletionChunk(id='chatcmpl-At391Q4BwT1lvHuUw6LblNerEMGkQ', choices=[Choice(delta=ChoiceDelta(content=' é', function_call=None, refusal=None, role=None, tool_calls=None), finish_reason=None, index=0, logprobs=None)], created=1737683491, model='gpt-3.5-turbo-0125', object='chat.completion.chunk', service_tier='default', system_fingerprint=None, usage=None)\n",
      "ChatCompletionChunk(id='chatcmpl-At391Q4BwT1lvHuUw6LblNerEMGkQ', choices=[Choice(delta=ChoiceDelta(content=' comp', function_call=None, refusal=None, role=None, tool_calls=None), finish_reason=None, index=0, logprobs=None)], created=1737683491, model='gpt-3.5-turbo-0125', object='chat.completion.chunk', service_tier='default', system_fingerprint=None, usage=None)\n",
      "ChatCompletionChunk(id='chatcmpl-At391Q4BwT1lvHuUw6LblNerEMGkQ', choices=[Choice(delta=ChoiceDelta(content='osta', function_call=None, refusal=None, role=None, tool_calls=None), finish_reason=None, index=0, logprobs=None)], created=1737683491, model='gpt-3.5-turbo-0125', object='chat.completion.chunk', service_tier='default', system_fingerprint=None, usage=None)\n",
      "ChatCompletionChunk(id='chatcmpl-At391Q4BwT1lvHuUw6LblNerEMGkQ', choices=[Choice(delta=ChoiceDelta(content=' por', function_call=None, refusal=None, role=None, tool_calls=None), finish_reason=None, index=0, logprobs=None)], created=1737683491, model='gpt-3.5-turbo-0125', object='chat.completion.chunk', service_tier='default', system_fingerprint=None, usage=None)\n",
      "ChatCompletionChunk(id='chatcmpl-At391Q4BwT1lvHuUw6LblNerEMGkQ', choices=[Choice(delta=ChoiceDelta(content=' duas', function_call=None, refusal=None, role=None, tool_calls=None), finish_reason=None, index=0, logprobs=None)], created=1737683491, model='gpt-3.5-turbo-0125', object='chat.completion.chunk', service_tier='default', system_fingerprint=None, usage=None)\n",
      "ChatCompletionChunk(id='chatcmpl-At391Q4BwT1lvHuUw6LblNerEMGkQ', choices=[Choice(delta=ChoiceDelta(content=' partes', function_call=None, refusal=None, role=None, tool_calls=None), finish_reason=None, index=0, logprobs=None)], created=1737683491, model='gpt-3.5-turbo-0125', object='chat.completion.chunk', service_tier='default', system_fingerprint=None, usage=None)\n",
      "ChatCompletionChunk(id='chatcmpl-At391Q4BwT1lvHuUw6LblNerEMGkQ', choices=[Choice(delta=ChoiceDelta(content=':', function_call=None, refusal=None, role=None, tool_calls=None), finish_reason=None, index=0, logprobs=None)], created=1737683491, model='gpt-3.5-turbo-0125', object='chat.completion.chunk', service_tier='default', system_fingerprint=None, usage=None)\n",
      "ChatCompletionChunk(id='chatcmpl-At391Q4BwT1lvHuUw6LblNerEMGkQ', choices=[Choice(delta=ChoiceDelta(content=' a', function_call=None, refusal=None, role=None, tool_calls=None), finish_reason=None, index=0, logprobs=None)], created=1737683491, model='gpt-3.5-turbo-0125', object='chat.completion.chunk', service_tier='default', system_fingerprint=None, usage=None)\n",
      "ChatCompletionChunk(id='chatcmpl-At391Q4BwT1lvHuUw6LblNerEMGkQ', choices=[Choice(delta=ChoiceDelta(content=' te', function_call=None, refusal=None, role=None, tool_calls=None), finish_reason=None, index=0, logprobs=None)], created=1737683491, model='gpt-3.5-turbo-0125', object='chat.completion.chunk', service_tier='default', system_fingerprint=None, usage=None)\n",
      "ChatCompletionChunk(id='chatcmpl-At391Q4BwT1lvHuUw6LblNerEMGkQ', choices=[Choice(delta=ChoiceDelta(content='oria', function_call=None, refusal=None, role=None, tool_calls=None), finish_reason=None, index=0, logprobs=None)], created=1737683491, model='gpt-3.5-turbo-0125', object='chat.completion.chunk', service_tier='default', system_fingerprint=None, usage=None)\n",
      "ChatCompletionChunk(id='chatcmpl-At391Q4BwT1lvHuUw6LblNerEMGkQ', choices=[Choice(delta=ChoiceDelta(content=' da', function_call=None, refusal=None, role=None, tool_calls=None), finish_reason=None, index=0, logprobs=None)], created=1737683491, model='gpt-3.5-turbo-0125', object='chat.completion.chunk', service_tier='default', system_fingerprint=None, usage=None)\n",
      "ChatCompletionChunk(id='chatcmpl-At391Q4BwT1lvHuUw6LblNerEMGkQ', choices=[Choice(delta=ChoiceDelta(content=' relativ', function_call=None, refusal=None, role=None, tool_calls=None), finish_reason=None, index=0, logprobs=None)], created=1737683491, model='gpt-3.5-turbo-0125', object='chat.completion.chunk', service_tier='default', system_fingerprint=None, usage=None)\n",
      "ChatCompletionChunk(id='chatcmpl-At391Q4BwT1lvHuUw6LblNerEMGkQ', choices=[Choice(delta=ChoiceDelta(content='idade', function_call=None, refusal=None, role=None, tool_calls=None), finish_reason=None, index=0, logprobs=None)], created=1737683491, model='gpt-3.5-turbo-0125', object='chat.completion.chunk', service_tier='default', system_fingerprint=None, usage=None)\n",
      "ChatCompletionChunk(id='chatcmpl-At391Q4BwT1lvHuUw6LblNerEMGkQ', choices=[Choice(delta=ChoiceDelta(content=' restr', function_call=None, refusal=None, role=None, tool_calls=None), finish_reason=None, index=0, logprobs=None)], created=1737683491, model='gpt-3.5-turbo-0125', object='chat.completion.chunk', service_tier='default', system_fingerprint=None, usage=None)\n",
      "ChatCompletionChunk(id='chatcmpl-At391Q4BwT1lvHuUw6LblNerEMGkQ', choices=[Choice(delta=ChoiceDelta(content='ita', function_call=None, refusal=None, role=None, tool_calls=None), finish_reason=None, index=0, logprobs=None)], created=1737683491, model='gpt-3.5-turbo-0125', object='chat.completion.chunk', service_tier='default', system_fingerprint=None, usage=None)\n",
      "ChatCompletionChunk(id='chatcmpl-At391Q4BwT1lvHuUw6LblNerEMGkQ', choices=[Choice(delta=ChoiceDelta(content=' e', function_call=None, refusal=None, role=None, tool_calls=None), finish_reason=None, index=0, logprobs=None)], created=1737683491, model='gpt-3.5-turbo-0125', object='chat.completion.chunk', service_tier='default', system_fingerprint=None, usage=None)\n",
      "ChatCompletionChunk(id='chatcmpl-At391Q4BwT1lvHuUw6LblNerEMGkQ', choices=[Choice(delta=ChoiceDelta(content=' a', function_call=None, refusal=None, role=None, tool_calls=None), finish_reason=None, index=0, logprobs=None)], created=1737683491, model='gpt-3.5-turbo-0125', object='chat.completion.chunk', service_tier='default', system_fingerprint=None, usage=None)\n",
      "ChatCompletionChunk(id='chatcmpl-At391Q4BwT1lvHuUw6LblNerEMGkQ', choices=[Choice(delta=ChoiceDelta(content=' te', function_call=None, refusal=None, role=None, tool_calls=None), finish_reason=None, index=0, logprobs=None)], created=1737683491, model='gpt-3.5-turbo-0125', object='chat.completion.chunk', service_tier='default', system_fingerprint=None, usage=None)\n",
      "ChatCompletionChunk(id='chatcmpl-At391Q4BwT1lvHuUw6LblNerEMGkQ', choices=[Choice(delta=ChoiceDelta(content='oria', function_call=None, refusal=None, role=None, tool_calls=None), finish_reason=None, index=0, logprobs=None)], created=1737683491, model='gpt-3.5-turbo-0125', object='chat.completion.chunk', service_tier='default', system_fingerprint=None, usage=None)\n",
      "ChatCompletionChunk(id='chatcmpl-At391Q4BwT1lvHuUw6LblNerEMGkQ', choices=[Choice(delta=ChoiceDelta(content=' da', function_call=None, refusal=None, role=None, tool_calls=None), finish_reason=None, index=0, logprobs=None)], created=1737683491, model='gpt-3.5-turbo-0125', object='chat.completion.chunk', service_tier='default', system_fingerprint=None, usage=None)\n",
      "ChatCompletionChunk(id='chatcmpl-At391Q4BwT1lvHuUw6LblNerEMGkQ', choices=[Choice(delta=ChoiceDelta(content=' relativ', function_call=None, refusal=None, role=None, tool_calls=None), finish_reason=None, index=0, logprobs=None)], created=1737683491, model='gpt-3.5-turbo-0125', object='chat.completion.chunk', service_tier='default', system_fingerprint=None, usage=None)\n",
      "ChatCompletionChunk(id='chatcmpl-At391Q4BwT1lvHuUw6LblNerEMGkQ', choices=[Choice(delta=ChoiceDelta(content='idade', function_call=None, refusal=None, role=None, tool_calls=None), finish_reason=None, index=0, logprobs=None)], created=1737683491, model='gpt-3.5-turbo-0125', object='chat.completion.chunk', service_tier='default', system_fingerprint=None, usage=None)\n",
      "ChatCompletionChunk(id='chatcmpl-At391Q4BwT1lvHuUw6LblNerEMGkQ', choices=[Choice(delta=ChoiceDelta(content=' geral', function_call=None, refusal=None, role=None, tool_calls=None), finish_reason=None, index=0, logprobs=None)], created=1737683491, model='gpt-3.5-turbo-0125', object='chat.completion.chunk', service_tier='default', system_fingerprint=None, usage=None)\n",
      "ChatCompletionChunk(id='chatcmpl-At391Q4BwT1lvHuUw6LblNerEMGkQ', choices=[Choice(delta=ChoiceDelta(content='.\\n\\n', function_call=None, refusal=None, role=None, tool_calls=None), finish_reason=None, index=0, logprobs=None)], created=1737683491, model='gpt-3.5-turbo-0125', object='chat.completion.chunk', service_tier='default', system_fingerprint=None, usage=None)\n",
      "ChatCompletionChunk(id='chatcmpl-At391Q4BwT1lvHuUw6LblNerEMGkQ', choices=[Choice(delta=ChoiceDelta(content='A', function_call=None, refusal=None, role=None, tool_calls=None), finish_reason=None, index=0, logprobs=None)], created=1737683491, model='gpt-3.5-turbo-0125', object='chat.completion.chunk', service_tier='default', system_fingerprint=None, usage=None)\n",
      "ChatCompletionChunk(id='chatcmpl-At391Q4BwT1lvHuUw6LblNerEMGkQ', choices=[Choice(delta=ChoiceDelta(content=' te', function_call=None, refusal=None, role=None, tool_calls=None), finish_reason=None, index=0, logprobs=None)], created=1737683491, model='gpt-3.5-turbo-0125', object='chat.completion.chunk', service_tier='default', system_fingerprint=None, usage=None)\n",
      "ChatCompletionChunk(id='chatcmpl-At391Q4BwT1lvHuUw6LblNerEMGkQ', choices=[Choice(delta=ChoiceDelta(content='oria', function_call=None, refusal=None, role=None, tool_calls=None), finish_reason=None, index=0, logprobs=None)], created=1737683491, model='gpt-3.5-turbo-0125', object='chat.completion.chunk', service_tier='default', system_fingerprint=None, usage=None)\n",
      "ChatCompletionChunk(id='chatcmpl-At391Q4BwT1lvHuUw6LblNerEMGkQ', choices=[Choice(delta=ChoiceDelta(content=' da', function_call=None, refusal=None, role=None, tool_calls=None), finish_reason=None, index=0, logprobs=None)], created=1737683491, model='gpt-3.5-turbo-0125', object='chat.completion.chunk', service_tier='default', system_fingerprint=None, usage=None)\n",
      "ChatCompletionChunk(id='chatcmpl-At391Q4BwT1lvHuUw6LblNerEMGkQ', choices=[Choice(delta=ChoiceDelta(content=' relativ', function_call=None, refusal=None, role=None, tool_calls=None), finish_reason=None, index=0, logprobs=None)], created=1737683491, model='gpt-3.5-turbo-0125', object='chat.completion.chunk', service_tier='default', system_fingerprint=None, usage=None)\n",
      "ChatCompletionChunk(id='chatcmpl-At391Q4BwT1lvHuUw6LblNerEMGkQ', choices=[Choice(delta=ChoiceDelta(content='idade', function_call=None, refusal=None, role=None, tool_calls=None), finish_reason=None, index=0, logprobs=None)], created=1737683491, model='gpt-3.5-turbo-0125', object='chat.completion.chunk', service_tier='default', system_fingerprint=None, usage=None)\n",
      "ChatCompletionChunk(id='chatcmpl-At391Q4BwT1lvHuUw6LblNerEMGkQ', choices=[Choice(delta=ChoiceDelta(content=' restr', function_call=None, refusal=None, role=None, tool_calls=None), finish_reason=None, index=0, logprobs=None)], created=1737683491, model='gpt-3.5-turbo-0125', object='chat.completion.chunk', service_tier='default', system_fingerprint=None, usage=None)\n",
      "ChatCompletionChunk(id='chatcmpl-At391Q4BwT1lvHuUw6LblNerEMGkQ', choices=[Choice(delta=ChoiceDelta(content='ita', function_call=None, refusal=None, role=None, tool_calls=None), finish_reason=None, index=0, logprobs=None)], created=1737683491, model='gpt-3.5-turbo-0125', object='chat.completion.chunk', service_tier='default', system_fingerprint=None, usage=None)\n",
      "ChatCompletionChunk(id='chatcmpl-At391Q4BwT1lvHuUw6LblNerEMGkQ', choices=[Choice(delta=ChoiceDelta(content=',', function_call=None, refusal=None, role=None, tool_calls=None), finish_reason=None, index=0, logprobs=None)], created=1737683491, model='gpt-3.5-turbo-0125', object='chat.completion.chunk', service_tier='default', system_fingerprint=None, usage=None)\n",
      "ChatCompletionChunk(id='chatcmpl-At391Q4BwT1lvHuUw6LblNerEMGkQ', choices=[Choice(delta=ChoiceDelta(content=' prop', function_call=None, refusal=None, role=None, tool_calls=None), finish_reason=None, index=0, logprobs=None)], created=1737683491, model='gpt-3.5-turbo-0125', object='chat.completion.chunk', service_tier='default', system_fingerprint=None, usage=None)\n",
      "ChatCompletionChunk(id='chatcmpl-At391Q4BwT1lvHuUw6LblNerEMGkQ', choices=[Choice(delta=ChoiceDelta(content='osta', function_call=None, refusal=None, role=None, tool_calls=None), finish_reason=None, index=0, logprobs=None)], created=1737683491, model='gpt-3.5-turbo-0125', object='chat.completion.chunk', service_tier='default', system_fingerprint=None, usage=None)\n",
      "ChatCompletionChunk(id='chatcmpl-At391Q4BwT1lvHuUw6LblNerEMGkQ', choices=[Choice(delta=ChoiceDelta(content=' por', function_call=None, refusal=None, role=None, tool_calls=None), finish_reason=None, index=0, logprobs=None)], created=1737683491, model='gpt-3.5-turbo-0125', object='chat.completion.chunk', service_tier='default', system_fingerprint=None, usage=None)\n",
      "ChatCompletionChunk(id='chatcmpl-At391Q4BwT1lvHuUw6LblNerEMGkQ', choices=[Choice(delta=ChoiceDelta(content=' Einstein', function_call=None, refusal=None, role=None, tool_calls=None), finish_reason=None, index=0, logprobs=None)], created=1737683491, model='gpt-3.5-turbo-0125', object='chat.completion.chunk', service_tier='default', system_fingerprint=None, usage=None)\n",
      "ChatCompletionChunk(id='chatcmpl-At391Q4BwT1lvHuUw6LblNerEMGkQ', choices=[Choice(delta=ChoiceDelta(content=' em', function_call=None, refusal=None, role=None, tool_calls=None), finish_reason=None, index=0, logprobs=None)], created=1737683491, model='gpt-3.5-turbo-0125', object='chat.completion.chunk', service_tier='default', system_fingerprint=None, usage=None)\n",
      "ChatCompletionChunk(id='chatcmpl-At391Q4BwT1lvHuUw6LblNerEMGkQ', choices=[Choice(delta=ChoiceDelta(content=' ', function_call=None, refusal=None, role=None, tool_calls=None), finish_reason=None, index=0, logprobs=None)], created=1737683491, model='gpt-3.5-turbo-0125', object='chat.completion.chunk', service_tier='default', system_fingerprint=None, usage=None)\n",
      "ChatCompletionChunk(id='chatcmpl-At391Q4BwT1lvHuUw6LblNerEMGkQ', choices=[Choice(delta=ChoiceDelta(content='190', function_call=None, refusal=None, role=None, tool_calls=None), finish_reason=None, index=0, logprobs=None)], created=1737683491, model='gpt-3.5-turbo-0125', object='chat.completion.chunk', service_tier='default', system_fingerprint=None, usage=None)\n",
      "ChatCompletionChunk(id='chatcmpl-At391Q4BwT1lvHuUw6LblNerEMGkQ', choices=[Choice(delta=ChoiceDelta(content='5', function_call=None, refusal=None, role=None, tool_calls=None), finish_reason=None, index=0, logprobs=None)], created=1737683491, model='gpt-3.5-turbo-0125', object='chat.completion.chunk', service_tier='default', system_fingerprint=None, usage=None)\n",
      "ChatCompletionChunk(id='chatcmpl-At391Q4BwT1lvHuUw6LblNerEMGkQ', choices=[Choice(delta=ChoiceDelta(content=',', function_call=None, refusal=None, role=None, tool_calls=None), finish_reason=None, index=0, logprobs=None)], created=1737683491, model='gpt-3.5-turbo-0125', object='chat.completion.chunk', service_tier='default', system_fingerprint=None, usage=None)\n",
      "ChatCompletionChunk(id='chatcmpl-At391Q4BwT1lvHuUw6LblNerEMGkQ', choices=[Choice(delta=ChoiceDelta(content=' post', function_call=None, refusal=None, role=None, tool_calls=None), finish_reason=None, index=0, logprobs=None)], created=1737683491, model='gpt-3.5-turbo-0125', object='chat.completion.chunk', service_tier='default', system_fingerprint=None, usage=None)\n",
      "ChatCompletionChunk(id='chatcmpl-At391Q4BwT1lvHuUw6LblNerEMGkQ', choices=[Choice(delta=ChoiceDelta(content='ula', function_call=None, refusal=None, role=None, tool_calls=None), finish_reason=None, index=0, logprobs=None)], created=1737683491, model='gpt-3.5-turbo-0125', object='chat.completion.chunk', service_tier='default', system_fingerprint=None, usage=None)\n",
      "ChatCompletionChunk(id='chatcmpl-At391Q4BwT1lvHuUw6LblNerEMGkQ', choices=[Choice(delta=ChoiceDelta(content=' que', function_call=None, refusal=None, role=None, tool_calls=None), finish_reason=None, index=0, logprobs=None)], created=1737683491, model='gpt-3.5-turbo-0125', object='chat.completion.chunk', service_tier='default', system_fingerprint=None, usage=None)\n",
      "ChatCompletionChunk(id='chatcmpl-At391Q4BwT1lvHuUw6LblNerEMGkQ', choices=[Choice(delta=ChoiceDelta(content=' as', function_call=None, refusal=None, role=None, tool_calls=None), finish_reason=None, index=0, logprobs=None)], created=1737683491, model='gpt-3.5-turbo-0125', object='chat.completion.chunk', service_tier='default', system_fingerprint=None, usage=None)\n",
      "ChatCompletionChunk(id='chatcmpl-At391Q4BwT1lvHuUw6LblNerEMGkQ', choices=[Choice(delta=ChoiceDelta(content=' le', function_call=None, refusal=None, role=None, tool_calls=None), finish_reason=None, index=0, logprobs=None)], created=1737683491, model='gpt-3.5-turbo-0125', object='chat.completion.chunk', service_tier='default', system_fingerprint=None, usage=None)\n",
      "ChatCompletionChunk(id='chatcmpl-At391Q4BwT1lvHuUw6LblNerEMGkQ', choices=[Choice(delta=ChoiceDelta(content='is', function_call=None, refusal=None, role=None, tool_calls=None), finish_reason=None, index=0, logprobs=None)], created=1737683491, model='gpt-3.5-turbo-0125', object='chat.completion.chunk', service_tier='default', system_fingerprint=None, usage=None)\n",
      "ChatCompletionChunk(id='chatcmpl-At391Q4BwT1lvHuUw6LblNerEMGkQ', choices=[Choice(delta=ChoiceDelta(content=' da', function_call=None, refusal=None, role=None, tool_calls=None), finish_reason=None, index=0, logprobs=None)], created=1737683491, model='gpt-3.5-turbo-0125', object='chat.completion.chunk', service_tier='default', system_fingerprint=None, usage=None)\n",
      "ChatCompletionChunk(id='chatcmpl-At391Q4BwT1lvHuUw6LblNerEMGkQ', choices=[Choice(delta=ChoiceDelta(content=' fís', function_call=None, refusal=None, role=None, tool_calls=None), finish_reason=None, index=0, logprobs=None)], created=1737683491, model='gpt-3.5-turbo-0125', object='chat.completion.chunk', service_tier='default', system_fingerprint=None, usage=None)\n",
      "ChatCompletionChunk(id='chatcmpl-At391Q4BwT1lvHuUw6LblNerEMGkQ', choices=[Choice(delta=ChoiceDelta(content='ica', function_call=None, refusal=None, role=None, tool_calls=None), finish_reason=None, index=0, logprobs=None)], created=1737683491, model='gpt-3.5-turbo-0125', object='chat.completion.chunk', service_tier='default', system_fingerprint=None, usage=None)\n",
      "ChatCompletionChunk(id='chatcmpl-At391Q4BwT1lvHuUw6LblNerEMGkQ', choices=[Choice(delta=ChoiceDelta(content=' são', function_call=None, refusal=None, role=None, tool_calls=None), finish_reason=None, index=0, logprobs=None)], created=1737683491, model='gpt-3.5-turbo-0125', object='chat.completion.chunk', service_tier='default', system_fingerprint=None, usage=None)\n",
      "ChatCompletionChunk(id='chatcmpl-At391Q4BwT1lvHuUw6LblNerEMGkQ', choices=[Choice(delta=ChoiceDelta(content=' as', function_call=None, refusal=None, role=None, tool_calls=None), finish_reason=None, index=0, logprobs=None)], created=1737683491, model='gpt-3.5-turbo-0125', object='chat.completion.chunk', service_tier='default', system_fingerprint=None, usage=None)\n",
      "ChatCompletionChunk(id='chatcmpl-At391Q4BwT1lvHuUw6LblNerEMGkQ', choices=[Choice(delta=ChoiceDelta(content=' mes', function_call=None, refusal=None, role=None, tool_calls=None), finish_reason=None, index=0, logprobs=None)], created=1737683491, model='gpt-3.5-turbo-0125', object='chat.completion.chunk', service_tier='default', system_fingerprint=None, usage=None)\n",
      "ChatCompletionChunk(id='chatcmpl-At391Q4BwT1lvHuUw6LblNerEMGkQ', choices=[Choice(delta=ChoiceDelta(content='mas', function_call=None, refusal=None, role=None, tool_calls=None), finish_reason=None, index=0, logprobs=None)], created=1737683491, model='gpt-3.5-turbo-0125', object='chat.completion.chunk', service_tier='default', system_fingerprint=None, usage=None)\n",
      "ChatCompletionChunk(id='chatcmpl-At391Q4BwT1lvHuUw6LblNerEMGkQ', choices=[Choice(delta=ChoiceDelta(content=' para', function_call=None, refusal=None, role=None, tool_calls=None), finish_reason=None, index=0, logprobs=None)], created=1737683491, model='gpt-3.5-turbo-0125', object='chat.completion.chunk', service_tier='default', system_fingerprint=None, usage=None)\n",
      "ChatCompletionChunk(id='chatcmpl-At391Q4BwT1lvHuUw6LblNerEMGkQ', choices=[Choice(delta=ChoiceDelta(content=' todos', function_call=None, refusal=None, role=None, tool_calls=None), finish_reason=None, index=0, logprobs=None)], created=1737683491, model='gpt-3.5-turbo-0125', object='chat.completion.chunk', service_tier='default', system_fingerprint=None, usage=None)\n",
      "ChatCompletionChunk(id='chatcmpl-At391Q4BwT1lvHuUw6LblNerEMGkQ', choices=[Choice(delta=ChoiceDelta(content=' os', function_call=None, refusal=None, role=None, tool_calls=None), finish_reason=None, index=0, logprobs=None)], created=1737683491, model='gpt-3.5-turbo-0125', object='chat.completion.chunk', service_tier='default', system_fingerprint=None, usage=None)\n",
      "ChatCompletionChunk(id='chatcmpl-At391Q4BwT1lvHuUw6LblNerEMGkQ', choices=[Choice(delta=ChoiceDelta(content=' observ', function_call=None, refusal=None, role=None, tool_calls=None), finish_reason=None, index=0, logprobs=None)], created=1737683491, model='gpt-3.5-turbo-0125', object='chat.completion.chunk', service_tier='default', system_fingerprint=None, usage=None)\n",
      "ChatCompletionChunk(id='chatcmpl-At391Q4BwT1lvHuUw6LblNerEMGkQ', choices=[Choice(delta=ChoiceDelta(content='adores', function_call=None, refusal=None, role=None, tool_calls=None), finish_reason=None, index=0, logprobs=None)], created=1737683491, model='gpt-3.5-turbo-0125', object='chat.completion.chunk', service_tier='default', system_fingerprint=None, usage=None)\n",
      "ChatCompletionChunk(id='chatcmpl-At391Q4BwT1lvHuUw6LblNerEMGkQ', choices=[Choice(delta=ChoiceDelta(content=' que', function_call=None, refusal=None, role=None, tool_calls=None), finish_reason=None, index=0, logprobs=None)], created=1737683491, model='gpt-3.5-turbo-0125', object='chat.completion.chunk', service_tier='default', system_fingerprint=None, usage=None)\n",
      "ChatCompletionChunk(id='chatcmpl-At391Q4BwT1lvHuUw6LblNerEMGkQ', choices=[Choice(delta=ChoiceDelta(content=' se', function_call=None, refusal=None, role=None, tool_calls=None), finish_reason=None, index=0, logprobs=None)], created=1737683491, model='gpt-3.5-turbo-0125', object='chat.completion.chunk', service_tier='default', system_fingerprint=None, usage=None)\n",
      "ChatCompletionChunk(id='chatcmpl-At391Q4BwT1lvHuUw6LblNerEMGkQ', choices=[Choice(delta=ChoiceDelta(content=' mov', function_call=None, refusal=None, role=None, tool_calls=None), finish_reason=None, index=0, logprobs=None)], created=1737683491, model='gpt-3.5-turbo-0125', object='chat.completion.chunk', service_tier='default', system_fingerprint=None, usage=None)\n",
      "ChatCompletionChunk(id='chatcmpl-At391Q4BwT1lvHuUw6LblNerEMGkQ', choices=[Choice(delta=ChoiceDelta(content='em', function_call=None, refusal=None, role=None, tool_calls=None), finish_reason=None, index=0, logprobs=None)], created=1737683491, model='gpt-3.5-turbo-0125', object='chat.completion.chunk', service_tier='default', system_fingerprint=None, usage=None)\n",
      "ChatCompletionChunk(id='chatcmpl-At391Q4BwT1lvHuUw6LblNerEMGkQ', choices=[Choice(delta=ChoiceDelta(content=' em', function_call=None, refusal=None, role=None, tool_calls=None), finish_reason=None, index=0, logprobs=None)], created=1737683491, model='gpt-3.5-turbo-0125', object='chat.completion.chunk', service_tier='default', system_fingerprint=None, usage=None)\n",
      "ChatCompletionChunk(id='chatcmpl-At391Q4BwT1lvHuUw6LblNerEMGkQ', choices=[Choice(delta=ChoiceDelta(content=' veloc', function_call=None, refusal=None, role=None, tool_calls=None), finish_reason=None, index=0, logprobs=None)], created=1737683491, model='gpt-3.5-turbo-0125', object='chat.completion.chunk', service_tier='default', system_fingerprint=None, usage=None)\n",
      "ChatCompletionChunk(id='chatcmpl-At391Q4BwT1lvHuUw6LblNerEMGkQ', choices=[Choice(delta=ChoiceDelta(content='idades', function_call=None, refusal=None, role=None, tool_calls=None), finish_reason=None, index=0, logprobs=None)], created=1737683491, model='gpt-3.5-turbo-0125', object='chat.completion.chunk', service_tier='default', system_fingerprint=None, usage=None)\n",
      "ChatCompletionChunk(id='chatcmpl-At391Q4BwT1lvHuUw6LblNerEMGkQ', choices=[Choice(delta=ChoiceDelta(content=' constant', function_call=None, refusal=None, role=None, tool_calls=None), finish_reason=None, index=0, logprobs=None)], created=1737683491, model='gpt-3.5-turbo-0125', object='chat.completion.chunk', service_tier='default', system_fingerprint=None, usage=None)\n",
      "ChatCompletionChunk(id='chatcmpl-At391Q4BwT1lvHuUw6LblNerEMGkQ', choices=[Choice(delta=ChoiceDelta(content='es', function_call=None, refusal=None, role=None, tool_calls=None), finish_reason=None, index=0, logprobs=None)], created=1737683491, model='gpt-3.5-turbo-0125', object='chat.completion.chunk', service_tier='default', system_fingerprint=None, usage=None)\n",
      "ChatCompletionChunk(id='chatcmpl-At391Q4BwT1lvHuUw6LblNerEMGkQ', choices=[Choice(delta=ChoiceDelta(content=' em', function_call=None, refusal=None, role=None, tool_calls=None), finish_reason=None, index=0, logprobs=None)], created=1737683491, model='gpt-3.5-turbo-0125', object='chat.completion.chunk', service_tier='default', system_fingerprint=None, usage=None)\n",
      "ChatCompletionChunk(id='chatcmpl-At391Q4BwT1lvHuUw6LblNerEMGkQ', choices=[Choice(delta=ChoiceDelta(content=' relação', function_call=None, refusal=None, role=None, tool_calls=None), finish_reason=None, index=0, logprobs=None)], created=1737683491, model='gpt-3.5-turbo-0125', object='chat.completion.chunk', service_tier='default', system_fingerprint=None, usage=None)\n",
      "ChatCompletionChunk(id='chatcmpl-At391Q4BwT1lvHuUw6LblNerEMGkQ', choices=[Choice(delta=ChoiceDelta(content=' uns', function_call=None, refusal=None, role=None, tool_calls=None), finish_reason=None, index=0, logprobs=None)], created=1737683491, model='gpt-3.5-turbo-0125', object='chat.completion.chunk', service_tier='default', system_fingerprint=None, usage=None)\n",
      "ChatCompletionChunk(id='chatcmpl-At391Q4BwT1lvHuUw6LblNerEMGkQ', choices=[Choice(delta=ChoiceDelta(content=' aos', function_call=None, refusal=None, role=None, tool_calls=None), finish_reason=None, index=0, logprobs=None)], created=1737683491, model='gpt-3.5-turbo-0125', object='chat.completion.chunk', service_tier='default', system_fingerprint=None, usage=None)\n",
      "ChatCompletionChunk(id='chatcmpl-At391Q4BwT1lvHuUw6LblNerEMGkQ', choices=[Choice(delta=ChoiceDelta(content=' outros', function_call=None, refusal=None, role=None, tool_calls=None), finish_reason=None, index=0, logprobs=None)], created=1737683491, model='gpt-3.5-turbo-0125', object='chat.completion.chunk', service_tier='default', system_fingerprint=None, usage=None)\n",
      "ChatCompletionChunk(id='chatcmpl-At391Q4BwT1lvHuUw6LblNerEMGkQ', choices=[Choice(delta=ChoiceDelta(content='.', function_call=None, refusal=None, role=None, tool_calls=None), finish_reason=None, index=0, logprobs=None)], created=1737683491, model='gpt-3.5-turbo-0125', object='chat.completion.chunk', service_tier='default', system_fingerprint=None, usage=None)\n",
      "ChatCompletionChunk(id='chatcmpl-At391Q4BwT1lvHuUw6LblNerEMGkQ', choices=[Choice(delta=ChoiceDelta(content=' Is', function_call=None, refusal=None, role=None, tool_calls=None), finish_reason=None, index=0, logprobs=None)], created=1737683491, model='gpt-3.5-turbo-0125', object='chat.completion.chunk', service_tier='default', system_fingerprint=None, usage=None)\n",
      "ChatCompletionChunk(id='chatcmpl-At391Q4BwT1lvHuUw6LblNerEMGkQ', choices=[Choice(delta=ChoiceDelta(content='so', function_call=None, refusal=None, role=None, tool_calls=None), finish_reason=None, index=0, logprobs=None)], created=1737683491, model='gpt-3.5-turbo-0125', object='chat.completion.chunk', service_tier='default', system_fingerprint=None, usage=None)\n",
      "ChatCompletionChunk(id='chatcmpl-At391Q4BwT1lvHuUw6LblNerEMGkQ', choices=[Choice(delta=ChoiceDelta(content=' significa', function_call=None, refusal=None, role=None, tool_calls=None), finish_reason=None, index=0, logprobs=None)], created=1737683491, model='gpt-3.5-turbo-0125', object='chat.completion.chunk', service_tier='default', system_fingerprint=None, usage=None)\n",
      "ChatCompletionChunk(id='chatcmpl-At391Q4BwT1lvHuUw6LblNerEMGkQ', choices=[Choice(delta=ChoiceDelta(content=' que', function_call=None, refusal=None, role=None, tool_calls=None), finish_reason=None, index=0, logprobs=None)], created=1737683491, model='gpt-3.5-turbo-0125', object='chat.completion.chunk', service_tier='default', system_fingerprint=None, usage=None)\n",
      "ChatCompletionChunk(id='chatcmpl-At391Q4BwT1lvHuUw6LblNerEMGkQ', choices=[Choice(delta=ChoiceDelta(content=' não', function_call=None, refusal=None, role=None, tool_calls=None), finish_reason=None, index=0, logprobs=None)], created=1737683491, model='gpt-3.5-turbo-0125', object='chat.completion.chunk', service_tier='default', system_fingerprint=None, usage=None)\n",
      "ChatCompletionChunk(id='chatcmpl-At391Q4BwT1lvHuUw6LblNerEMGkQ', choices=[Choice(delta=ChoiceDelta(content=' existe', function_call=None, refusal=None, role=None, tool_calls=None), finish_reason=None, index=0, logprobs=None)], created=1737683491, model='gpt-3.5-turbo-0125', object='chat.completion.chunk', service_tier='default', system_fingerprint=None, usage=None)\n",
      "ChatCompletionChunk(id='chatcmpl-At391Q4BwT1lvHuUw6LblNerEMGkQ', choices=[Choice(delta=ChoiceDelta(content=' um', function_call=None, refusal=None, role=None, tool_calls=None), finish_reason=None, index=0, logprobs=None)], created=1737683491, model='gpt-3.5-turbo-0125', object='chat.completion.chunk', service_tier='default', system_fingerprint=None, usage=None)\n",
      "ChatCompletionChunk(id='chatcmpl-At391Q4BwT1lvHuUw6LblNerEMGkQ', choices=[Choice(delta=ChoiceDelta(content=' refer', function_call=None, refusal=None, role=None, tool_calls=None), finish_reason=None, index=0, logprobs=None)], created=1737683491, model='gpt-3.5-turbo-0125', object='chat.completion.chunk', service_tier='default', system_fingerprint=None, usage=None)\n",
      "ChatCompletionChunk(id='chatcmpl-At391Q4BwT1lvHuUw6LblNerEMGkQ', choices=[Choice(delta=ChoiceDelta(content='encial', function_call=None, refusal=None, role=None, tool_calls=None), finish_reason=None, index=0, logprobs=None)], created=1737683491, model='gpt-3.5-turbo-0125', object='chat.completion.chunk', service_tier='default', system_fingerprint=None, usage=None)\n",
      "ChatCompletionChunk(id='chatcmpl-At391Q4BwT1lvHuUw6LblNerEMGkQ', choices=[Choice(delta=ChoiceDelta(content=' absol', function_call=None, refusal=None, role=None, tool_calls=None), finish_reason=None, index=0, logprobs=None)], created=1737683491, model='gpt-3.5-turbo-0125', object='chat.completion.chunk', service_tier='default', system_fingerprint=None, usage=None)\n",
      "ChatCompletionChunk(id='chatcmpl-At391Q4BwT1lvHuUw6LblNerEMGkQ', choices=[Choice(delta=ChoiceDelta(content='uto', function_call=None, refusal=None, role=None, tool_calls=None), finish_reason=None, index=0, logprobs=None)], created=1737683491, model='gpt-3.5-turbo-0125', object='chat.completion.chunk', service_tier='default', system_fingerprint=None, usage=None)\n",
      "ChatCompletionChunk(id='chatcmpl-At391Q4BwT1lvHuUw6LblNerEMGkQ', choices=[Choice(delta=ChoiceDelta(content=' no', function_call=None, refusal=None, role=None, tool_calls=None), finish_reason=None, index=0, logprobs=None)], created=1737683491, model='gpt-3.5-turbo-0125', object='chat.completion.chunk', service_tier='default', system_fingerprint=None, usage=None)\n",
      "ChatCompletionChunk(id='chatcmpl-At391Q4BwT1lvHuUw6LblNerEMGkQ', choices=[Choice(delta=ChoiceDelta(content=' univers', function_call=None, refusal=None, role=None, tool_calls=None), finish_reason=None, index=0, logprobs=None)], created=1737683491, model='gpt-3.5-turbo-0125', object='chat.completion.chunk', service_tier='default', system_fingerprint=None, usage=None)\n",
      "ChatCompletionChunk(id='chatcmpl-At391Q4BwT1lvHuUw6LblNerEMGkQ', choices=[Choice(delta=ChoiceDelta(content='o', function_call=None, refusal=None, role=None, tool_calls=None), finish_reason=None, index=0, logprobs=None)], created=1737683491, model='gpt-3.5-turbo-0125', object='chat.completion.chunk', service_tier='default', system_fingerprint=None, usage=None)\n",
      "ChatCompletionChunk(id='chatcmpl-At391Q4BwT1lvHuUw6LblNerEMGkQ', choices=[Choice(delta=ChoiceDelta(content=' e', function_call=None, refusal=None, role=None, tool_calls=None), finish_reason=None, index=0, logprobs=None)], created=1737683491, model='gpt-3.5-turbo-0125', object='chat.completion.chunk', service_tier='default', system_fingerprint=None, usage=None)\n",
      "ChatCompletionChunk(id='chatcmpl-At391Q4BwT1lvHuUw6LblNerEMGkQ', choices=[Choice(delta=ChoiceDelta(content=' que', function_call=None, refusal=None, role=None, tool_calls=None), finish_reason=None, index=0, logprobs=None)], created=1737683491, model='gpt-3.5-turbo-0125', object='chat.completion.chunk', service_tier='default', system_fingerprint=None, usage=None)\n",
      "ChatCompletionChunk(id='chatcmpl-At391Q4BwT1lvHuUw6LblNerEMGkQ', choices=[Choice(delta=ChoiceDelta(content=' o', function_call=None, refusal=None, role=None, tool_calls=None), finish_reason=None, index=0, logprobs=None)], created=1737683491, model='gpt-3.5-turbo-0125', object='chat.completion.chunk', service_tier='default', system_fingerprint=None, usage=None)\n",
      "ChatCompletionChunk(id='chatcmpl-At391Q4BwT1lvHuUw6LblNerEMGkQ', choices=[Choice(delta=ChoiceDelta(content=' tempo', function_call=None, refusal=None, role=None, tool_calls=None), finish_reason=None, index=0, logprobs=None)], created=1737683491, model='gpt-3.5-turbo-0125', object='chat.completion.chunk', service_tier='default', system_fingerprint=None, usage=None)\n",
      "ChatCompletionChunk(id='chatcmpl-At391Q4BwT1lvHuUw6LblNerEMGkQ', choices=[Choice(delta=ChoiceDelta(content=',', function_call=None, refusal=None, role=None, tool_calls=None), finish_reason=None, index=0, logprobs=None)], created=1737683491, model='gpt-3.5-turbo-0125', object='chat.completion.chunk', service_tier='default', system_fingerprint=None, usage=None)\n",
      "ChatCompletionChunk(id='chatcmpl-At391Q4BwT1lvHuUw6LblNerEMGkQ', choices=[Choice(delta=ChoiceDelta(content=' o', function_call=None, refusal=None, role=None, tool_calls=None), finish_reason=None, index=0, logprobs=None)], created=1737683491, model='gpt-3.5-turbo-0125', object='chat.completion.chunk', service_tier='default', system_fingerprint=None, usage=None)\n",
      "ChatCompletionChunk(id='chatcmpl-At391Q4BwT1lvHuUw6LblNerEMGkQ', choices=[Choice(delta=ChoiceDelta(content=' espaço', function_call=None, refusal=None, role=None, tool_calls=None), finish_reason=None, index=0, logprobs=None)], created=1737683491, model='gpt-3.5-turbo-0125', object='chat.completion.chunk', service_tier='default', system_fingerprint=None, usage=None)\n",
      "ChatCompletionChunk(id='chatcmpl-At391Q4BwT1lvHuUw6LblNerEMGkQ', choices=[Choice(delta=ChoiceDelta(content=' e', function_call=None, refusal=None, role=None, tool_calls=None), finish_reason=None, index=0, logprobs=None)], created=1737683491, model='gpt-3.5-turbo-0125', object='chat.completion.chunk', service_tier='default', system_fingerprint=None, usage=None)\n",
      "ChatCompletionChunk(id='chatcmpl-At391Q4BwT1lvHuUw6LblNerEMGkQ', choices=[Choice(delta=ChoiceDelta(content=' a', function_call=None, refusal=None, role=None, tool_calls=None), finish_reason=None, index=0, logprobs=None)], created=1737683491, model='gpt-3.5-turbo-0125', object='chat.completion.chunk', service_tier='default', system_fingerprint=None, usage=None)\n",
      "ChatCompletionChunk(id='chatcmpl-At391Q4BwT1lvHuUw6LblNerEMGkQ', choices=[Choice(delta=ChoiceDelta(content=' massa', function_call=None, refusal=None, role=None, tool_calls=None), finish_reason=None, index=0, logprobs=None)], created=1737683491, model='gpt-3.5-turbo-0125', object='chat.completion.chunk', service_tier='default', system_fingerprint=None, usage=None)\n",
      "ChatCompletionChunk(id='chatcmpl-At391Q4BwT1lvHuUw6LblNerEMGkQ', choices=[Choice(delta=ChoiceDelta(content=' são', function_call=None, refusal=None, role=None, tool_calls=None), finish_reason=None, index=0, logprobs=None)], created=1737683491, model='gpt-3.5-turbo-0125', object='chat.completion.chunk', service_tier='default', system_fingerprint=None, usage=None)\n",
      "ChatCompletionChunk(id='chatcmpl-At391Q4BwT1lvHuUw6LblNerEMGkQ', choices=[Choice(delta=ChoiceDelta(content=' relativ', function_call=None, refusal=None, role=None, tool_calls=None), finish_reason=None, index=0, logprobs=None)], created=1737683491, model='gpt-3.5-turbo-0125', object='chat.completion.chunk', service_tier='default', system_fingerprint=None, usage=None)\n",
      "ChatCompletionChunk(id='chatcmpl-At391Q4BwT1lvHuUw6LblNerEMGkQ', choices=[Choice(delta=ChoiceDelta(content='os', function_call=None, refusal=None, role=None, tool_calls=None), finish_reason=None, index=0, logprobs=None)], created=1737683491, model='gpt-3.5-turbo-0125', object='chat.completion.chunk', service_tier='default', system_fingerprint=None, usage=None)\n",
      "ChatCompletionChunk(id='chatcmpl-At391Q4BwT1lvHuUw6LblNerEMGkQ', choices=[Choice(delta=ChoiceDelta(content=',', function_call=None, refusal=None, role=None, tool_calls=None), finish_reason=None, index=0, logprobs=None)], created=1737683491, model='gpt-3.5-turbo-0125', object='chat.completion.chunk', service_tier='default', system_fingerprint=None, usage=None)\n",
      "ChatCompletionChunk(id='chatcmpl-At391Q4BwT1lvHuUw6LblNerEMGkQ', choices=[Choice(delta=ChoiceDelta(content=' depend', function_call=None, refusal=None, role=None, tool_calls=None), finish_reason=None, index=0, logprobs=None)], created=1737683491, model='gpt-3.5-turbo-0125', object='chat.completion.chunk', service_tier='default', system_fingerprint=None, usage=None)\n",
      "ChatCompletionChunk(id='chatcmpl-At391Q4BwT1lvHuUw6LblNerEMGkQ', choices=[Choice(delta=ChoiceDelta(content='endo', function_call=None, refusal=None, role=None, tool_calls=None), finish_reason=None, index=0, logprobs=None)], created=1737683491, model='gpt-3.5-turbo-0125', object='chat.completion.chunk', service_tier='default', system_fingerprint=None, usage=None)\n",
      "ChatCompletionChunk(id='chatcmpl-At391Q4BwT1lvHuUw6LblNerEMGkQ', choices=[Choice(delta=ChoiceDelta(content=' da', function_call=None, refusal=None, role=None, tool_calls=None), finish_reason=None, index=0, logprobs=None)], created=1737683491, model='gpt-3.5-turbo-0125', object='chat.completion.chunk', service_tier='default', system_fingerprint=None, usage=None)\n",
      "ChatCompletionChunk(id='chatcmpl-At391Q4BwT1lvHuUw6LblNerEMGkQ', choices=[Choice(delta=ChoiceDelta(content=' veloc', function_call=None, refusal=None, role=None, tool_calls=None), finish_reason=None, index=0, logprobs=None)], created=1737683491, model='gpt-3.5-turbo-0125', object='chat.completion.chunk', service_tier='default', system_fingerprint=None, usage=None)\n",
      "ChatCompletionChunk(id='chatcmpl-At391Q4BwT1lvHuUw6LblNerEMGkQ', choices=[Choice(delta=ChoiceDelta(content='idade', function_call=None, refusal=None, role=None, tool_calls=None), finish_reason=None, index=0, logprobs=None)], created=1737683491, model='gpt-3.5-turbo-0125', object='chat.completion.chunk', service_tier='default', system_fingerprint=None, usage=None)\n",
      "ChatCompletionChunk(id='chatcmpl-At391Q4BwT1lvHuUw6LblNerEMGkQ', choices=[Choice(delta=ChoiceDelta(content=' do', function_call=None, refusal=None, role=None, tool_calls=None), finish_reason=None, index=0, logprobs=None)], created=1737683491, model='gpt-3.5-turbo-0125', object='chat.completion.chunk', service_tier='default', system_fingerprint=None, usage=None)\n",
      "ChatCompletionChunk(id='chatcmpl-At391Q4BwT1lvHuUw6LblNerEMGkQ', choices=[Choice(delta=ChoiceDelta(content=' observ', function_call=None, refusal=None, role=None, tool_calls=None), finish_reason=None, index=0, logprobs=None)], created=1737683491, model='gpt-3.5-turbo-0125', object='chat.completion.chunk', service_tier='default', system_fingerprint=None, usage=None)\n",
      "ChatCompletionChunk(id='chatcmpl-At391Q4BwT1lvHuUw6LblNerEMGkQ', choices=[Choice(delta=ChoiceDelta(content='ador', function_call=None, refusal=None, role=None, tool_calls=None), finish_reason=None, index=0, logprobs=None)], created=1737683491, model='gpt-3.5-turbo-0125', object='chat.completion.chunk', service_tier='default', system_fingerprint=None, usage=None)\n",
      "ChatCompletionChunk(id='chatcmpl-At391Q4BwT1lvHuUw6LblNerEMGkQ', choices=[Choice(delta=ChoiceDelta(content='.\\n\\n', function_call=None, refusal=None, role=None, tool_calls=None), finish_reason=None, index=0, logprobs=None)], created=1737683491, model='gpt-3.5-turbo-0125', object='chat.completion.chunk', service_tier='default', system_fingerprint=None, usage=None)\n",
      "ChatCompletionChunk(id='chatcmpl-At391Q4BwT1lvHuUw6LblNerEMGkQ', choices=[Choice(delta=ChoiceDelta(content='J', function_call=None, refusal=None, role=None, tool_calls=None), finish_reason=None, index=0, logprobs=None)], created=1737683491, model='gpt-3.5-turbo-0125', object='chat.completion.chunk', service_tier='default', system_fingerprint=None, usage=None)\n",
      "ChatCompletionChunk(id='chatcmpl-At391Q4BwT1lvHuUw6LblNerEMGkQ', choices=[Choice(delta=ChoiceDelta(content='á', function_call=None, refusal=None, role=None, tool_calls=None), finish_reason=None, index=0, logprobs=None)], created=1737683491, model='gpt-3.5-turbo-0125', object='chat.completion.chunk', service_tier='default', system_fingerprint=None, usage=None)\n",
      "ChatCompletionChunk(id='chatcmpl-At391Q4BwT1lvHuUw6LblNerEMGkQ', choices=[Choice(delta=ChoiceDelta(content=' a', function_call=None, refusal=None, role=None, tool_calls=None), finish_reason=None, index=0, logprobs=None)], created=1737683491, model='gpt-3.5-turbo-0125', object='chat.completion.chunk', service_tier='default', system_fingerprint=None, usage=None)\n",
      "ChatCompletionChunk(id='chatcmpl-At391Q4BwT1lvHuUw6LblNerEMGkQ', choices=[Choice(delta=ChoiceDelta(content=' te', function_call=None, refusal=None, role=None, tool_calls=None), finish_reason=None, index=0, logprobs=None)], created=1737683491, model='gpt-3.5-turbo-0125', object='chat.completion.chunk', service_tier='default', system_fingerprint=None, usage=None)\n",
      "ChatCompletionChunk(id='chatcmpl-At391Q4BwT1lvHuUw6LblNerEMGkQ', choices=[Choice(delta=ChoiceDelta(content='oria', function_call=None, refusal=None, role=None, tool_calls=None), finish_reason=None, index=0, logprobs=None)], created=1737683491, model='gpt-3.5-turbo-0125', object='chat.completion.chunk', service_tier='default', system_fingerprint=None, usage=None)\n",
      "ChatCompletionChunk(id='chatcmpl-At391Q4BwT1lvHuUw6LblNerEMGkQ', choices=[Choice(delta=ChoiceDelta(content=' da', function_call=None, refusal=None, role=None, tool_calls=None), finish_reason=None, index=0, logprobs=None)], created=1737683491, model='gpt-3.5-turbo-0125', object='chat.completion.chunk', service_tier='default', system_fingerprint=None, usage=None)\n",
      "ChatCompletionChunk(id='chatcmpl-At391Q4BwT1lvHuUw6LblNerEMGkQ', choices=[Choice(delta=ChoiceDelta(content=' relativ', function_call=None, refusal=None, role=None, tool_calls=None), finish_reason=None, index=0, logprobs=None)], created=1737683491, model='gpt-3.5-turbo-0125', object='chat.completion.chunk', service_tier='default', system_fingerprint=None, usage=None)\n",
      "ChatCompletionChunk(id='chatcmpl-At391Q4BwT1lvHuUw6LblNerEMGkQ', choices=[Choice(delta=ChoiceDelta(content='idade', function_call=None, refusal=None, role=None, tool_calls=None), finish_reason=None, index=0, logprobs=None)], created=1737683491, model='gpt-3.5-turbo-0125', object='chat.completion.chunk', service_tier='default', system_fingerprint=None, usage=None)\n",
      "ChatCompletionChunk(id='chatcmpl-At391Q4BwT1lvHuUw6LblNerEMGkQ', choices=[Choice(delta=ChoiceDelta(content=' geral', function_call=None, refusal=None, role=None, tool_calls=None), finish_reason=None, index=0, logprobs=None)], created=1737683491, model='gpt-3.5-turbo-0125', object='chat.completion.chunk', service_tier='default', system_fingerprint=None, usage=None)\n",
      "ChatCompletionChunk(id='chatcmpl-At391Q4BwT1lvHuUw6LblNerEMGkQ', choices=[Choice(delta=ChoiceDelta(content=',', function_call=None, refusal=None, role=None, tool_calls=None), finish_reason=None, index=0, logprobs=None)], created=1737683491, model='gpt-3.5-turbo-0125', object='chat.completion.chunk', service_tier='default', system_fingerprint=None, usage=None)\n",
      "ChatCompletionChunk(id='chatcmpl-At391Q4BwT1lvHuUw6LblNerEMGkQ', choices=[Choice(delta=ChoiceDelta(content=' prop', function_call=None, refusal=None, role=None, tool_calls=None), finish_reason=None, index=0, logprobs=None)], created=1737683491, model='gpt-3.5-turbo-0125', object='chat.completion.chunk', service_tier='default', system_fingerprint=None, usage=None)\n",
      "ChatCompletionChunk(id='chatcmpl-At391Q4BwT1lvHuUw6LblNerEMGkQ', choices=[Choice(delta=ChoiceDelta(content='osta', function_call=None, refusal=None, role=None, tool_calls=None), finish_reason=None, index=0, logprobs=None)], created=1737683491, model='gpt-3.5-turbo-0125', object='chat.completion.chunk', service_tier='default', system_fingerprint=None, usage=None)\n",
      "ChatCompletionChunk(id='chatcmpl-At391Q4BwT1lvHuUw6LblNerEMGkQ', choices=[Choice(delta=ChoiceDelta(content=' por', function_call=None, refusal=None, role=None, tool_calls=None), finish_reason=None, index=0, logprobs=None)], created=1737683491, model='gpt-3.5-turbo-0125', object='chat.completion.chunk', service_tier='default', system_fingerprint=None, usage=None)\n",
      "ChatCompletionChunk(id='chatcmpl-At391Q4BwT1lvHuUw6LblNerEMGkQ', choices=[Choice(delta=ChoiceDelta(content=' Einstein', function_call=None, refusal=None, role=None, tool_calls=None), finish_reason=None, index=0, logprobs=None)], created=1737683491, model='gpt-3.5-turbo-0125', object='chat.completion.chunk', service_tier='default', system_fingerprint=None, usage=None)\n",
      "ChatCompletionChunk(id='chatcmpl-At391Q4BwT1lvHuUw6LblNerEMGkQ', choices=[Choice(delta=ChoiceDelta(content=' em', function_call=None, refusal=None, role=None, tool_calls=None), finish_reason=None, index=0, logprobs=None)], created=1737683491, model='gpt-3.5-turbo-0125', object='chat.completion.chunk', service_tier='default', system_fingerprint=None, usage=None)\n",
      "ChatCompletionChunk(id='chatcmpl-At391Q4BwT1lvHuUw6LblNerEMGkQ', choices=[Choice(delta=ChoiceDelta(content=' ', function_call=None, refusal=None, role=None, tool_calls=None), finish_reason=None, index=0, logprobs=None)], created=1737683491, model='gpt-3.5-turbo-0125', object='chat.completion.chunk', service_tier='default', system_fingerprint=None, usage=None)\n",
      "ChatCompletionChunk(id='chatcmpl-At391Q4BwT1lvHuUw6LblNerEMGkQ', choices=[Choice(delta=ChoiceDelta(content='191', function_call=None, refusal=None, role=None, tool_calls=None), finish_reason=None, index=0, logprobs=None)], created=1737683491, model='gpt-3.5-turbo-0125', object='chat.completion.chunk', service_tier='default', system_fingerprint=None, usage=None)\n",
      "ChatCompletionChunk(id='chatcmpl-At391Q4BwT1lvHuUw6LblNerEMGkQ', choices=[Choice(delta=ChoiceDelta(content='5', function_call=None, refusal=None, role=None, tool_calls=None), finish_reason=None, index=0, logprobs=None)], created=1737683491, model='gpt-3.5-turbo-0125', object='chat.completion.chunk', service_tier='default', system_fingerprint=None, usage=None)\n",
      "ChatCompletionChunk(id='chatcmpl-At391Q4BwT1lvHuUw6LblNerEMGkQ', choices=[Choice(delta=ChoiceDelta(content=',', function_call=None, refusal=None, role=None, tool_calls=None), finish_reason=None, index=0, logprobs=None)], created=1737683491, model='gpt-3.5-turbo-0125', object='chat.completion.chunk', service_tier='default', system_fingerprint=None, usage=None)\n",
      "ChatCompletionChunk(id='chatcmpl-At391Q4BwT1lvHuUw6LblNerEMGkQ', choices=[Choice(delta=ChoiceDelta(content=' des', function_call=None, refusal=None, role=None, tool_calls=None), finish_reason=None, index=0, logprobs=None)], created=1737683491, model='gpt-3.5-turbo-0125', object='chat.completion.chunk', service_tier='default', system_fingerprint=None, usage=None)\n",
      "ChatCompletionChunk(id='chatcmpl-At391Q4BwT1lvHuUw6LblNerEMGkQ', choices=[Choice(delta=ChoiceDelta(content='cre', function_call=None, refusal=None, role=None, tool_calls=None), finish_reason=None, index=0, logprobs=None)], created=1737683491, model='gpt-3.5-turbo-0125', object='chat.completion.chunk', service_tier='default', system_fingerprint=None, usage=None)\n",
      "ChatCompletionChunk(id='chatcmpl-At391Q4BwT1lvHuUw6LblNerEMGkQ', choices=[Choice(delta=ChoiceDelta(content='ve', function_call=None, refusal=None, role=None, tool_calls=None), finish_reason=None, index=0, logprobs=None)], created=1737683491, model='gpt-3.5-turbo-0125', object='chat.completion.chunk', service_tier='default', system_fingerprint=None, usage=None)\n",
      "ChatCompletionChunk(id='chatcmpl-At391Q4BwT1lvHuUw6LblNerEMGkQ', choices=[Choice(delta=ChoiceDelta(content=' a', function_call=None, refusal=None, role=None, tool_calls=None), finish_reason=None, index=0, logprobs=None)], created=1737683491, model='gpt-3.5-turbo-0125', object='chat.completion.chunk', service_tier='default', system_fingerprint=None, usage=None)\n",
      "ChatCompletionChunk(id='chatcmpl-At391Q4BwT1lvHuUw6LblNerEMGkQ', choices=[Choice(delta=ChoiceDelta(content=' grav', function_call=None, refusal=None, role=None, tool_calls=None), finish_reason=None, index=0, logprobs=None)], created=1737683491, model='gpt-3.5-turbo-0125', object='chat.completion.chunk', service_tier='default', system_fingerprint=None, usage=None)\n",
      "ChatCompletionChunk(id='chatcmpl-At391Q4BwT1lvHuUw6LblNerEMGkQ', choices=[Choice(delta=ChoiceDelta(content='idade', function_call=None, refusal=None, role=None, tool_calls=None), finish_reason=None, index=0, logprobs=None)], created=1737683491, model='gpt-3.5-turbo-0125', object='chat.completion.chunk', service_tier='default', system_fingerprint=None, usage=None)\n",
      "ChatCompletionChunk(id='chatcmpl-At391Q4BwT1lvHuUw6LblNerEMGkQ', choices=[Choice(delta=ChoiceDelta(content=' como', function_call=None, refusal=None, role=None, tool_calls=None), finish_reason=None, index=0, logprobs=None)], created=1737683491, model='gpt-3.5-turbo-0125', object='chat.completion.chunk', service_tier='default', system_fingerprint=None, usage=None)\n",
      "ChatCompletionChunk(id='chatcmpl-At391Q4BwT1lvHuUw6LblNerEMGkQ', choices=[Choice(delta=ChoiceDelta(content=' a', function_call=None, refusal=None, role=None, tool_calls=None), finish_reason=None, index=0, logprobs=None)], created=1737683491, model='gpt-3.5-turbo-0125', object='chat.completion.chunk', service_tier='default', system_fingerprint=None, usage=None)\n",
      "ChatCompletionChunk(id='chatcmpl-At391Q4BwT1lvHuUw6LblNerEMGkQ', choices=[Choice(delta=ChoiceDelta(content=' cur', function_call=None, refusal=None, role=None, tool_calls=None), finish_reason=None, index=0, logprobs=None)], created=1737683491, model='gpt-3.5-turbo-0125', object='chat.completion.chunk', service_tier='default', system_fingerprint=None, usage=None)\n",
      "ChatCompletionChunk(id='chatcmpl-At391Q4BwT1lvHuUw6LblNerEMGkQ', choices=[Choice(delta=ChoiceDelta(content='v', function_call=None, refusal=None, role=None, tool_calls=None), finish_reason=None, index=0, logprobs=None)], created=1737683491, model='gpt-3.5-turbo-0125', object='chat.completion.chunk', service_tier='default', system_fingerprint=None, usage=None)\n",
      "ChatCompletionChunk(id='chatcmpl-At391Q4BwT1lvHuUw6LblNerEMGkQ', choices=[Choice(delta=ChoiceDelta(content='atura', function_call=None, refusal=None, role=None, tool_calls=None), finish_reason=None, index=0, logprobs=None)], created=1737683491, model='gpt-3.5-turbo-0125', object='chat.completion.chunk', service_tier='default', system_fingerprint=None, usage=None)\n",
      "ChatCompletionChunk(id='chatcmpl-At391Q4BwT1lvHuUw6LblNerEMGkQ', choices=[Choice(delta=ChoiceDelta(content=' do', function_call=None, refusal=None, role=None, tool_calls=None), finish_reason=None, index=0, logprobs=None)], created=1737683491, model='gpt-3.5-turbo-0125', object='chat.completion.chunk', service_tier='default', system_fingerprint=None, usage=None)\n",
      "ChatCompletionChunk(id='chatcmpl-At391Q4BwT1lvHuUw6LblNerEMGkQ', choices=[Choice(delta=ChoiceDelta(content=' espaço', function_call=None, refusal=None, role=None, tool_calls=None), finish_reason=None, index=0, logprobs=None)], created=1737683491, model='gpt-3.5-turbo-0125', object='chat.completion.chunk', service_tier='default', system_fingerprint=None, usage=None)\n",
      "ChatCompletionChunk(id='chatcmpl-At391Q4BwT1lvHuUw6LblNerEMGkQ', choices=[Choice(delta=ChoiceDelta(content='-temp', function_call=None, refusal=None, role=None, tool_calls=None), finish_reason=None, index=0, logprobs=None)], created=1737683491, model='gpt-3.5-turbo-0125', object='chat.completion.chunk', service_tier='default', system_fingerprint=None, usage=None)\n",
      "ChatCompletionChunk(id='chatcmpl-At391Q4BwT1lvHuUw6LblNerEMGkQ', choices=[Choice(delta=ChoiceDelta(content='o', function_call=None, refusal=None, role=None, tool_calls=None), finish_reason=None, index=0, logprobs=None)], created=1737683491, model='gpt-3.5-turbo-0125', object='chat.completion.chunk', service_tier='default', system_fingerprint=None, usage=None)\n",
      "ChatCompletionChunk(id='chatcmpl-At391Q4BwT1lvHuUw6LblNerEMGkQ', choices=[Choice(delta=ChoiceDelta(content=' caus', function_call=None, refusal=None, role=None, tool_calls=None), finish_reason=None, index=0, logprobs=None)], created=1737683491, model='gpt-3.5-turbo-0125', object='chat.completion.chunk', service_tier='default', system_fingerprint=None, usage=None)\n",
      "ChatCompletionChunk(id='chatcmpl-At391Q4BwT1lvHuUw6LblNerEMGkQ', choices=[Choice(delta=ChoiceDelta(content='ada', function_call=None, refusal=None, role=None, tool_calls=None), finish_reason=None, index=0, logprobs=None)], created=1737683491, model='gpt-3.5-turbo-0125', object='chat.completion.chunk', service_tier='default', system_fingerprint=None, usage=None)\n",
      "ChatCompletionChunk(id='chatcmpl-At391Q4BwT1lvHuUw6LblNerEMGkQ', choices=[Choice(delta=ChoiceDelta(content=' pela', function_call=None, refusal=None, role=None, tool_calls=None), finish_reason=None, index=0, logprobs=None)], created=1737683491, model='gpt-3.5-turbo-0125', object='chat.completion.chunk', service_tier='default', system_fingerprint=None, usage=None)\n",
      "ChatCompletionChunk(id='chatcmpl-At391Q4BwT1lvHuUw6LblNerEMGkQ', choices=[Choice(delta=ChoiceDelta(content=' pres', function_call=None, refusal=None, role=None, tool_calls=None), finish_reason=None, index=0, logprobs=None)], created=1737683491, model='gpt-3.5-turbo-0125', object='chat.completion.chunk', service_tier='default', system_fingerprint=None, usage=None)\n",
      "ChatCompletionChunk(id='chatcmpl-At391Q4BwT1lvHuUw6LblNerEMGkQ', choices=[Choice(delta=ChoiceDelta(content='ença', function_call=None, refusal=None, role=None, tool_calls=None), finish_reason=None, index=0, logprobs=None)], created=1737683491, model='gpt-3.5-turbo-0125', object='chat.completion.chunk', service_tier='default', system_fingerprint=None, usage=None)\n",
      "ChatCompletionChunk(id='chatcmpl-At391Q4BwT1lvHuUw6LblNerEMGkQ', choices=[Choice(delta=ChoiceDelta(content=' de', function_call=None, refusal=None, role=None, tool_calls=None), finish_reason=None, index=0, logprobs=None)], created=1737683491, model='gpt-3.5-turbo-0125', object='chat.completion.chunk', service_tier='default', system_fingerprint=None, usage=None)\n",
      "ChatCompletionChunk(id='chatcmpl-At391Q4BwT1lvHuUw6LblNerEMGkQ', choices=[Choice(delta=ChoiceDelta(content=' massa', function_call=None, refusal=None, role=None, tool_calls=None), finish_reason=None, index=0, logprobs=None)], created=1737683491, model='gpt-3.5-turbo-0125', object='chat.completion.chunk', service_tier='default', system_fingerprint=None, usage=None)\n",
      "ChatCompletionChunk(id='chatcmpl-At391Q4BwT1lvHuUw6LblNerEMGkQ', choices=[Choice(delta=ChoiceDelta(content=' e', function_call=None, refusal=None, role=None, tool_calls=None), finish_reason=None, index=0, logprobs=None)], created=1737683491, model='gpt-3.5-turbo-0125', object='chat.completion.chunk', service_tier='default', system_fingerprint=None, usage=None)\n",
      "ChatCompletionChunk(id='chatcmpl-At391Q4BwT1lvHuUw6LblNerEMGkQ', choices=[Choice(delta=ChoiceDelta(content=' energia', function_call=None, refusal=None, role=None, tool_calls=None), finish_reason=None, index=0, logprobs=None)], created=1737683491, model='gpt-3.5-turbo-0125', object='chat.completion.chunk', service_tier='default', system_fingerprint=None, usage=None)\n",
      "ChatCompletionChunk(id='chatcmpl-At391Q4BwT1lvHuUw6LblNerEMGkQ', choices=[Choice(delta=ChoiceDelta(content='.', function_call=None, refusal=None, role=None, tool_calls=None), finish_reason=None, index=0, logprobs=None)], created=1737683491, model='gpt-3.5-turbo-0125', object='chat.completion.chunk', service_tier='default', system_fingerprint=None, usage=None)\n",
      "ChatCompletionChunk(id='chatcmpl-At391Q4BwT1lvHuUw6LblNerEMGkQ', choices=[Choice(delta=ChoiceDelta(content=' Seg', function_call=None, refusal=None, role=None, tool_calls=None), finish_reason=None, index=0, logprobs=None)], created=1737683491, model='gpt-3.5-turbo-0125', object='chat.completion.chunk', service_tier='default', system_fingerprint=None, usage=None)\n",
      "ChatCompletionChunk(id='chatcmpl-At391Q4BwT1lvHuUw6LblNerEMGkQ', choices=[Choice(delta=ChoiceDelta(content='undo', function_call=None, refusal=None, role=None, tool_calls=None), finish_reason=None, index=0, logprobs=None)], created=1737683491, model='gpt-3.5-turbo-0125', object='chat.completion.chunk', service_tier='default', system_fingerprint=None, usage=None)\n",
      "ChatCompletionChunk(id='chatcmpl-At391Q4BwT1lvHuUw6LblNerEMGkQ', choices=[Choice(delta=ChoiceDelta(content=' essa', function_call=None, refusal=None, role=None, tool_calls=None), finish_reason=None, index=0, logprobs=None)], created=1737683491, model='gpt-3.5-turbo-0125', object='chat.completion.chunk', service_tier='default', system_fingerprint=None, usage=None)\n",
      "ChatCompletionChunk(id='chatcmpl-At391Q4BwT1lvHuUw6LblNerEMGkQ', choices=[Choice(delta=ChoiceDelta(content=' te', function_call=None, refusal=None, role=None, tool_calls=None), finish_reason=None, index=0, logprobs=None)], created=1737683491, model='gpt-3.5-turbo-0125', object='chat.completion.chunk', service_tier='default', system_fingerprint=None, usage=None)\n",
      "ChatCompletionChunk(id='chatcmpl-At391Q4BwT1lvHuUw6LblNerEMGkQ', choices=[Choice(delta=ChoiceDelta(content='oria', function_call=None, refusal=None, role=None, tool_calls=None), finish_reason=None, index=0, logprobs=None)], created=1737683491, model='gpt-3.5-turbo-0125', object='chat.completion.chunk', service_tier='default', system_fingerprint=None, usage=None)\n",
      "ChatCompletionChunk(id='chatcmpl-At391Q4BwT1lvHuUw6LblNerEMGkQ', choices=[Choice(delta=ChoiceDelta(content=',', function_call=None, refusal=None, role=None, tool_calls=None), finish_reason=None, index=0, logprobs=None)], created=1737683491, model='gpt-3.5-turbo-0125', object='chat.completion.chunk', service_tier='default', system_fingerprint=None, usage=None)\n",
      "ChatCompletionChunk(id='chatcmpl-At391Q4BwT1lvHuUw6LblNerEMGkQ', choices=[Choice(delta=ChoiceDelta(content=' cor', function_call=None, refusal=None, role=None, tool_calls=None), finish_reason=None, index=0, logprobs=None)], created=1737683491, model='gpt-3.5-turbo-0125', object='chat.completion.chunk', service_tier='default', system_fingerprint=None, usage=None)\n",
      "ChatCompletionChunk(id='chatcmpl-At391Q4BwT1lvHuUw6LblNerEMGkQ', choices=[Choice(delta=ChoiceDelta(content='pos', function_call=None, refusal=None, role=None, tool_calls=None), finish_reason=None, index=0, logprobs=None)], created=1737683491, model='gpt-3.5-turbo-0125', object='chat.completion.chunk', service_tier='default', system_fingerprint=None, usage=None)\n",
      "ChatCompletionChunk(id='chatcmpl-At391Q4BwT1lvHuUw6LblNerEMGkQ', choices=[Choice(delta=ChoiceDelta(content=' mass', function_call=None, refusal=None, role=None, tool_calls=None), finish_reason=None, index=0, logprobs=None)], created=1737683491, model='gpt-3.5-turbo-0125', object='chat.completion.chunk', service_tier='default', system_fingerprint=None, usage=None)\n",
      "ChatCompletionChunk(id='chatcmpl-At391Q4BwT1lvHuUw6LblNerEMGkQ', choices=[Choice(delta=ChoiceDelta(content='ivos', function_call=None, refusal=None, role=None, tool_calls=None), finish_reason=None, index=0, logprobs=None)], created=1737683491, model='gpt-3.5-turbo-0125', object='chat.completion.chunk', service_tier='default', system_fingerprint=None, usage=None)\n",
      "ChatCompletionChunk(id='chatcmpl-At391Q4BwT1lvHuUw6LblNerEMGkQ', choices=[Choice(delta=ChoiceDelta(content=' como', function_call=None, refusal=None, role=None, tool_calls=None), finish_reason=None, index=0, logprobs=None)], created=1737683491, model='gpt-3.5-turbo-0125', object='chat.completion.chunk', service_tier='default', system_fingerprint=None, usage=None)\n",
      "ChatCompletionChunk(id='chatcmpl-At391Q4BwT1lvHuUw6LblNerEMGkQ', choices=[Choice(delta=ChoiceDelta(content=' planet', function_call=None, refusal=None, role=None, tool_calls=None), finish_reason=None, index=0, logprobs=None)], created=1737683491, model='gpt-3.5-turbo-0125', object='chat.completion.chunk', service_tier='default', system_fingerprint=None, usage=None)\n",
      "ChatCompletionChunk(id='chatcmpl-At391Q4BwT1lvHuUw6LblNerEMGkQ', choices=[Choice(delta=ChoiceDelta(content='as', function_call=None, refusal=None, role=None, tool_calls=None), finish_reason=None, index=0, logprobs=None)], created=1737683491, model='gpt-3.5-turbo-0125', object='chat.completion.chunk', service_tier='default', system_fingerprint=None, usage=None)\n",
      "ChatCompletionChunk(id='chatcmpl-At391Q4BwT1lvHuUw6LblNerEMGkQ', choices=[Choice(delta=ChoiceDelta(content=' e', function_call=None, refusal=None, role=None, tool_calls=None), finish_reason=None, index=0, logprobs=None)], created=1737683491, model='gpt-3.5-turbo-0125', object='chat.completion.chunk', service_tier='default', system_fingerprint=None, usage=None)\n",
      "ChatCompletionChunk(id='chatcmpl-At391Q4BwT1lvHuUw6LblNerEMGkQ', choices=[Choice(delta=ChoiceDelta(content=' est', function_call=None, refusal=None, role=None, tool_calls=None), finish_reason=None, index=0, logprobs=None)], created=1737683491, model='gpt-3.5-turbo-0125', object='chat.completion.chunk', service_tier='default', system_fingerprint=None, usage=None)\n",
      "ChatCompletionChunk(id='chatcmpl-At391Q4BwT1lvHuUw6LblNerEMGkQ', choices=[Choice(delta=ChoiceDelta(content='rel', function_call=None, refusal=None, role=None, tool_calls=None), finish_reason=None, index=0, logprobs=None)], created=1737683491, model='gpt-3.5-turbo-0125', object='chat.completion.chunk', service_tier='default', system_fingerprint=None, usage=None)\n",
      "ChatCompletionChunk(id='chatcmpl-At391Q4BwT1lvHuUw6LblNerEMGkQ', choices=[Choice(delta=ChoiceDelta(content='as', function_call=None, refusal=None, role=None, tool_calls=None), finish_reason=None, index=0, logprobs=None)], created=1737683491, model='gpt-3.5-turbo-0125', object='chat.completion.chunk', service_tier='default', system_fingerprint=None, usage=None)\n",
      "ChatCompletionChunk(id='chatcmpl-At391Q4BwT1lvHuUw6LblNerEMGkQ', choices=[Choice(delta=ChoiceDelta(content=' cur', function_call=None, refusal=None, role=None, tool_calls=None), finish_reason=None, index=0, logprobs=None)], created=1737683491, model='gpt-3.5-turbo-0125', object='chat.completion.chunk', service_tier='default', system_fingerprint=None, usage=None)\n",
      "ChatCompletionChunk(id='chatcmpl-At391Q4BwT1lvHuUw6LblNerEMGkQ', choices=[Choice(delta=ChoiceDelta(content='v', function_call=None, refusal=None, role=None, tool_calls=None), finish_reason=None, index=0, logprobs=None)], created=1737683491, model='gpt-3.5-turbo-0125', object='chat.completion.chunk', service_tier='default', system_fingerprint=None, usage=None)\n",
      "ChatCompletionChunk(id='chatcmpl-At391Q4BwT1lvHuUw6LblNerEMGkQ', choices=[Choice(delta=ChoiceDelta(content='am', function_call=None, refusal=None, role=None, tool_calls=None), finish_reason=None, index=0, logprobs=None)], created=1737683491, model='gpt-3.5-turbo-0125', object='chat.completion.chunk', service_tier='default', system_fingerprint=None, usage=None)\n",
      "ChatCompletionChunk(id='chatcmpl-At391Q4BwT1lvHuUw6LblNerEMGkQ', choices=[Choice(delta=ChoiceDelta(content=' o', function_call=None, refusal=None, role=None, tool_calls=None), finish_reason=None, index=0, logprobs=None)], created=1737683491, model='gpt-3.5-turbo-0125', object='chat.completion.chunk', service_tier='default', system_fingerprint=None, usage=None)\n",
      "ChatCompletionChunk(id='chatcmpl-At391Q4BwT1lvHuUw6LblNerEMGkQ', choices=[Choice(delta=ChoiceDelta(content=' espaço', function_call=None, refusal=None, role=None, tool_calls=None), finish_reason=None, index=0, logprobs=None)], created=1737683491, model='gpt-3.5-turbo-0125', object='chat.completion.chunk', service_tier='default', system_fingerprint=None, usage=None)\n",
      "ChatCompletionChunk(id='chatcmpl-At391Q4BwT1lvHuUw6LblNerEMGkQ', choices=[Choice(delta=ChoiceDelta(content=' ao', function_call=None, refusal=None, role=None, tool_calls=None), finish_reason=None, index=0, logprobs=None)], created=1737683491, model='gpt-3.5-turbo-0125', object='chat.completion.chunk', service_tier='default', system_fingerprint=None, usage=None)\n",
      "ChatCompletionChunk(id='chatcmpl-At391Q4BwT1lvHuUw6LblNerEMGkQ', choices=[Choice(delta=ChoiceDelta(content=' seu', function_call=None, refusal=None, role=None, tool_calls=None), finish_reason=None, index=0, logprobs=None)], created=1737683491, model='gpt-3.5-turbo-0125', object='chat.completion.chunk', service_tier='default', system_fingerprint=None, usage=None)\n",
      "ChatCompletionChunk(id='chatcmpl-At391Q4BwT1lvHuUw6LblNerEMGkQ', choices=[Choice(delta=ChoiceDelta(content=' red', function_call=None, refusal=None, role=None, tool_calls=None), finish_reason=None, index=0, logprobs=None)], created=1737683491, model='gpt-3.5-turbo-0125', object='chat.completion.chunk', service_tier='default', system_fingerprint=None, usage=None)\n",
      "ChatCompletionChunk(id='chatcmpl-At391Q4BwT1lvHuUw6LblNerEMGkQ', choices=[Choice(delta=ChoiceDelta(content='or', function_call=None, refusal=None, role=None, tool_calls=None), finish_reason=None, index=0, logprobs=None)], created=1737683491, model='gpt-3.5-turbo-0125', object='chat.completion.chunk', service_tier='default', system_fingerprint=None, usage=None)\n",
      "ChatCompletionChunk(id='chatcmpl-At391Q4BwT1lvHuUw6LblNerEMGkQ', choices=[Choice(delta=ChoiceDelta(content=',', function_call=None, refusal=None, role=None, tool_calls=None), finish_reason=None, index=0, logprobs=None)], created=1737683491, model='gpt-3.5-turbo-0125', object='chat.completion.chunk', service_tier='default', system_fingerprint=None, usage=None)\n",
      "ChatCompletionChunk(id='chatcmpl-At391Q4BwT1lvHuUw6LblNerEMGkQ', choices=[Choice(delta=ChoiceDelta(content=' o', function_call=None, refusal=None, role=None, tool_calls=None), finish_reason=None, index=0, logprobs=None)], created=1737683491, model='gpt-3.5-turbo-0125', object='chat.completion.chunk', service_tier='default', system_fingerprint=None, usage=None)\n",
      "ChatCompletionChunk(id='chatcmpl-At391Q4BwT1lvHuUw6LblNerEMGkQ', choices=[Choice(delta=ChoiceDelta(content=' que', function_call=None, refusal=None, role=None, tool_calls=None), finish_reason=None, index=0, logprobs=None)], created=1737683491, model='gpt-3.5-turbo-0125', object='chat.completion.chunk', service_tier='default', system_fingerprint=None, usage=None)\n",
      "ChatCompletionChunk(id='chatcmpl-At391Q4BwT1lvHuUw6LblNerEMGkQ', choices=[Choice(delta=ChoiceDelta(content=' faz', function_call=None, refusal=None, role=None, tool_calls=None), finish_reason=None, index=0, logprobs=None)], created=1737683491, model='gpt-3.5-turbo-0125', object='chat.completion.chunk', service_tier='default', system_fingerprint=None, usage=None)\n",
      "ChatCompletionChunk(id='chatcmpl-At391Q4BwT1lvHuUw6LblNerEMGkQ', choices=[Choice(delta=ChoiceDelta(content=' com', function_call=None, refusal=None, role=None, tool_calls=None), finish_reason=None, index=0, logprobs=None)], created=1737683491, model='gpt-3.5-turbo-0125', object='chat.completion.chunk', service_tier='default', system_fingerprint=None, usage=None)\n",
      "ChatCompletionChunk(id='chatcmpl-At391Q4BwT1lvHuUw6LblNerEMGkQ', choices=[Choice(delta=ChoiceDelta(content=' que', function_call=None, refusal=None, role=None, tool_calls=None), finish_reason=None, index=0, logprobs=None)], created=1737683491, model='gpt-3.5-turbo-0125', object='chat.completion.chunk', service_tier='default', system_fingerprint=None, usage=None)\n",
      "ChatCompletionChunk(id='chatcmpl-At391Q4BwT1lvHuUw6LblNerEMGkQ', choices=[Choice(delta=ChoiceDelta(content=' outros', function_call=None, refusal=None, role=None, tool_calls=None), finish_reason=None, index=0, logprobs=None)], created=1737683491, model='gpt-3.5-turbo-0125', object='chat.completion.chunk', service_tier='default', system_fingerprint=None, usage=None)\n",
      "ChatCompletionChunk(id='chatcmpl-At391Q4BwT1lvHuUw6LblNerEMGkQ', choices=[Choice(delta=ChoiceDelta(content=' cor', function_call=None, refusal=None, role=None, tool_calls=None), finish_reason=None, index=0, logprobs=None)], created=1737683491, model='gpt-3.5-turbo-0125', object='chat.completion.chunk', service_tier='default', system_fingerprint=None, usage=None)\n",
      "ChatCompletionChunk(id='chatcmpl-At391Q4BwT1lvHuUw6LblNerEMGkQ', choices=[Choice(delta=ChoiceDelta(content='pos', function_call=None, refusal=None, role=None, tool_calls=None), finish_reason=None, index=0, logprobs=None)], created=1737683491, model='gpt-3.5-turbo-0125', object='chat.completion.chunk', service_tier='default', system_fingerprint=None, usage=None)\n",
      "ChatCompletionChunk(id='chatcmpl-At391Q4BwT1lvHuUw6LblNerEMGkQ', choices=[Choice(delta=ChoiceDelta(content=' se', function_call=None, refusal=None, role=None, tool_calls=None), finish_reason=None, index=0, logprobs=None)], created=1737683491, model='gpt-3.5-turbo-0125', object='chat.completion.chunk', service_tier='default', system_fingerprint=None, usage=None)\n",
      "ChatCompletionChunk(id='chatcmpl-At391Q4BwT1lvHuUw6LblNerEMGkQ', choices=[Choice(delta=ChoiceDelta(content=' mov', function_call=None, refusal=None, role=None, tool_calls=None), finish_reason=None, index=0, logprobs=None)], created=1737683491, model='gpt-3.5-turbo-0125', object='chat.completion.chunk', service_tier='default', system_fingerprint=None, usage=None)\n",
      "ChatCompletionChunk(id='chatcmpl-At391Q4BwT1lvHuUw6LblNerEMGkQ', choices=[Choice(delta=ChoiceDelta(content='am', function_call=None, refusal=None, role=None, tool_calls=None), finish_reason=None, index=0, logprobs=None)], created=1737683491, model='gpt-3.5-turbo-0125', object='chat.completion.chunk', service_tier='default', system_fingerprint=None, usage=None)\n",
      "ChatCompletionChunk(id='chatcmpl-At391Q4BwT1lvHuUw6LblNerEMGkQ', choices=[Choice(delta=ChoiceDelta(content=' ao', function_call=None, refusal=None, role=None, tool_calls=None), finish_reason=None, index=0, logprobs=None)], created=1737683491, model='gpt-3.5-turbo-0125', object='chat.completion.chunk', service_tier='default', system_fingerprint=None, usage=None)\n",
      "ChatCompletionChunk(id='chatcmpl-At391Q4BwT1lvHuUw6LblNerEMGkQ', choices=[Choice(delta=ChoiceDelta(content=' long', function_call=None, refusal=None, role=None, tool_calls=None), finish_reason=None, index=0, logprobs=None)], created=1737683491, model='gpt-3.5-turbo-0125', object='chat.completion.chunk', service_tier='default', system_fingerprint=None, usage=None)\n",
      "ChatCompletionChunk(id='chatcmpl-At391Q4BwT1lvHuUw6LblNerEMGkQ', choices=[Choice(delta=ChoiceDelta(content='o', function_call=None, refusal=None, role=None, tool_calls=None), finish_reason=None, index=0, logprobs=None)], created=1737683491, model='gpt-3.5-turbo-0125', object='chat.completion.chunk', service_tier='default', system_fingerprint=None, usage=None)\n",
      "ChatCompletionChunk(id='chatcmpl-At391Q4BwT1lvHuUw6LblNerEMGkQ', choices=[Choice(delta=ChoiceDelta(content=' dessa', function_call=None, refusal=None, role=None, tool_calls=None), finish_reason=None, index=0, logprobs=None)], created=1737683491, model='gpt-3.5-turbo-0125', object='chat.completion.chunk', service_tier='default', system_fingerprint=None, usage=None)\n",
      "ChatCompletionChunk(id='chatcmpl-At391Q4BwT1lvHuUw6LblNerEMGkQ', choices=[Choice(delta=ChoiceDelta(content=' cur', function_call=None, refusal=None, role=None, tool_calls=None), finish_reason=None, index=0, logprobs=None)], created=1737683491, model='gpt-3.5-turbo-0125', object='chat.completion.chunk', service_tier='default', system_fingerprint=None, usage=None)\n",
      "ChatCompletionChunk(id='chatcmpl-At391Q4BwT1lvHuUw6LblNerEMGkQ', choices=[Choice(delta=ChoiceDelta(content='v', function_call=None, refusal=None, role=None, tool_calls=None), finish_reason=None, index=0, logprobs=None)], created=1737683491, model='gpt-3.5-turbo-0125', object='chat.completion.chunk', service_tier='default', system_fingerprint=None, usage=None)\n",
      "ChatCompletionChunk(id='chatcmpl-At391Q4BwT1lvHuUw6LblNerEMGkQ', choices=[Choice(delta=ChoiceDelta(content='atura', function_call=None, refusal=None, role=None, tool_calls=None), finish_reason=None, index=0, logprobs=None)], created=1737683491, model='gpt-3.5-turbo-0125', object='chat.completion.chunk', service_tier='default', system_fingerprint=None, usage=None)\n",
      "ChatCompletionChunk(id='chatcmpl-At391Q4BwT1lvHuUw6LblNerEMGkQ', choices=[Choice(delta=ChoiceDelta(content=',', function_call=None, refusal=None, role=None, tool_calls=None), finish_reason=None, index=0, logprobs=None)], created=1737683491, model='gpt-3.5-turbo-0125', object='chat.completion.chunk', service_tier='default', system_fingerprint=None, usage=None)\n",
      "ChatCompletionChunk(id='chatcmpl-At391Q4BwT1lvHuUw6LblNerEMGkQ', choices=[Choice(delta=ChoiceDelta(content=' segu', function_call=None, refusal=None, role=None, tool_calls=None), finish_reason=None, index=0, logprobs=None)], created=1737683491, model='gpt-3.5-turbo-0125', object='chat.completion.chunk', service_tier='default', system_fingerprint=None, usage=None)\n",
      "ChatCompletionChunk(id='chatcmpl-At391Q4BwT1lvHuUw6LblNerEMGkQ', choices=[Choice(delta=ChoiceDelta(content='indo', function_call=None, refusal=None, role=None, tool_calls=None), finish_reason=None, index=0, logprobs=None)], created=1737683491, model='gpt-3.5-turbo-0125', object='chat.completion.chunk', service_tier='default', system_fingerprint=None, usage=None)\n",
      "ChatCompletionChunk(id='chatcmpl-At391Q4BwT1lvHuUw6LblNerEMGkQ', choices=[Choice(delta=ChoiceDelta(content=' traj', function_call=None, refusal=None, role=None, tool_calls=None), finish_reason=None, index=0, logprobs=None)], created=1737683491, model='gpt-3.5-turbo-0125', object='chat.completion.chunk', service_tier='default', system_fingerprint=None, usage=None)\n",
      "ChatCompletionChunk(id='chatcmpl-At391Q4BwT1lvHuUw6LblNerEMGkQ', choices=[Choice(delta=ChoiceDelta(content='et', function_call=None, refusal=None, role=None, tool_calls=None), finish_reason=None, index=0, logprobs=None)], created=1737683491, model='gpt-3.5-turbo-0125', object='chat.completion.chunk', service_tier='default', system_fingerprint=None, usage=None)\n",
      "ChatCompletionChunk(id='chatcmpl-At391Q4BwT1lvHuUw6LblNerEMGkQ', choices=[Choice(delta=ChoiceDelta(content='ó', function_call=None, refusal=None, role=None, tool_calls=None), finish_reason=None, index=0, logprobs=None)], created=1737683491, model='gpt-3.5-turbo-0125', object='chat.completion.chunk', service_tier='default', system_fingerprint=None, usage=None)\n",
      "ChatCompletionChunk(id='chatcmpl-At391Q4BwT1lvHuUw6LblNerEMGkQ', choices=[Choice(delta=ChoiceDelta(content='rias', function_call=None, refusal=None, role=None, tool_calls=None), finish_reason=None, index=0, logprobs=None)], created=1737683491, model='gpt-3.5-turbo-0125', object='chat.completion.chunk', service_tier='default', system_fingerprint=None, usage=None)\n",
      "ChatCompletionChunk(id='chatcmpl-At391Q4BwT1lvHuUw6LblNerEMGkQ', choices=[Choice(delta=ChoiceDelta(content=' cur', function_call=None, refusal=None, role=None, tool_calls=None), finish_reason=None, index=0, logprobs=None)], created=1737683491, model='gpt-3.5-turbo-0125', object='chat.completion.chunk', service_tier='default', system_fingerprint=None, usage=None)\n",
      "ChatCompletionChunk(id='chatcmpl-At391Q4BwT1lvHuUw6LblNerEMGkQ', choices=[Choice(delta=ChoiceDelta(content='vas', function_call=None, refusal=None, role=None, tool_calls=None), finish_reason=None, index=0, logprobs=None)], created=1737683491, model='gpt-3.5-turbo-0125', object='chat.completion.chunk', service_tier='default', system_fingerprint=None, usage=None)\n",
      "ChatCompletionChunk(id='chatcmpl-At391Q4BwT1lvHuUw6LblNerEMGkQ', choices=[Choice(delta=ChoiceDelta(content='.\\n\\n', function_call=None, refusal=None, role=None, tool_calls=None), finish_reason=None, index=0, logprobs=None)], created=1737683491, model='gpt-3.5-turbo-0125', object='chat.completion.chunk', service_tier='default', system_fingerprint=None, usage=None)\n",
      "ChatCompletionChunk(id='chatcmpl-At391Q4BwT1lvHuUw6LblNerEMGkQ', choices=[Choice(delta=ChoiceDelta(content='A', function_call=None, refusal=None, role=None, tool_calls=None), finish_reason=None, index=0, logprobs=None)], created=1737683491, model='gpt-3.5-turbo-0125', object='chat.completion.chunk', service_tier='default', system_fingerprint=None, usage=None)\n",
      "ChatCompletionChunk(id='chatcmpl-At391Q4BwT1lvHuUw6LblNerEMGkQ', choices=[Choice(delta=ChoiceDelta(content=' te', function_call=None, refusal=None, role=None, tool_calls=None), finish_reason=None, index=0, logprobs=None)], created=1737683491, model='gpt-3.5-turbo-0125', object='chat.completion.chunk', service_tier='default', system_fingerprint=None, usage=None)\n",
      "ChatCompletionChunk(id='chatcmpl-At391Q4BwT1lvHuUw6LblNerEMGkQ', choices=[Choice(delta=ChoiceDelta(content='oria', function_call=None, refusal=None, role=None, tool_calls=None), finish_reason=None, index=0, logprobs=None)], created=1737683491, model='gpt-3.5-turbo-0125', object='chat.completion.chunk', service_tier='default', system_fingerprint=None, usage=None)\n",
      "ChatCompletionChunk(id='chatcmpl-At391Q4BwT1lvHuUw6LblNerEMGkQ', choices=[Choice(delta=ChoiceDelta(content=' da', function_call=None, refusal=None, role=None, tool_calls=None), finish_reason=None, index=0, logprobs=None)], created=1737683491, model='gpt-3.5-turbo-0125', object='chat.completion.chunk', service_tier='default', system_fingerprint=None, usage=None)\n",
      "ChatCompletionChunk(id='chatcmpl-At391Q4BwT1lvHuUw6LblNerEMGkQ', choices=[Choice(delta=ChoiceDelta(content=' relativ', function_call=None, refusal=None, role=None, tool_calls=None), finish_reason=None, index=0, logprobs=None)], created=1737683491, model='gpt-3.5-turbo-0125', object='chat.completion.chunk', service_tier='default', system_fingerprint=None, usage=None)\n",
      "ChatCompletionChunk(id='chatcmpl-At391Q4BwT1lvHuUw6LblNerEMGkQ', choices=[Choice(delta=ChoiceDelta(content='idade', function_call=None, refusal=None, role=None, tool_calls=None), finish_reason=None, index=0, logprobs=None)], created=1737683491, model='gpt-3.5-turbo-0125', object='chat.completion.chunk', service_tier='default', system_fingerprint=None, usage=None)\n",
      "ChatCompletionChunk(id='chatcmpl-At391Q4BwT1lvHuUw6LblNerEMGkQ', choices=[Choice(delta=ChoiceDelta(content=' rev', function_call=None, refusal=None, role=None, tool_calls=None), finish_reason=None, index=0, logprobs=None)], created=1737683491, model='gpt-3.5-turbo-0125', object='chat.completion.chunk', service_tier='default', system_fingerprint=None, usage=None)\n",
      "ChatCompletionChunk(id='chatcmpl-At391Q4BwT1lvHuUw6LblNerEMGkQ', choices=[Choice(delta=ChoiceDelta(content='olucion', function_call=None, refusal=None, role=None, tool_calls=None), finish_reason=None, index=0, logprobs=None)], created=1737683491, model='gpt-3.5-turbo-0125', object='chat.completion.chunk', service_tier='default', system_fingerprint=None, usage=None)\n",
      "ChatCompletionChunk(id='chatcmpl-At391Q4BwT1lvHuUw6LblNerEMGkQ', choices=[Choice(delta=ChoiceDelta(content='ou', function_call=None, refusal=None, role=None, tool_calls=None), finish_reason=None, index=0, logprobs=None)], created=1737683491, model='gpt-3.5-turbo-0125', object='chat.completion.chunk', service_tier='default', system_fingerprint=None, usage=None)\n",
      "ChatCompletionChunk(id='chatcmpl-At391Q4BwT1lvHuUw6LblNerEMGkQ', choices=[Choice(delta=ChoiceDelta(content=' a', function_call=None, refusal=None, role=None, tool_calls=None), finish_reason=None, index=0, logprobs=None)], created=1737683491, model='gpt-3.5-turbo-0125', object='chat.completion.chunk', service_tier='default', system_fingerprint=None, usage=None)\n",
      "ChatCompletionChunk(id='chatcmpl-At391Q4BwT1lvHuUw6LblNerEMGkQ', choices=[Choice(delta=ChoiceDelta(content=' fís', function_call=None, refusal=None, role=None, tool_calls=None), finish_reason=None, index=0, logprobs=None)], created=1737683491, model='gpt-3.5-turbo-0125', object='chat.completion.chunk', service_tier='default', system_fingerprint=None, usage=None)\n",
      "ChatCompletionChunk(id='chatcmpl-At391Q4BwT1lvHuUw6LblNerEMGkQ', choices=[Choice(delta=ChoiceDelta(content='ica', function_call=None, refusal=None, role=None, tool_calls=None), finish_reason=None, index=0, logprobs=None)], created=1737683491, model='gpt-3.5-turbo-0125', object='chat.completion.chunk', service_tier='default', system_fingerprint=None, usage=None)\n",
      "ChatCompletionChunk(id='chatcmpl-At391Q4BwT1lvHuUw6LblNerEMGkQ', choices=[Choice(delta=ChoiceDelta(content=' ao', function_call=None, refusal=None, role=None, tool_calls=None), finish_reason=None, index=0, logprobs=None)], created=1737683491, model='gpt-3.5-turbo-0125', object='chat.completion.chunk', service_tier='default', system_fingerprint=None, usage=None)\n",
      "ChatCompletionChunk(id='chatcmpl-At391Q4BwT1lvHuUw6LblNerEMGkQ', choices=[Choice(delta=ChoiceDelta(content=' propor', function_call=None, refusal=None, role=None, tool_calls=None), finish_reason=None, index=0, logprobs=None)], created=1737683491, model='gpt-3.5-turbo-0125', object='chat.completion.chunk', service_tier='default', system_fingerprint=None, usage=None)\n",
      "ChatCompletionChunk(id='chatcmpl-At391Q4BwT1lvHuUw6LblNerEMGkQ', choices=[Choice(delta=ChoiceDelta(content=' uma', function_call=None, refusal=None, role=None, tool_calls=None), finish_reason=None, index=0, logprobs=None)], created=1737683491, model='gpt-3.5-turbo-0125', object='chat.completion.chunk', service_tier='default', system_fingerprint=None, usage=None)\n",
      "ChatCompletionChunk(id='chatcmpl-At391Q4BwT1lvHuUw6LblNerEMGkQ', choices=[Choice(delta=ChoiceDelta(content=' nova', function_call=None, refusal=None, role=None, tool_calls=None), finish_reason=None, index=0, logprobs=None)], created=1737683491, model='gpt-3.5-turbo-0125', object='chat.completion.chunk', service_tier='default', system_fingerprint=None, usage=None)\n",
      "ChatCompletionChunk(id='chatcmpl-At391Q4BwT1lvHuUw6LblNerEMGkQ', choices=[Choice(delta=ChoiceDelta(content=' mane', function_call=None, refusal=None, role=None, tool_calls=None), finish_reason=None, index=0, logprobs=None)], created=1737683491, model='gpt-3.5-turbo-0125', object='chat.completion.chunk', service_tier='default', system_fingerprint=None, usage=None)\n",
      "ChatCompletionChunk(id='chatcmpl-At391Q4BwT1lvHuUw6LblNerEMGkQ', choices=[Choice(delta=ChoiceDelta(content='ira', function_call=None, refusal=None, role=None, tool_calls=None), finish_reason=None, index=0, logprobs=None)], created=1737683491, model='gpt-3.5-turbo-0125', object='chat.completion.chunk', service_tier='default', system_fingerprint=None, usage=None)\n",
      "ChatCompletionChunk(id='chatcmpl-At391Q4BwT1lvHuUw6LblNerEMGkQ', choices=[Choice(delta=ChoiceDelta(content=' de', function_call=None, refusal=None, role=None, tool_calls=None), finish_reason=None, index=0, logprobs=None)], created=1737683491, model='gpt-3.5-turbo-0125', object='chat.completion.chunk', service_tier='default', system_fingerprint=None, usage=None)\n",
      "ChatCompletionChunk(id='chatcmpl-At391Q4BwT1lvHuUw6LblNerEMGkQ', choices=[Choice(delta=ChoiceDelta(content=' entender', function_call=None, refusal=None, role=None, tool_calls=None), finish_reason=None, index=0, logprobs=None)], created=1737683491, model='gpt-3.5-turbo-0125', object='chat.completion.chunk', service_tier='default', system_fingerprint=None, usage=None)\n",
      "ChatCompletionChunk(id='chatcmpl-At391Q4BwT1lvHuUw6LblNerEMGkQ', choices=[Choice(delta=ChoiceDelta(content=' o', function_call=None, refusal=None, role=None, tool_calls=None), finish_reason=None, index=0, logprobs=None)], created=1737683491, model='gpt-3.5-turbo-0125', object='chat.completion.chunk', service_tier='default', system_fingerprint=None, usage=None)\n",
      "ChatCompletionChunk(id='chatcmpl-At391Q4BwT1lvHuUw6LblNerEMGkQ', choices=[Choice(delta=ChoiceDelta(content=' univers', function_call=None, refusal=None, role=None, tool_calls=None), finish_reason=None, index=0, logprobs=None)], created=1737683491, model='gpt-3.5-turbo-0125', object='chat.completion.chunk', service_tier='default', system_fingerprint=None, usage=None)\n",
      "ChatCompletionChunk(id='chatcmpl-At391Q4BwT1lvHuUw6LblNerEMGkQ', choices=[Choice(delta=ChoiceDelta(content='o', function_call=None, refusal=None, role=None, tool_calls=None), finish_reason=None, index=0, logprobs=None)], created=1737683491, model='gpt-3.5-turbo-0125', object='chat.completion.chunk', service_tier='default', system_fingerprint=None, usage=None)\n",
      "ChatCompletionChunk(id='chatcmpl-At391Q4BwT1lvHuUw6LblNerEMGkQ', choices=[Choice(delta=ChoiceDelta(content=',', function_call=None, refusal=None, role=None, tool_calls=None), finish_reason=None, index=0, logprobs=None)], created=1737683491, model='gpt-3.5-turbo-0125', object='chat.completion.chunk', service_tier='default', system_fingerprint=None, usage=None)\n",
      "ChatCompletionChunk(id='chatcmpl-At391Q4BwT1lvHuUw6LblNerEMGkQ', choices=[Choice(delta=ChoiceDelta(content=' lev', function_call=None, refusal=None, role=None, tool_calls=None), finish_reason=None, index=0, logprobs=None)], created=1737683491, model='gpt-3.5-turbo-0125', object='chat.completion.chunk', service_tier='default', system_fingerprint=None, usage=None)\n",
      "ChatCompletionChunk(id='chatcmpl-At391Q4BwT1lvHuUw6LblNerEMGkQ', choices=[Choice(delta=ChoiceDelta(content='ando', function_call=None, refusal=None, role=None, tool_calls=None), finish_reason=None, index=0, logprobs=None)], created=1737683491, model='gpt-3.5-turbo-0125', object='chat.completion.chunk', service_tier='default', system_fingerprint=None, usage=None)\n",
      "ChatCompletionChunk(id='chatcmpl-At391Q4BwT1lvHuUw6LblNerEMGkQ', choices=[Choice(delta=ChoiceDelta(content=' a', function_call=None, refusal=None, role=None, tool_calls=None), finish_reason=None, index=0, logprobs=None)], created=1737683491, model='gpt-3.5-turbo-0125', object='chat.completion.chunk', service_tier='default', system_fingerprint=None, usage=None)\n",
      "ChatCompletionChunk(id='chatcmpl-At391Q4BwT1lvHuUw6LblNerEMGkQ', choices=[Choice(delta=ChoiceDelta(content=' desc', function_call=None, refusal=None, role=None, tool_calls=None), finish_reason=None, index=0, logprobs=None)], created=1737683491, model='gpt-3.5-turbo-0125', object='chat.completion.chunk', service_tier='default', system_fingerprint=None, usage=None)\n",
      "ChatCompletionChunk(id='chatcmpl-At391Q4BwT1lvHuUw6LblNerEMGkQ', choices=[Choice(delta=ChoiceDelta(content='ob', function_call=None, refusal=None, role=None, tool_calls=None), finish_reason=None, index=0, logprobs=None)], created=1737683491, model='gpt-3.5-turbo-0125', object='chat.completion.chunk', service_tier='default', system_fingerprint=None, usage=None)\n",
      "ChatCompletionChunk(id='chatcmpl-At391Q4BwT1lvHuUw6LblNerEMGkQ', choices=[Choice(delta=ChoiceDelta(content='ertas', function_call=None, refusal=None, role=None, tool_calls=None), finish_reason=None, index=0, logprobs=None)], created=1737683491, model='gpt-3.5-turbo-0125', object='chat.completion.chunk', service_tier='default', system_fingerprint=None, usage=None)\n",
      "ChatCompletionChunk(id='chatcmpl-At391Q4BwT1lvHuUw6LblNerEMGkQ', choices=[Choice(delta=ChoiceDelta(content=' como', function_call=None, refusal=None, role=None, tool_calls=None), finish_reason=None, index=0, logprobs=None)], created=1737683491, model='gpt-3.5-turbo-0125', object='chat.completion.chunk', service_tier='default', system_fingerprint=None, usage=None)\n",
      "ChatCompletionChunk(id='chatcmpl-At391Q4BwT1lvHuUw6LblNerEMGkQ', choices=[Choice(delta=ChoiceDelta(content=' a', function_call=None, refusal=None, role=None, tool_calls=None), finish_reason=None, index=0, logprobs=None)], created=1737683491, model='gpt-3.5-turbo-0125', object='chat.completion.chunk', service_tier='default', system_fingerprint=None, usage=None)\n",
      "ChatCompletionChunk(id='chatcmpl-At391Q4BwT1lvHuUw6LblNerEMGkQ', choices=[Choice(delta=ChoiceDelta(content=' dil', function_call=None, refusal=None, role=None, tool_calls=None), finish_reason=None, index=0, logprobs=None)], created=1737683491, model='gpt-3.5-turbo-0125', object='chat.completion.chunk', service_tier='default', system_fingerprint=None, usage=None)\n",
      "ChatCompletionChunk(id='chatcmpl-At391Q4BwT1lvHuUw6LblNerEMGkQ', choices=[Choice(delta=ChoiceDelta(content='ata', function_call=None, refusal=None, role=None, tool_calls=None), finish_reason=None, index=0, logprobs=None)], created=1737683491, model='gpt-3.5-turbo-0125', object='chat.completion.chunk', service_tier='default', system_fingerprint=None, usage=None)\n",
      "ChatCompletionChunk(id='chatcmpl-At391Q4BwT1lvHuUw6LblNerEMGkQ', choices=[Choice(delta=ChoiceDelta(content='ção', function_call=None, refusal=None, role=None, tool_calls=None), finish_reason=None, index=0, logprobs=None)], created=1737683491, model='gpt-3.5-turbo-0125', object='chat.completion.chunk', service_tier='default', system_fingerprint=None, usage=None)\n",
      "ChatCompletionChunk(id='chatcmpl-At391Q4BwT1lvHuUw6LblNerEMGkQ', choices=[Choice(delta=ChoiceDelta(content=' do', function_call=None, refusal=None, role=None, tool_calls=None), finish_reason=None, index=0, logprobs=None)], created=1737683491, model='gpt-3.5-turbo-0125', object='chat.completion.chunk', service_tier='default', system_fingerprint=None, usage=None)\n",
      "ChatCompletionChunk(id='chatcmpl-At391Q4BwT1lvHuUw6LblNerEMGkQ', choices=[Choice(delta=ChoiceDelta(content=' tempo', function_call=None, refusal=None, role=None, tool_calls=None), finish_reason=None, index=0, logprobs=None)], created=1737683491, model='gpt-3.5-turbo-0125', object='chat.completion.chunk', service_tier='default', system_fingerprint=None, usage=None)\n",
      "ChatCompletionChunk(id='chatcmpl-At391Q4BwT1lvHuUw6LblNerEMGkQ', choices=[Choice(delta=ChoiceDelta(content=',', function_call=None, refusal=None, role=None, tool_calls=None), finish_reason=None, index=0, logprobs=None)], created=1737683491, model='gpt-3.5-turbo-0125', object='chat.completion.chunk', service_tier='default', system_fingerprint=None, usage=None)\n",
      "ChatCompletionChunk(id='chatcmpl-At391Q4BwT1lvHuUw6LblNerEMGkQ', choices=[Choice(delta=ChoiceDelta(content=' a', function_call=None, refusal=None, role=None, tool_calls=None), finish_reason=None, index=0, logprobs=None)], created=1737683491, model='gpt-3.5-turbo-0125', object='chat.completion.chunk', service_tier='default', system_fingerprint=None, usage=None)\n",
      "ChatCompletionChunk(id='chatcmpl-At391Q4BwT1lvHuUw6LblNerEMGkQ', choices=[Choice(delta=ChoiceDelta(content=' contra', function_call=None, refusal=None, role=None, tool_calls=None), finish_reason=None, index=0, logprobs=None)], created=1737683491, model='gpt-3.5-turbo-0125', object='chat.completion.chunk', service_tier='default', system_fingerprint=None, usage=None)\n",
      "ChatCompletionChunk(id='chatcmpl-At391Q4BwT1lvHuUw6LblNerEMGkQ', choices=[Choice(delta=ChoiceDelta(content='ção', function_call=None, refusal=None, role=None, tool_calls=None), finish_reason=None, index=0, logprobs=None)], created=1737683491, model='gpt-3.5-turbo-0125', object='chat.completion.chunk', service_tier='default', system_fingerprint=None, usage=None)\n",
      "ChatCompletionChunk(id='chatcmpl-At391Q4BwT1lvHuUw6LblNerEMGkQ', choices=[Choice(delta=ChoiceDelta(content=' do', function_call=None, refusal=None, role=None, tool_calls=None), finish_reason=None, index=0, logprobs=None)], created=1737683491, model='gpt-3.5-turbo-0125', object='chat.completion.chunk', service_tier='default', system_fingerprint=None, usage=None)\n",
      "ChatCompletionChunk(id='chatcmpl-At391Q4BwT1lvHuUw6LblNerEMGkQ', choices=[Choice(delta=ChoiceDelta(content=' espaço', function_call=None, refusal=None, role=None, tool_calls=None), finish_reason=None, index=0, logprobs=None)], created=1737683491, model='gpt-3.5-turbo-0125', object='chat.completion.chunk', service_tier='default', system_fingerprint=None, usage=None)\n",
      "ChatCompletionChunk(id='chatcmpl-At391Q4BwT1lvHuUw6LblNerEMGkQ', choices=[Choice(delta=ChoiceDelta(content=' e', function_call=None, refusal=None, role=None, tool_calls=None), finish_reason=None, index=0, logprobs=None)], created=1737683491, model='gpt-3.5-turbo-0125', object='chat.completion.chunk', service_tier='default', system_fingerprint=None, usage=None)\n",
      "ChatCompletionChunk(id='chatcmpl-At391Q4BwT1lvHuUw6LblNerEMGkQ', choices=[Choice(delta=ChoiceDelta(content=' a', function_call=None, refusal=None, role=None, tool_calls=None), finish_reason=None, index=0, logprobs=None)], created=1737683491, model='gpt-3.5-turbo-0125', object='chat.completion.chunk', service_tier='default', system_fingerprint=None, usage=None)\n",
      "ChatCompletionChunk(id='chatcmpl-At391Q4BwT1lvHuUw6LblNerEMGkQ', choices=[Choice(delta=ChoiceDelta(content=' equival', function_call=None, refusal=None, role=None, tool_calls=None), finish_reason=None, index=0, logprobs=None)], created=1737683491, model='gpt-3.5-turbo-0125', object='chat.completion.chunk', service_tier='default', system_fingerprint=None, usage=None)\n",
      "ChatCompletionChunk(id='chatcmpl-At391Q4BwT1lvHuUw6LblNerEMGkQ', choices=[Choice(delta=ChoiceDelta(content='ência', function_call=None, refusal=None, role=None, tool_calls=None), finish_reason=None, index=0, logprobs=None)], created=1737683491, model='gpt-3.5-turbo-0125', object='chat.completion.chunk', service_tier='default', system_fingerprint=None, usage=None)\n",
      "ChatCompletionChunk(id='chatcmpl-At391Q4BwT1lvHuUw6LblNerEMGkQ', choices=[Choice(delta=ChoiceDelta(content=' entre', function_call=None, refusal=None, role=None, tool_calls=None), finish_reason=None, index=0, logprobs=None)], created=1737683491, model='gpt-3.5-turbo-0125', object='chat.completion.chunk', service_tier='default', system_fingerprint=None, usage=None)\n",
      "ChatCompletionChunk(id='chatcmpl-At391Q4BwT1lvHuUw6LblNerEMGkQ', choices=[Choice(delta=ChoiceDelta(content=' massa', function_call=None, refusal=None, role=None, tool_calls=None), finish_reason=None, index=0, logprobs=None)], created=1737683491, model='gpt-3.5-turbo-0125', object='chat.completion.chunk', service_tier='default', system_fingerprint=None, usage=None)\n",
      "ChatCompletionChunk(id='chatcmpl-At391Q4BwT1lvHuUw6LblNerEMGkQ', choices=[Choice(delta=ChoiceDelta(content=' e', function_call=None, refusal=None, role=None, tool_calls=None), finish_reason=None, index=0, logprobs=None)], created=1737683491, model='gpt-3.5-turbo-0125', object='chat.completion.chunk', service_tier='default', system_fingerprint=None, usage=None)\n",
      "ChatCompletionChunk(id='chatcmpl-At391Q4BwT1lvHuUw6LblNerEMGkQ', choices=[Choice(delta=ChoiceDelta(content=' energia', function_call=None, refusal=None, role=None, tool_calls=None), finish_reason=None, index=0, logprobs=None)], created=1737683491, model='gpt-3.5-turbo-0125', object='chat.completion.chunk', service_tier='default', system_fingerprint=None, usage=None)\n",
      "ChatCompletionChunk(id='chatcmpl-At391Q4BwT1lvHuUw6LblNerEMGkQ', choices=[Choice(delta=ChoiceDelta(content=' (', function_call=None, refusal=None, role=None, tool_calls=None), finish_reason=None, index=0, logprobs=None)], created=1737683491, model='gpt-3.5-turbo-0125', object='chat.completion.chunk', service_tier='default', system_fingerprint=None, usage=None)\n",
      "ChatCompletionChunk(id='chatcmpl-At391Q4BwT1lvHuUw6LblNerEMGkQ', choices=[Choice(delta=ChoiceDelta(content='E', function_call=None, refusal=None, role=None, tool_calls=None), finish_reason=None, index=0, logprobs=None)], created=1737683491, model='gpt-3.5-turbo-0125', object='chat.completion.chunk', service_tier='default', system_fingerprint=None, usage=None)\n",
      "ChatCompletionChunk(id='chatcmpl-At391Q4BwT1lvHuUw6LblNerEMGkQ', choices=[Choice(delta=ChoiceDelta(content='=', function_call=None, refusal=None, role=None, tool_calls=None), finish_reason=None, index=0, logprobs=None)], created=1737683491, model='gpt-3.5-turbo-0125', object='chat.completion.chunk', service_tier='default', system_fingerprint=None, usage=None)\n",
      "ChatCompletionChunk(id='chatcmpl-At391Q4BwT1lvHuUw6LblNerEMGkQ', choices=[Choice(delta=ChoiceDelta(content='mc', function_call=None, refusal=None, role=None, tool_calls=None), finish_reason=None, index=0, logprobs=None)], created=1737683491, model='gpt-3.5-turbo-0125', object='chat.completion.chunk', service_tier='default', system_fingerprint=None, usage=None)\n",
      "ChatCompletionChunk(id='chatcmpl-At391Q4BwT1lvHuUw6LblNerEMGkQ', choices=[Choice(delta=ChoiceDelta(content='²', function_call=None, refusal=None, role=None, tool_calls=None), finish_reason=None, index=0, logprobs=None)], created=1737683491, model='gpt-3.5-turbo-0125', object='chat.completion.chunk', service_tier='default', system_fingerprint=None, usage=None)\n",
      "ChatCompletionChunk(id='chatcmpl-At391Q4BwT1lvHuUw6LblNerEMGkQ', choices=[Choice(delta=ChoiceDelta(content=').', function_call=None, refusal=None, role=None, tool_calls=None), finish_reason=None, index=0, logprobs=None)], created=1737683491, model='gpt-3.5-turbo-0125', object='chat.completion.chunk', service_tier='default', system_fingerprint=None, usage=None)\n",
      "ChatCompletionChunk(id='chatcmpl-At391Q4BwT1lvHuUw6LblNerEMGkQ', choices=[Choice(delta=ChoiceDelta(content=' El', function_call=None, refusal=None, role=None, tool_calls=None), finish_reason=None, index=0, logprobs=None)], created=1737683491, model='gpt-3.5-turbo-0125', object='chat.completion.chunk', service_tier='default', system_fingerprint=None, usage=None)\n",
      "ChatCompletionChunk(id='chatcmpl-At391Q4BwT1lvHuUw6LblNerEMGkQ', choices=[Choice(delta=ChoiceDelta(content='a', function_call=None, refusal=None, role=None, tool_calls=None), finish_reason=None, index=0, logprobs=None)], created=1737683491, model='gpt-3.5-turbo-0125', object='chat.completion.chunk', service_tier='default', system_fingerprint=None, usage=None)\n",
      "ChatCompletionChunk(id='chatcmpl-At391Q4BwT1lvHuUw6LblNerEMGkQ', choices=[Choice(delta=ChoiceDelta(content=' também', function_call=None, refusal=None, role=None, tool_calls=None), finish_reason=None, index=0, logprobs=None)], created=1737683491, model='gpt-3.5-turbo-0125', object='chat.completion.chunk', service_tier='default', system_fingerprint=None, usage=None)\n",
      "ChatCompletionChunk(id='chatcmpl-At391Q4BwT1lvHuUw6LblNerEMGkQ', choices=[Choice(delta=ChoiceDelta(content=' te', function_call=None, refusal=None, role=None, tool_calls=None), finish_reason=None, index=0, logprobs=None)], created=1737683491, model='gpt-3.5-turbo-0125', object='chat.completion.chunk', service_tier='default', system_fingerprint=None, usage=None)\n",
      "ChatCompletionChunk(id='chatcmpl-At391Q4BwT1lvHuUw6LblNerEMGkQ', choices=[Choice(delta=ChoiceDelta(content='ve', function_call=None, refusal=None, role=None, tool_calls=None), finish_reason=None, index=0, logprobs=None)], created=1737683491, model='gpt-3.5-turbo-0125', object='chat.completion.chunk', service_tier='default', system_fingerprint=None, usage=None)\n",
      "ChatCompletionChunk(id='chatcmpl-At391Q4BwT1lvHuUw6LblNerEMGkQ', choices=[Choice(delta=ChoiceDelta(content=' importantes', function_call=None, refusal=None, role=None, tool_calls=None), finish_reason=None, index=0, logprobs=None)], created=1737683491, model='gpt-3.5-turbo-0125', object='chat.completion.chunk', service_tier='default', system_fingerprint=None, usage=None)\n",
      "ChatCompletionChunk(id='chatcmpl-At391Q4BwT1lvHuUw6LblNerEMGkQ', choices=[Choice(delta=ChoiceDelta(content=' ap', function_call=None, refusal=None, role=None, tool_calls=None), finish_reason=None, index=0, logprobs=None)], created=1737683491, model='gpt-3.5-turbo-0125', object='chat.completion.chunk', service_tier='default', system_fingerprint=None, usage=None)\n",
      "ChatCompletionChunk(id='chatcmpl-At391Q4BwT1lvHuUw6LblNerEMGkQ', choices=[Choice(delta=ChoiceDelta(content='lica', function_call=None, refusal=None, role=None, tool_calls=None), finish_reason=None, index=0, logprobs=None)], created=1737683491, model='gpt-3.5-turbo-0125', object='chat.completion.chunk', service_tier='default', system_fingerprint=None, usage=None)\n",
      "ChatCompletionChunk(id='chatcmpl-At391Q4BwT1lvHuUw6LblNerEMGkQ', choices=[Choice(delta=ChoiceDelta(content='ções', function_call=None, refusal=None, role=None, tool_calls=None), finish_reason=None, index=0, logprobs=None)], created=1737683491, model='gpt-3.5-turbo-0125', object='chat.completion.chunk', service_tier='default', system_fingerprint=None, usage=None)\n",
      "ChatCompletionChunk(id='chatcmpl-At391Q4BwT1lvHuUw6LblNerEMGkQ', choices=[Choice(delta=ChoiceDelta(content=' pr', function_call=None, refusal=None, role=None, tool_calls=None), finish_reason=None, index=0, logprobs=None)], created=1737683491, model='gpt-3.5-turbo-0125', object='chat.completion.chunk', service_tier='default', system_fingerprint=None, usage=None)\n",
      "ChatCompletionChunk(id='chatcmpl-At391Q4BwT1lvHuUw6LblNerEMGkQ', choices=[Choice(delta=ChoiceDelta(content='áticas', function_call=None, refusal=None, role=None, tool_calls=None), finish_reason=None, index=0, logprobs=None)], created=1737683491, model='gpt-3.5-turbo-0125', object='chat.completion.chunk', service_tier='default', system_fingerprint=None, usage=None)\n",
      "ChatCompletionChunk(id='chatcmpl-At391Q4BwT1lvHuUw6LblNerEMGkQ', choices=[Choice(delta=ChoiceDelta(content=',', function_call=None, refusal=None, role=None, tool_calls=None), finish_reason=None, index=0, logprobs=None)], created=1737683491, model='gpt-3.5-turbo-0125', object='chat.completion.chunk', service_tier='default', system_fingerprint=None, usage=None)\n",
      "ChatCompletionChunk(id='chatcmpl-At391Q4BwT1lvHuUw6LblNerEMGkQ', choices=[Choice(delta=ChoiceDelta(content=' como', function_call=None, refusal=None, role=None, tool_calls=None), finish_reason=None, index=0, logprobs=None)], created=1737683491, model='gpt-3.5-turbo-0125', object='chat.completion.chunk', service_tier='default', system_fingerprint=None, usage=None)\n",
      "ChatCompletionChunk(id='chatcmpl-At391Q4BwT1lvHuUw6LblNerEMGkQ', choices=[Choice(delta=ChoiceDelta(content=' na', function_call=None, refusal=None, role=None, tool_calls=None), finish_reason=None, index=0, logprobs=None)], created=1737683491, model='gpt-3.5-turbo-0125', object='chat.completion.chunk', service_tier='default', system_fingerprint=None, usage=None)\n",
      "ChatCompletionChunk(id='chatcmpl-At391Q4BwT1lvHuUw6LblNerEMGkQ', choices=[Choice(delta=ChoiceDelta(content=' explic', function_call=None, refusal=None, role=None, tool_calls=None), finish_reason=None, index=0, logprobs=None)], created=1737683491, model='gpt-3.5-turbo-0125', object='chat.completion.chunk', service_tier='default', system_fingerprint=None, usage=None)\n",
      "ChatCompletionChunk(id='chatcmpl-At391Q4BwT1lvHuUw6LblNerEMGkQ', choices=[Choice(delta=ChoiceDelta(content='ação', function_call=None, refusal=None, role=None, tool_calls=None), finish_reason=None, index=0, logprobs=None)], created=1737683491, model='gpt-3.5-turbo-0125', object='chat.completion.chunk', service_tier='default', system_fingerprint=None, usage=None)\n",
      "ChatCompletionChunk(id='chatcmpl-At391Q4BwT1lvHuUw6LblNerEMGkQ', choices=[Choice(delta=ChoiceDelta(content=' do', function_call=None, refusal=None, role=None, tool_calls=None), finish_reason=None, index=0, logprobs=None)], created=1737683491, model='gpt-3.5-turbo-0125', object='chat.completion.chunk', service_tier='default', system_fingerprint=None, usage=None)\n",
      "ChatCompletionChunk(id='chatcmpl-At391Q4BwT1lvHuUw6LblNerEMGkQ', choices=[Choice(delta=ChoiceDelta(content=' funcion', function_call=None, refusal=None, role=None, tool_calls=None), finish_reason=None, index=0, logprobs=None)], created=1737683491, model='gpt-3.5-turbo-0125', object='chat.completion.chunk', service_tier='default', system_fingerprint=None, usage=None)\n",
      "ChatCompletionChunk(id='chatcmpl-At391Q4BwT1lvHuUw6LblNerEMGkQ', choices=[Choice(delta=ChoiceDelta(content='amento', function_call=None, refusal=None, role=None, tool_calls=None), finish_reason=None, index=0, logprobs=None)], created=1737683491, model='gpt-3.5-turbo-0125', object='chat.completion.chunk', service_tier='default', system_fingerprint=None, usage=None)\n",
      "ChatCompletionChunk(id='chatcmpl-At391Q4BwT1lvHuUw6LblNerEMGkQ', choices=[Choice(delta=ChoiceDelta(content=' dos', function_call=None, refusal=None, role=None, tool_calls=None), finish_reason=None, index=0, logprobs=None)], created=1737683491, model='gpt-3.5-turbo-0125', object='chat.completion.chunk', service_tier='default', system_fingerprint=None, usage=None)\n",
      "ChatCompletionChunk(id='chatcmpl-At391Q4BwT1lvHuUw6LblNerEMGkQ', choices=[Choice(delta=ChoiceDelta(content=' GPS', function_call=None, refusal=None, role=None, tool_calls=None), finish_reason=None, index=0, logprobs=None)], created=1737683491, model='gpt-3.5-turbo-0125', object='chat.completion.chunk', service_tier='default', system_fingerprint=None, usage=None)\n",
      "ChatCompletionChunk(id='chatcmpl-At391Q4BwT1lvHuUw6LblNerEMGkQ', choices=[Choice(delta=ChoiceDelta(content=' e', function_call=None, refusal=None, role=None, tool_calls=None), finish_reason=None, index=0, logprobs=None)], created=1737683491, model='gpt-3.5-turbo-0125', object='chat.completion.chunk', service_tier='default', system_fingerprint=None, usage=None)\n",
      "ChatCompletionChunk(id='chatcmpl-At391Q4BwT1lvHuUw6LblNerEMGkQ', choices=[Choice(delta=ChoiceDelta(content=' na', function_call=None, refusal=None, role=None, tool_calls=None), finish_reason=None, index=0, logprobs=None)], created=1737683491, model='gpt-3.5-turbo-0125', object='chat.completion.chunk', service_tier='default', system_fingerprint=None, usage=None)\n",
      "ChatCompletionChunk(id='chatcmpl-At391Q4BwT1lvHuUw6LblNerEMGkQ', choices=[Choice(delta=ChoiceDelta(content=' pre', function_call=None, refusal=None, role=None, tool_calls=None), finish_reason=None, index=0, logprobs=None)], created=1737683491, model='gpt-3.5-turbo-0125', object='chat.completion.chunk', service_tier='default', system_fingerprint=None, usage=None)\n",
      "ChatCompletionChunk(id='chatcmpl-At391Q4BwT1lvHuUw6LblNerEMGkQ', choices=[Choice(delta=ChoiceDelta(content='vis', function_call=None, refusal=None, role=None, tool_calls=None), finish_reason=None, index=0, logprobs=None)], created=1737683491, model='gpt-3.5-turbo-0125', object='chat.completion.chunk', service_tier='default', system_fingerprint=None, usage=None)\n",
      "ChatCompletionChunk(id='chatcmpl-At391Q4BwT1lvHuUw6LblNerEMGkQ', choices=[Choice(delta=ChoiceDelta(content='ão', function_call=None, refusal=None, role=None, tool_calls=None), finish_reason=None, index=0, logprobs=None)], created=1737683491, model='gpt-3.5-turbo-0125', object='chat.completion.chunk', service_tier='default', system_fingerprint=None, usage=None)\n",
      "ChatCompletionChunk(id='chatcmpl-At391Q4BwT1lvHuUw6LblNerEMGkQ', choices=[Choice(delta=ChoiceDelta(content=' de', function_call=None, refusal=None, role=None, tool_calls=None), finish_reason=None, index=0, logprobs=None)], created=1737683491, model='gpt-3.5-turbo-0125', object='chat.completion.chunk', service_tier='default', system_fingerprint=None, usage=None)\n",
      "ChatCompletionChunk(id='chatcmpl-At391Q4BwT1lvHuUw6LblNerEMGkQ', choices=[Choice(delta=ChoiceDelta(content=' fen', function_call=None, refusal=None, role=None, tool_calls=None), finish_reason=None, index=0, logprobs=None)], created=1737683491, model='gpt-3.5-turbo-0125', object='chat.completion.chunk', service_tier='default', system_fingerprint=None, usage=None)\n",
      "ChatCompletionChunk(id='chatcmpl-At391Q4BwT1lvHuUw6LblNerEMGkQ', choices=[Choice(delta=ChoiceDelta(content='ô', function_call=None, refusal=None, role=None, tool_calls=None), finish_reason=None, index=0, logprobs=None)], created=1737683491, model='gpt-3.5-turbo-0125', object='chat.completion.chunk', service_tier='default', system_fingerprint=None, usage=None)\n",
      "ChatCompletionChunk(id='chatcmpl-At391Q4BwT1lvHuUw6LblNerEMGkQ', choices=[Choice(delta=ChoiceDelta(content='men', function_call=None, refusal=None, role=None, tool_calls=None), finish_reason=None, index=0, logprobs=None)], created=1737683491, model='gpt-3.5-turbo-0125', object='chat.completion.chunk', service_tier='default', system_fingerprint=None, usage=None)\n",
      "ChatCompletionChunk(id='chatcmpl-At391Q4BwT1lvHuUw6LblNerEMGkQ', choices=[Choice(delta=ChoiceDelta(content='os', function_call=None, refusal=None, role=None, tool_calls=None), finish_reason=None, index=0, logprobs=None)], created=1737683491, model='gpt-3.5-turbo-0125', object='chat.completion.chunk', service_tier='default', system_fingerprint=None, usage=None)\n",
      "ChatCompletionChunk(id='chatcmpl-At391Q4BwT1lvHuUw6LblNerEMGkQ', choices=[Choice(delta=ChoiceDelta(content=' como', function_call=None, refusal=None, role=None, tool_calls=None), finish_reason=None, index=0, logprobs=None)], created=1737683491, model='gpt-3.5-turbo-0125', object='chat.completion.chunk', service_tier='default', system_fingerprint=None, usage=None)\n",
      "ChatCompletionChunk(id='chatcmpl-At391Q4BwT1lvHuUw6LblNerEMGkQ', choices=[Choice(delta=ChoiceDelta(content=' a', function_call=None, refusal=None, role=None, tool_calls=None), finish_reason=None, index=0, logprobs=None)], created=1737683491, model='gpt-3.5-turbo-0125', object='chat.completion.chunk', service_tier='default', system_fingerprint=None, usage=None)\n",
      "ChatCompletionChunk(id='chatcmpl-At391Q4BwT1lvHuUw6LblNerEMGkQ', choices=[Choice(delta=ChoiceDelta(content=' exist', function_call=None, refusal=None, role=None, tool_calls=None), finish_reason=None, index=0, logprobs=None)], created=1737683491, model='gpt-3.5-turbo-0125', object='chat.completion.chunk', service_tier='default', system_fingerprint=None, usage=None)\n",
      "ChatCompletionChunk(id='chatcmpl-At391Q4BwT1lvHuUw6LblNerEMGkQ', choices=[Choice(delta=ChoiceDelta(content='ência', function_call=None, refusal=None, role=None, tool_calls=None), finish_reason=None, index=0, logprobs=None)], created=1737683491, model='gpt-3.5-turbo-0125', object='chat.completion.chunk', service_tier='default', system_fingerprint=None, usage=None)\n",
      "ChatCompletionChunk(id='chatcmpl-At391Q4BwT1lvHuUw6LblNerEMGkQ', choices=[Choice(delta=ChoiceDelta(content=' de', function_call=None, refusal=None, role=None, tool_calls=None), finish_reason=None, index=0, logprobs=None)], created=1737683491, model='gpt-3.5-turbo-0125', object='chat.completion.chunk', service_tier='default', system_fingerprint=None, usage=None)\n",
      "ChatCompletionChunk(id='chatcmpl-At391Q4BwT1lvHuUw6LblNerEMGkQ', choices=[Choice(delta=ChoiceDelta(content=' bur', function_call=None, refusal=None, role=None, tool_calls=None), finish_reason=None, index=0, logprobs=None)], created=1737683491, model='gpt-3.5-turbo-0125', object='chat.completion.chunk', service_tier='default', system_fingerprint=None, usage=None)\n",
      "ChatCompletionChunk(id='chatcmpl-At391Q4BwT1lvHuUw6LblNerEMGkQ', choices=[Choice(delta=ChoiceDelta(content='acos', function_call=None, refusal=None, role=None, tool_calls=None), finish_reason=None, index=0, logprobs=None)], created=1737683491, model='gpt-3.5-turbo-0125', object='chat.completion.chunk', service_tier='default', system_fingerprint=None, usage=None)\n",
      "ChatCompletionChunk(id='chatcmpl-At391Q4BwT1lvHuUw6LblNerEMGkQ', choices=[Choice(delta=ChoiceDelta(content=' neg', function_call=None, refusal=None, role=None, tool_calls=None), finish_reason=None, index=0, logprobs=None)], created=1737683491, model='gpt-3.5-turbo-0125', object='chat.completion.chunk', service_tier='default', system_fingerprint=None, usage=None)\n",
      "ChatCompletionChunk(id='chatcmpl-At391Q4BwT1lvHuUw6LblNerEMGkQ', choices=[Choice(delta=ChoiceDelta(content='ros', function_call=None, refusal=None, role=None, tool_calls=None), finish_reason=None, index=0, logprobs=None)], created=1737683491, model='gpt-3.5-turbo-0125', object='chat.completion.chunk', service_tier='default', system_fingerprint=None, usage=None)\n",
      "ChatCompletionChunk(id='chatcmpl-At391Q4BwT1lvHuUw6LblNerEMGkQ', choices=[Choice(delta=ChoiceDelta(content=' e', function_call=None, refusal=None, role=None, tool_calls=None), finish_reason=None, index=0, logprobs=None)], created=1737683491, model='gpt-3.5-turbo-0125', object='chat.completion.chunk', service_tier='default', system_fingerprint=None, usage=None)\n",
      "ChatCompletionChunk(id='chatcmpl-At391Q4BwT1lvHuUw6LblNerEMGkQ', choices=[Choice(delta=ChoiceDelta(content=' on', function_call=None, refusal=None, role=None, tool_calls=None), finish_reason=None, index=0, logprobs=None)], created=1737683491, model='gpt-3.5-turbo-0125', object='chat.completion.chunk', service_tier='default', system_fingerprint=None, usage=None)\n",
      "ChatCompletionChunk(id='chatcmpl-At391Q4BwT1lvHuUw6LblNerEMGkQ', choices=[Choice(delta=ChoiceDelta(content='das', function_call=None, refusal=None, role=None, tool_calls=None), finish_reason=None, index=0, logprobs=None)], created=1737683491, model='gpt-3.5-turbo-0125', object='chat.completion.chunk', service_tier='default', system_fingerprint=None, usage=None)\n",
      "ChatCompletionChunk(id='chatcmpl-At391Q4BwT1lvHuUw6LblNerEMGkQ', choices=[Choice(delta=ChoiceDelta(content=' grav', function_call=None, refusal=None, role=None, tool_calls=None), finish_reason=None, index=0, logprobs=None)], created=1737683491, model='gpt-3.5-turbo-0125', object='chat.completion.chunk', service_tier='default', system_fingerprint=None, usage=None)\n",
      "ChatCompletionChunk(id='chatcmpl-At391Q4BwT1lvHuUw6LblNerEMGkQ', choices=[Choice(delta=ChoiceDelta(content='it', function_call=None, refusal=None, role=None, tool_calls=None), finish_reason=None, index=0, logprobs=None)], created=1737683491, model='gpt-3.5-turbo-0125', object='chat.completion.chunk', service_tier='default', system_fingerprint=None, usage=None)\n",
      "ChatCompletionChunk(id='chatcmpl-At391Q4BwT1lvHuUw6LblNerEMGkQ', choices=[Choice(delta=ChoiceDelta(content='acion', function_call=None, refusal=None, role=None, tool_calls=None), finish_reason=None, index=0, logprobs=None)], created=1737683491, model='gpt-3.5-turbo-0125', object='chat.completion.chunk', service_tier='default', system_fingerprint=None, usage=None)\n",
      "ChatCompletionChunk(id='chatcmpl-At391Q4BwT1lvHuUw6LblNerEMGkQ', choices=[Choice(delta=ChoiceDelta(content='ais', function_call=None, refusal=None, role=None, tool_calls=None), finish_reason=None, index=0, logprobs=None)], created=1737683491, model='gpt-3.5-turbo-0125', object='chat.completion.chunk', service_tier='default', system_fingerprint=None, usage=None)\n",
      "ChatCompletionChunk(id='chatcmpl-At391Q4BwT1lvHuUw6LblNerEMGkQ', choices=[Choice(delta=ChoiceDelta(content='.', function_call=None, refusal=None, role=None, tool_calls=None), finish_reason=None, index=0, logprobs=None)], created=1737683491, model='gpt-3.5-turbo-0125', object='chat.completion.chunk', service_tier='default', system_fingerprint=None, usage=None)\n",
      "ChatCompletionChunk(id='chatcmpl-At391Q4BwT1lvHuUw6LblNerEMGkQ', choices=[Choice(delta=ChoiceDelta(content=None, function_call=None, refusal=None, role=None, tool_calls=None), finish_reason='stop', index=0, logprobs=None)], created=1737683491, model='gpt-3.5-turbo-0125', object='chat.completion.chunk', service_tier='default', system_fingerprint=None, usage=None)\n"
     ]
    }
   ],
   "source": [
    "for chunks in resposta:\n",
    "    print(chunks)"
   ]
  },
  {
   "cell_type": "markdown",
   "id": "1ce969e0",
   "metadata": {},
   "source": [
    "Repare, leia os choices e o atributo \"delta\" depois \"content\". São vários pedaços de texto.\n",
    "\n",
    "Ok, então não basta printar o chunk. Pois o chunk seria o próprio objeto resposta mas apenas para um chunk!"
   ]
  },
  {
   "cell_type": "code",
   "execution_count": 28,
   "id": "f1763937",
   "metadata": {},
   "outputs": [
    {
     "name": "stdout",
     "output_type": "stream",
     "text": [
      "A teoria da relatividade é uma das teorias mais importantes da física moderna, proposta por Albert Einstein no início do século XX. Ela é composta por duas partes: a teoria da relatividade restrita e a teoria da relatividade geral.\n",
      "\n",
      "A teoria da relatividade restrita, proposta por Einstein em 1905, postula que as leis da física são as mesmas para todos os observadores que se movem em velocidades constantes em relação uns aos outros. Isso significa que não existe um referencial absoluto no universo e que o tempo, o espaço e a massa são relativos, dependendo da velocidade do observador.\n",
      "\n",
      "Já a teoria da relatividade geral, proposta por Einstein em 1915, descreve a gravidade como a curvatura do espaço-tempo causada pela presença de massa e energia. Segundo essa teoria, corpos massivos como planetas e estrelas curvam o espaço ao seu redor, criando o que chamamos de campo gravitacional.\n",
      "\n",
      "A teoria da relatividade revolucionou a forma como entendemos o universo e teve importantes consequências práticas, como a previsão da existência de buracos negros, a explicação da dilatação do tempo e a confirmação da existência de ondas gravitacionais. Ela também é a base da física moderna e influenciou diversas áreas do conhecimento, como a cosmologia e a astrofísica."
     ]
    }
   ],
   "source": [
    "mensagem = [{'role':'user', 'content': 'me fale sobre a teoria da relatividade'}]\n",
    "\n",
    "resposta = client.chat.completions.create(\n",
    "    messages=mensagem,\n",
    "    model = 'gpt-3.5-turbo-0125',\n",
    "    max_tokens=1000,\n",
    "    temperature=0,\n",
    "    stream = True\n",
    ")\n",
    "\n",
    "\n",
    "#### obtendo o texto em si\n",
    "for chunks in resposta:\n",
    "    pedaco_de_texto = chunks.choices[0].delta.content\n",
    "    if pedaco_de_texto != None: ## o último content tem esse \"none\" não sei porque\n",
    "        print(pedaco_de_texto, end = '')\n"
   ]
  },
  {
   "cell_type": "markdown",
   "id": "6cc5bef1",
   "metadata": {},
   "source": [
    "Beleza, e agora, se eu quiser salvar esse texto em uma variável? Vamos lá!"
   ]
  },
  {
   "cell_type": "code",
   "execution_count": 32,
   "id": "e6e2229a",
   "metadata": {},
   "outputs": [
    {
     "name": "stdout",
     "output_type": "stream",
     "text": [
      "A teoria da relatividade é uma das teorias mais importantes da física moderna, proposta por Albert Einstein no início do século XX. Ela é composta por duas partes: a teoria da relatividade restrita e a teoria da relatividade geral.\n",
      "\n",
      "A teoria da relatividade restrita, proposta por Einstein em 1905, estabelece que as leis da física são as mesmas para todos os observadores que se movem a uma velocidade constante em relação uns aos outros. Isso significa que não existe um referencial absoluto no universo e que o tempo, o espaço e a massa são relativos, dependendo da velocidade do observador.\n",
      "\n",
      "Já a teoria da relatividade geral, proposta por Einstein em 1915, descreve a gravidade como a curvatura do espaço-tempo causada pela presença de massa e energia. Segundo essa teoria, corpos massivos como planetas e estrelas curvam o espaço ao seu redor, o que faz com que outros corpos se movam ao longo dessa curvatura, seguindo trajetórias curvas.\n",
      "\n",
      "A teoria da relatividade revolucionou a física ao propor uma nova maneira de entender o universo, levando a descobertas como a dilatação do tempo, a contração do espaço e a equivalência entre massa e energia (E=mc²). Ela também teve importantes aplicações práticas, como na previsão da existência de buracos negros e na explicação da expansão do universo."
     ]
    }
   ],
   "source": [
    "mensagem = [{'role':'user', 'content': 'me fale sobre a teoria da relatividade'}]\n",
    "\n",
    "resposta = client.chat.completions.create(\n",
    "    messages=mensagem,\n",
    "    model = 'gpt-3.5-turbo-0125',\n",
    "    max_tokens=4000,\n",
    "    temperature=0,\n",
    "    stream = True\n",
    ")\n",
    "\n",
    "\n",
    "#### obtendo o texto em si\n",
    "Rfinal = ''\n",
    "for chunks in resposta:\n",
    "    pedaco_de_texto = chunks.choices[0].delta.content\n",
    "    if pedaco_de_texto != None: ## o último content tem esse \"none\" não sei porque\n",
    "        Rfinal += pedaco_de_texto\n",
    "        print(pedaco_de_texto, end = '')\n"
   ]
  },
  {
   "cell_type": "code",
   "execution_count": 30,
   "id": "1ffc32be",
   "metadata": {},
   "outputs": [
    {
     "data": {
      "text/plain": [
       "'A teoria da relatividade é uma das teorias mais importantes da física moderna, proposta por Albert Einstein no início do século XX. Ela é composta por duas partes: a teoria da relatividade restrita e a teoria da relatividade geral.\\n\\nA teoria da relatividade restrita, proposta por Einstein em 1905, revolucionou a forma como entendemos o espaço e o tempo. Ela postula que as leis da física são as mesmas para todos os observadores em movimento uniforme, independentemente da velocidade relativa entre eles. Isso significa que não existe um \"tempo absoluto\" ou um \"espaço absoluto\", mas sim que o tempo e o espaço são relativos e dependem do observador.\\n\\nJá a teoria da relatividade geral, proposta por Einstein em 1915, descreve a gravidade como a curvatura do espaço-tempo causada pela presença de massa e energia. Segundo essa teoria, corpos massivos como planetas e estrelas curvam o espaço ao seu redor, o que faz com que outros corpos se movam ao longo de trajetórias curvas.\\n\\nA teoria da relatividade tem sido confirmada por inúmeras experiências e observações ao longo dos anos, e é fundamental para a compreensão de fenômenos como a dilatação do tempo, a contração do espaço, a equivalência entre massa e energia (E=mc²) e a formação de buracos negros.\\n\\nEm resumo, a teoria da relatividade de Einstein mudou para sempre a forma como entendemos o universo e continua sendo uma das teorias mais bem-sucedidas e influentes da física moderna.'"
      ]
     },
     "execution_count": 30,
     "metadata": {},
     "output_type": "execute_result"
    }
   ],
   "source": [
    "Rfinal"
   ]
  }
 ],
 "metadata": {
  "kernelspec": {
   "display_name": "Python 3 (ipykernel)",
   "language": "python",
   "name": "python3"
  },
  "language_info": {
   "codemirror_mode": {
    "name": "ipython",
    "version": 3
   },
   "file_extension": ".py",
   "mimetype": "text/x-python",
   "name": "python",
   "nbconvert_exporter": "python",
   "pygments_lexer": "ipython3",
   "version": "3.9.13"
  }
 },
 "nbformat": 4,
 "nbformat_minor": 5
}
